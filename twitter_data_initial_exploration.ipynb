{
 "cells": [
  {
   "cell_type": "markdown",
   "metadata": {},
   "source": [
    "# Data Exploration "
   ]
  },
  {
   "cell_type": "code",
   "execution_count": 1,
   "metadata": {},
   "outputs": [],
   "source": [
    "import pandas as pd\n",
    "\n",
    "df = pd.read_json('data/sample_output_json.json ', lines=True)\n",
    "# Convert 'date' column to datetime with the correct format\n",
    "df['date'] = pd.to_datetime(df['date'], format='%d/%m/%Y')\n"
   ]
  },
  {
   "cell_type": "code",
   "execution_count": 2,
   "metadata": {},
   "outputs": [
    {
     "data": {
      "text/plain": [
       "(Timestamp('2021-06-04 00:00:00'), Timestamp('2024-03-01 00:00:00'))"
      ]
     },
     "execution_count": 2,
     "metadata": {},
     "output_type": "execute_result"
    }
   ],
   "source": [
    "df.date.min(), df.date.max()"
   ]
  },
  {
   "cell_type": "code",
   "execution_count": 17,
   "metadata": {},
   "outputs": [
    {
     "data": {
      "text/plain": [
       "{'text': {0: 'Towards Long Context RAG \\n\\nGemini 1.5 Pro is impressive. Naturally this begs this question of what RAG will look like in a long-context LLM future - which techniques will disappear and which will remain?\\n\\nWe did a deep dive into Gemini, and consolidated our thinking about…',\n",
       "  1: 'LayerDiffusion 这个可以直接生成透明背景图片的项目已经可以在forge的扩展上使用了，试了一下确实非常牛批。\\n\\n不仅支持直接生成透明的图片元素，还支持在已有图片上生成跟环境融合的透明图片，这个就可以做很多事情了。\\n\\n不得不怀疑老哥只支持forge是为了推广他的项目，哈哈…'},\n",
       " 'author_name': {0: 'LlamaIndex', 1: '歸藏'},\n",
       " 'author_handle': {0: '@llama_index', 1: '@op7418'},\n",
       " 'date': {0: Timestamp('2024-03-01 00:00:00'),\n",
       "  1: Timestamp('2024-03-01 00:00:00')},\n",
       " 'lang': {0: 'en', 1: 'zh'},\n",
       " 'url': {0: 'https://twitter.com/llama_index/status/1763620476847632744',\n",
       "  1: 'https://twitter.com/op7418/status/1763563619193856252'},\n",
       " 'mentioned_urls': {0: [], 1: []},\n",
       " 'is_retweet': {0: False, 1: False},\n",
       " 'media_type': {0: 'Image', 1: 'Video'},\n",
       " 'images_urls': {0: ['https://pbs.twimg.com/media/GHmjUsMaEAA5hRQ?format=png&name=900x900'],\n",
       "  1: None},\n",
       " 'num_reply': {0: 3, 1: 7},\n",
       " 'num_retweet': {0: 69, 1: 71},\n",
       " 'num_like': {0: 298, 1: 267},\n",
       " 'num_view': {0: 0, 1: 0},\n",
       " 'WeekdayName': {0: 'Friday', 1: 'Friday'},\n",
       " 'WeekdayNumber': {0: 4, 1: 4}}"
      ]
     },
     "execution_count": 17,
     "metadata": {},
     "output_type": "execute_result"
    }
   ],
   "source": [
    "df.head(2).to_dict()"
   ]
  },
  {
   "cell_type": "code",
   "execution_count": 3,
   "metadata": {},
   "outputs": [
    {
     "data": {
      "text/html": [
       "<div>\n",
       "<style scoped>\n",
       "    .dataframe tbody tr th:only-of-type {\n",
       "        vertical-align: middle;\n",
       "    }\n",
       "\n",
       "    .dataframe tbody tr th {\n",
       "        vertical-align: top;\n",
       "    }\n",
       "\n",
       "    .dataframe thead th {\n",
       "        text-align: right;\n",
       "    }\n",
       "</style>\n",
       "<table border=\"1\" class=\"dataframe\">\n",
       "  <thead>\n",
       "    <tr style=\"text-align: right;\">\n",
       "      <th></th>\n",
       "      <th>text</th>\n",
       "      <th>author_name</th>\n",
       "      <th>author_handle</th>\n",
       "      <th>date</th>\n",
       "      <th>lang</th>\n",
       "      <th>url</th>\n",
       "      <th>mentioned_urls</th>\n",
       "      <th>is_retweet</th>\n",
       "      <th>media_type</th>\n",
       "      <th>images_urls</th>\n",
       "      <th>num_reply</th>\n",
       "      <th>num_retweet</th>\n",
       "      <th>num_like</th>\n",
       "      <th>num_view</th>\n",
       "    </tr>\n",
       "  </thead>\n",
       "  <tbody>\n",
       "    <tr>\n",
       "      <th>660</th>\n",
       "      <td>BEIR is a *zero-shot test* set. It’s not meant...</td>\n",
       "      <td>Omar Khattab</td>\n",
       "      <td>@lateinteraction</td>\n",
       "      <td>2023-07-16</td>\n",
       "      <td>en</td>\n",
       "      <td>https://twitter.com/lateinteraction/status/168...</td>\n",
       "      <td>[]</td>\n",
       "      <td>False</td>\n",
       "      <td>No media</td>\n",
       "      <td>None</td>\n",
       "      <td>2</td>\n",
       "      <td>1</td>\n",
       "      <td>33</td>\n",
       "      <td>0</td>\n",
       "    </tr>\n",
       "    <tr>\n",
       "      <th>484</th>\n",
       "      <td></td>\n",
       "      <td>Out Of Context Football</td>\n",
       "      <td>@nocontextfooty</td>\n",
       "      <td>2023-09-25</td>\n",
       "      <td></td>\n",
       "      <td>https://twitter.com/nocontextfooty/status/1706...</td>\n",
       "      <td>[]</td>\n",
       "      <td>False</td>\n",
       "      <td>Video</td>\n",
       "      <td>None</td>\n",
       "      <td>367</td>\n",
       "      <td>6482</td>\n",
       "      <td>85899</td>\n",
       "      <td>0</td>\n",
       "    </tr>\n",
       "    <tr>\n",
       "      <th>379</th>\n",
       "      <td>Here's my conversation with \\n@elonmusk\\n, his...</td>\n",
       "      <td>Lex Fridman</td>\n",
       "      <td>@lexfridman</td>\n",
       "      <td>2023-11-09</td>\n",
       "      <td>en</td>\n",
       "      <td>https://twitter.com/lexfridman/status/17226860...</td>\n",
       "      <td>[]</td>\n",
       "      <td>False</td>\n",
       "      <td>Video</td>\n",
       "      <td>None</td>\n",
       "      <td>3153</td>\n",
       "      <td>6709</td>\n",
       "      <td>34571</td>\n",
       "      <td>0</td>\n",
       "    </tr>\n",
       "    <tr>\n",
       "      <th>395</th>\n",
       "      <td></td>\n",
       "      <td>gaut</td>\n",
       "      <td>@0xgaut</td>\n",
       "      <td>2023-11-03</td>\n",
       "      <td></td>\n",
       "      <td>https://twitter.com/0xgaut/status/172053180438...</td>\n",
       "      <td>[]</td>\n",
       "      <td>False</td>\n",
       "      <td>Image</td>\n",
       "      <td>[https://pbs.twimg.com/media/F-COjmwXAAEHzyB?f...</td>\n",
       "      <td>311</td>\n",
       "      <td>1450</td>\n",
       "      <td>11053</td>\n",
       "      <td>0</td>\n",
       "    </tr>\n",
       "    <tr>\n",
       "      <th>138</th>\n",
       "      <td>Azure 的 zh-CN-XiaoxiaoDialectsNeural 这个语音是同一个人...</td>\n",
       "      <td>LE</td>\n",
       "      <td>@lewangx</td>\n",
       "      <td>2024-01-16</td>\n",
       "      <td>zh</td>\n",
       "      <td>https://twitter.com/lewangx/status/17471196773...</td>\n",
       "      <td>[]</td>\n",
       "      <td>False</td>\n",
       "      <td>Video</td>\n",
       "      <td>None</td>\n",
       "      <td>9</td>\n",
       "      <td>62</td>\n",
       "      <td>193</td>\n",
       "      <td>0</td>\n",
       "    </tr>\n",
       "    <tr>\n",
       "      <th>563</th>\n",
       "      <td>みなとみらいでポケモンドローンのタイムラプス</td>\n",
       "      <td>k_kinukawa</td>\n",
       "      <td>@k_kinukawa</td>\n",
       "      <td>2023-08-11</td>\n",
       "      <td>ja</td>\n",
       "      <td>https://twitter.com/k_kinukawa/status/16899922...</td>\n",
       "      <td>[]</td>\n",
       "      <td>False</td>\n",
       "      <td>Video</td>\n",
       "      <td>None</td>\n",
       "      <td>42</td>\n",
       "      <td>19295</td>\n",
       "      <td>88132</td>\n",
       "      <td>0</td>\n",
       "    </tr>\n",
       "    <tr>\n",
       "      <th>739</th>\n",
       "      <td>Every science and tech person who is currently...</td>\n",
       "      <td>Yishan</td>\n",
       "      <td>@yishan</td>\n",
       "      <td>2023-06-19</td>\n",
       "      <td>en</td>\n",
       "      <td>https://twitter.com/yishan/status/167061296506...</td>\n",
       "      <td>[]</td>\n",
       "      <td>False</td>\n",
       "      <td>No media</td>\n",
       "      <td>None</td>\n",
       "      <td>607</td>\n",
       "      <td>224</td>\n",
       "      <td>1420</td>\n",
       "      <td>0</td>\n",
       "    </tr>\n",
       "  </tbody>\n",
       "</table>\n",
       "</div>"
      ],
      "text/plain": [
       "                                                  text  \\\n",
       "660  BEIR is a *zero-shot test* set. It’s not meant...   \n",
       "484                                                      \n",
       "379  Here's my conversation with \\n@elonmusk\\n, his...   \n",
       "395                                                      \n",
       "138  Azure 的 zh-CN-XiaoxiaoDialectsNeural 这个语音是同一个人...   \n",
       "563                             みなとみらいでポケモンドローンのタイムラプス   \n",
       "739  Every science and tech person who is currently...   \n",
       "\n",
       "                 author_name     author_handle       date lang  \\\n",
       "660             Omar Khattab  @lateinteraction 2023-07-16   en   \n",
       "484  Out Of Context Football   @nocontextfooty 2023-09-25        \n",
       "379              Lex Fridman       @lexfridman 2023-11-09   en   \n",
       "395                     gaut           @0xgaut 2023-11-03        \n",
       "138                       LE          @lewangx 2024-01-16   zh   \n",
       "563               k_kinukawa       @k_kinukawa 2023-08-11   ja   \n",
       "739                   Yishan           @yishan 2023-06-19   en   \n",
       "\n",
       "                                                   url mentioned_urls  \\\n",
       "660  https://twitter.com/lateinteraction/status/168...             []   \n",
       "484  https://twitter.com/nocontextfooty/status/1706...             []   \n",
       "379  https://twitter.com/lexfridman/status/17226860...             []   \n",
       "395  https://twitter.com/0xgaut/status/172053180438...             []   \n",
       "138  https://twitter.com/lewangx/status/17471196773...             []   \n",
       "563  https://twitter.com/k_kinukawa/status/16899922...             []   \n",
       "739  https://twitter.com/yishan/status/167061296506...             []   \n",
       "\n",
       "     is_retweet media_type                                        images_urls  \\\n",
       "660       False   No media                                               None   \n",
       "484       False      Video                                               None   \n",
       "379       False      Video                                               None   \n",
       "395       False      Image  [https://pbs.twimg.com/media/F-COjmwXAAEHzyB?f...   \n",
       "138       False      Video                                               None   \n",
       "563       False      Video                                               None   \n",
       "739       False   No media                                               None   \n",
       "\n",
       "     num_reply  num_retweet  num_like  num_view  \n",
       "660          2            1        33         0  \n",
       "484        367         6482     85899         0  \n",
       "379       3153         6709     34571         0  \n",
       "395        311         1450     11053         0  \n",
       "138          9           62       193         0  \n",
       "563         42        19295     88132         0  \n",
       "739        607          224      1420         0  "
      ]
     },
     "execution_count": 3,
     "metadata": {},
     "output_type": "execute_result"
    }
   ],
   "source": [
    "df.sample(7)"
   ]
  },
  {
   "cell_type": "code",
   "execution_count": 4,
   "metadata": {},
   "outputs": [
    {
     "data": {
      "text/plain": [
       "author_name\n",
       "Jim Fan         23\n",
       "Jerry Liu       20\n",
       "Yann LeCun      19\n",
       "Science girl    18\n",
       "Massimo         17\n",
       "Name: count, dtype: int64"
      ]
     },
     "execution_count": 4,
     "metadata": {},
     "output_type": "execute_result"
    }
   ],
   "source": [
    "df.author_name.value_counts().head(5)"
   ]
  },
  {
   "cell_type": "markdown",
   "metadata": {},
   "source": [
    "## Plots\n",
    "Few basic plots."
   ]
  },
  {
   "cell_type": "code",
   "execution_count": 5,
   "metadata": {},
   "outputs": [
    {
     "name": "stderr",
     "output_type": "stream",
     "text": [
      "C:\\Users\\zjxen\\AppData\\Local\\Temp\\ipykernel_46600\\3397730805.py:9: SettingWithCopyWarning: \n",
      "A value is trying to be set on a copy of a slice from a DataFrame.\n",
      "Try using .loc[row_indexer,col_indexer] = value instead\n",
      "\n",
      "See the caveats in the documentation: https://pandas.pydata.org/pandas-docs/stable/user_guide/indexing.html#returning-a-view-versus-a-copy\n",
      "  df['media_type'] = df['media_type'].replace({'No media': 'Text'})\n",
      "C:\\Users\\zjxen\\AppData\\Local\\Temp\\ipykernel_46600\\3397730805.py:10: SettingWithCopyWarning: \n",
      "A value is trying to be set on a copy of a slice from a DataFrame.\n",
      "Try using .loc[row_indexer,col_indexer] = value instead\n",
      "\n",
      "See the caveats in the documentation: https://pandas.pydata.org/pandas-docs/stable/user_guide/indexing.html#returning-a-view-versus-a-copy\n",
      "  df['year_month'] = df['date'].dt.strftime('%Y-%m')\n"
     ]
    },
    {
     "data": {
      "application/vnd.plotly.v1+json": {
       "config": {
        "plotlyServerURL": "https://plot.ly"
       },
       "data": [
        {
         "marker": {
          "color": "rgb(246, 207, 113)"
         },
         "name": "Image",
         "opacity": 0.8,
         "type": "bar",
         "x": [
          "2023-01",
          "2023-02",
          "2023-03",
          "2023-04",
          "2023-05",
          "2023-06",
          "2023-07",
          "2023-08",
          "2023-09",
          "2023-10",
          "2023-11",
          "2023-12"
         ],
         "xaxis": "x",
         "y": [
          3,
          9,
          44,
          28,
          30,
          26,
          58,
          30,
          26,
          29,
          44,
          50
         ],
         "yaxis": "y"
        },
        {
         "marker": {
          "color": "rgb(248, 156, 116)"
         },
         "name": "Text",
         "opacity": 0.8,
         "type": "bar",
         "x": [
          "2023-02",
          "2023-03",
          "2023-04",
          "2023-05",
          "2023-06",
          "2023-07",
          "2023-08",
          "2023-09",
          "2023-10",
          "2023-11",
          "2023-12"
         ],
         "xaxis": "x",
         "y": [
          14,
          20,
          21,
          12,
          12,
          25,
          20,
          3,
          14,
          33,
          26
         ],
         "yaxis": "y"
        },
        {
         "marker": {
          "color": "rgb(102, 197, 204)"
         },
         "name": "Video",
         "opacity": 0.8,
         "type": "bar",
         "x": [
          "2023-02",
          "2023-03",
          "2023-04",
          "2023-05",
          "2023-06",
          "2023-07",
          "2023-08",
          "2023-09",
          "2023-10",
          "2023-11",
          "2023-12"
         ],
         "xaxis": "x",
         "y": [
          10,
          23,
          19,
          20,
          26,
          29,
          18,
          27,
          24,
          37,
          29
         ],
         "yaxis": "y"
        },
        {
         "fill": "tonexty",
         "line": {
          "color": "rgb(246, 207, 113)"
         },
         "mode": "lines",
         "name": "Image",
         "type": "scatter",
         "x": [
          "2023-01",
          "2023-02",
          "2023-03",
          "2023-04",
          "2023-05",
          "2023-06",
          "2023-07",
          "2023-08",
          "2023-09",
          "2023-10",
          "2023-11",
          "2023-12"
         ],
         "xaxis": "x2",
         "y": [
          3,
          12,
          56,
          84,
          114,
          140,
          198,
          228,
          254,
          283,
          327,
          377
         ],
         "yaxis": "y2"
        },
        {
         "fill": "tonexty",
         "line": {
          "color": "rgb(248, 156, 116)"
         },
         "mode": "lines",
         "name": "Text",
         "type": "scatter",
         "x": [
          "2023-02",
          "2023-03",
          "2023-04",
          "2023-05",
          "2023-06",
          "2023-07",
          "2023-08",
          "2023-09",
          "2023-10",
          "2023-11",
          "2023-12"
         ],
         "xaxis": "x2",
         "y": [
          14,
          34,
          55,
          67,
          79,
          104,
          124,
          127,
          141,
          174,
          200
         ],
         "yaxis": "y2"
        },
        {
         "fill": "tonexty",
         "line": {
          "color": "rgb(102, 197, 204)"
         },
         "mode": "lines",
         "name": "Video",
         "type": "scatter",
         "x": [
          "2023-02",
          "2023-03",
          "2023-04",
          "2023-05",
          "2023-06",
          "2023-07",
          "2023-08",
          "2023-09",
          "2023-10",
          "2023-11",
          "2023-12"
         ],
         "xaxis": "x2",
         "y": [
          10,
          33,
          52,
          72,
          98,
          127,
          145,
          172,
          196,
          233,
          262
         ],
         "yaxis": "y2"
        }
       ],
       "layout": {
        "annotations": [
         {
          "font": {
           "size": 16
          },
          "showarrow": false,
          "text": "Monthly Likes by Media Type",
          "x": 0.5,
          "xanchor": "center",
          "xref": "paper",
          "y": 1,
          "yanchor": "bottom",
          "yref": "paper"
         },
         {
          "font": {
           "size": 16
          },
          "showarrow": false,
          "text": "Cumulative Likes by Media Type",
          "x": 0.5,
          "xanchor": "center",
          "xref": "paper",
          "y": 0.425,
          "yanchor": "bottom",
          "yref": "paper"
         }
        ],
        "height": 600,
        "template": {
         "data": {
          "bar": [
           {
            "error_x": {
             "color": "#2a3f5f"
            },
            "error_y": {
             "color": "#2a3f5f"
            },
            "marker": {
             "line": {
              "color": "#E5ECF6",
              "width": 0.5
             },
             "pattern": {
              "fillmode": "overlay",
              "size": 10,
              "solidity": 0.2
             }
            },
            "type": "bar"
           }
          ],
          "barpolar": [
           {
            "marker": {
             "line": {
              "color": "#E5ECF6",
              "width": 0.5
             },
             "pattern": {
              "fillmode": "overlay",
              "size": 10,
              "solidity": 0.2
             }
            },
            "type": "barpolar"
           }
          ],
          "carpet": [
           {
            "aaxis": {
             "endlinecolor": "#2a3f5f",
             "gridcolor": "white",
             "linecolor": "white",
             "minorgridcolor": "white",
             "startlinecolor": "#2a3f5f"
            },
            "baxis": {
             "endlinecolor": "#2a3f5f",
             "gridcolor": "white",
             "linecolor": "white",
             "minorgridcolor": "white",
             "startlinecolor": "#2a3f5f"
            },
            "type": "carpet"
           }
          ],
          "choropleth": [
           {
            "colorbar": {
             "outlinewidth": 0,
             "ticks": ""
            },
            "type": "choropleth"
           }
          ],
          "contour": [
           {
            "colorbar": {
             "outlinewidth": 0,
             "ticks": ""
            },
            "colorscale": [
             [
              0,
              "#0d0887"
             ],
             [
              0.1111111111111111,
              "#46039f"
             ],
             [
              0.2222222222222222,
              "#7201a8"
             ],
             [
              0.3333333333333333,
              "#9c179e"
             ],
             [
              0.4444444444444444,
              "#bd3786"
             ],
             [
              0.5555555555555556,
              "#d8576b"
             ],
             [
              0.6666666666666666,
              "#ed7953"
             ],
             [
              0.7777777777777778,
              "#fb9f3a"
             ],
             [
              0.8888888888888888,
              "#fdca26"
             ],
             [
              1,
              "#f0f921"
             ]
            ],
            "type": "contour"
           }
          ],
          "contourcarpet": [
           {
            "colorbar": {
             "outlinewidth": 0,
             "ticks": ""
            },
            "type": "contourcarpet"
           }
          ],
          "heatmap": [
           {
            "colorbar": {
             "outlinewidth": 0,
             "ticks": ""
            },
            "colorscale": [
             [
              0,
              "#0d0887"
             ],
             [
              0.1111111111111111,
              "#46039f"
             ],
             [
              0.2222222222222222,
              "#7201a8"
             ],
             [
              0.3333333333333333,
              "#9c179e"
             ],
             [
              0.4444444444444444,
              "#bd3786"
             ],
             [
              0.5555555555555556,
              "#d8576b"
             ],
             [
              0.6666666666666666,
              "#ed7953"
             ],
             [
              0.7777777777777778,
              "#fb9f3a"
             ],
             [
              0.8888888888888888,
              "#fdca26"
             ],
             [
              1,
              "#f0f921"
             ]
            ],
            "type": "heatmap"
           }
          ],
          "heatmapgl": [
           {
            "colorbar": {
             "outlinewidth": 0,
             "ticks": ""
            },
            "colorscale": [
             [
              0,
              "#0d0887"
             ],
             [
              0.1111111111111111,
              "#46039f"
             ],
             [
              0.2222222222222222,
              "#7201a8"
             ],
             [
              0.3333333333333333,
              "#9c179e"
             ],
             [
              0.4444444444444444,
              "#bd3786"
             ],
             [
              0.5555555555555556,
              "#d8576b"
             ],
             [
              0.6666666666666666,
              "#ed7953"
             ],
             [
              0.7777777777777778,
              "#fb9f3a"
             ],
             [
              0.8888888888888888,
              "#fdca26"
             ],
             [
              1,
              "#f0f921"
             ]
            ],
            "type": "heatmapgl"
           }
          ],
          "histogram": [
           {
            "marker": {
             "pattern": {
              "fillmode": "overlay",
              "size": 10,
              "solidity": 0.2
             }
            },
            "type": "histogram"
           }
          ],
          "histogram2d": [
           {
            "colorbar": {
             "outlinewidth": 0,
             "ticks": ""
            },
            "colorscale": [
             [
              0,
              "#0d0887"
             ],
             [
              0.1111111111111111,
              "#46039f"
             ],
             [
              0.2222222222222222,
              "#7201a8"
             ],
             [
              0.3333333333333333,
              "#9c179e"
             ],
             [
              0.4444444444444444,
              "#bd3786"
             ],
             [
              0.5555555555555556,
              "#d8576b"
             ],
             [
              0.6666666666666666,
              "#ed7953"
             ],
             [
              0.7777777777777778,
              "#fb9f3a"
             ],
             [
              0.8888888888888888,
              "#fdca26"
             ],
             [
              1,
              "#f0f921"
             ]
            ],
            "type": "histogram2d"
           }
          ],
          "histogram2dcontour": [
           {
            "colorbar": {
             "outlinewidth": 0,
             "ticks": ""
            },
            "colorscale": [
             [
              0,
              "#0d0887"
             ],
             [
              0.1111111111111111,
              "#46039f"
             ],
             [
              0.2222222222222222,
              "#7201a8"
             ],
             [
              0.3333333333333333,
              "#9c179e"
             ],
             [
              0.4444444444444444,
              "#bd3786"
             ],
             [
              0.5555555555555556,
              "#d8576b"
             ],
             [
              0.6666666666666666,
              "#ed7953"
             ],
             [
              0.7777777777777778,
              "#fb9f3a"
             ],
             [
              0.8888888888888888,
              "#fdca26"
             ],
             [
              1,
              "#f0f921"
             ]
            ],
            "type": "histogram2dcontour"
           }
          ],
          "mesh3d": [
           {
            "colorbar": {
             "outlinewidth": 0,
             "ticks": ""
            },
            "type": "mesh3d"
           }
          ],
          "parcoords": [
           {
            "line": {
             "colorbar": {
              "outlinewidth": 0,
              "ticks": ""
             }
            },
            "type": "parcoords"
           }
          ],
          "pie": [
           {
            "automargin": true,
            "type": "pie"
           }
          ],
          "scatter": [
           {
            "fillpattern": {
             "fillmode": "overlay",
             "size": 10,
             "solidity": 0.2
            },
            "type": "scatter"
           }
          ],
          "scatter3d": [
           {
            "line": {
             "colorbar": {
              "outlinewidth": 0,
              "ticks": ""
             }
            },
            "marker": {
             "colorbar": {
              "outlinewidth": 0,
              "ticks": ""
             }
            },
            "type": "scatter3d"
           }
          ],
          "scattercarpet": [
           {
            "marker": {
             "colorbar": {
              "outlinewidth": 0,
              "ticks": ""
             }
            },
            "type": "scattercarpet"
           }
          ],
          "scattergeo": [
           {
            "marker": {
             "colorbar": {
              "outlinewidth": 0,
              "ticks": ""
             }
            },
            "type": "scattergeo"
           }
          ],
          "scattergl": [
           {
            "marker": {
             "colorbar": {
              "outlinewidth": 0,
              "ticks": ""
             }
            },
            "type": "scattergl"
           }
          ],
          "scattermapbox": [
           {
            "marker": {
             "colorbar": {
              "outlinewidth": 0,
              "ticks": ""
             }
            },
            "type": "scattermapbox"
           }
          ],
          "scatterpolar": [
           {
            "marker": {
             "colorbar": {
              "outlinewidth": 0,
              "ticks": ""
             }
            },
            "type": "scatterpolar"
           }
          ],
          "scatterpolargl": [
           {
            "marker": {
             "colorbar": {
              "outlinewidth": 0,
              "ticks": ""
             }
            },
            "type": "scatterpolargl"
           }
          ],
          "scatterternary": [
           {
            "marker": {
             "colorbar": {
              "outlinewidth": 0,
              "ticks": ""
             }
            },
            "type": "scatterternary"
           }
          ],
          "surface": [
           {
            "colorbar": {
             "outlinewidth": 0,
             "ticks": ""
            },
            "colorscale": [
             [
              0,
              "#0d0887"
             ],
             [
              0.1111111111111111,
              "#46039f"
             ],
             [
              0.2222222222222222,
              "#7201a8"
             ],
             [
              0.3333333333333333,
              "#9c179e"
             ],
             [
              0.4444444444444444,
              "#bd3786"
             ],
             [
              0.5555555555555556,
              "#d8576b"
             ],
             [
              0.6666666666666666,
              "#ed7953"
             ],
             [
              0.7777777777777778,
              "#fb9f3a"
             ],
             [
              0.8888888888888888,
              "#fdca26"
             ],
             [
              1,
              "#f0f921"
             ]
            ],
            "type": "surface"
           }
          ],
          "table": [
           {
            "cells": {
             "fill": {
              "color": "#EBF0F8"
             },
             "line": {
              "color": "white"
             }
            },
            "header": {
             "fill": {
              "color": "#C8D4E3"
             },
             "line": {
              "color": "white"
             }
            },
            "type": "table"
           }
          ]
         },
         "layout": {
          "annotationdefaults": {
           "arrowcolor": "#2a3f5f",
           "arrowhead": 0,
           "arrowwidth": 1
          },
          "autotypenumbers": "strict",
          "coloraxis": {
           "colorbar": {
            "outlinewidth": 0,
            "ticks": ""
           }
          },
          "colorscale": {
           "diverging": [
            [
             0,
             "#8e0152"
            ],
            [
             0.1,
             "#c51b7d"
            ],
            [
             0.2,
             "#de77ae"
            ],
            [
             0.3,
             "#f1b6da"
            ],
            [
             0.4,
             "#fde0ef"
            ],
            [
             0.5,
             "#f7f7f7"
            ],
            [
             0.6,
             "#e6f5d0"
            ],
            [
             0.7,
             "#b8e186"
            ],
            [
             0.8,
             "#7fbc41"
            ],
            [
             0.9,
             "#4d9221"
            ],
            [
             1,
             "#276419"
            ]
           ],
           "sequential": [
            [
             0,
             "#0d0887"
            ],
            [
             0.1111111111111111,
             "#46039f"
            ],
            [
             0.2222222222222222,
             "#7201a8"
            ],
            [
             0.3333333333333333,
             "#9c179e"
            ],
            [
             0.4444444444444444,
             "#bd3786"
            ],
            [
             0.5555555555555556,
             "#d8576b"
            ],
            [
             0.6666666666666666,
             "#ed7953"
            ],
            [
             0.7777777777777778,
             "#fb9f3a"
            ],
            [
             0.8888888888888888,
             "#fdca26"
            ],
            [
             1,
             "#f0f921"
            ]
           ],
           "sequentialminus": [
            [
             0,
             "#0d0887"
            ],
            [
             0.1111111111111111,
             "#46039f"
            ],
            [
             0.2222222222222222,
             "#7201a8"
            ],
            [
             0.3333333333333333,
             "#9c179e"
            ],
            [
             0.4444444444444444,
             "#bd3786"
            ],
            [
             0.5555555555555556,
             "#d8576b"
            ],
            [
             0.6666666666666666,
             "#ed7953"
            ],
            [
             0.7777777777777778,
             "#fb9f3a"
            ],
            [
             0.8888888888888888,
             "#fdca26"
            ],
            [
             1,
             "#f0f921"
            ]
           ]
          },
          "colorway": [
           "#636efa",
           "#EF553B",
           "#00cc96",
           "#ab63fa",
           "#FFA15A",
           "#19d3f3",
           "#FF6692",
           "#B6E880",
           "#FF97FF",
           "#FECB52"
          ],
          "font": {
           "color": "#2a3f5f"
          },
          "geo": {
           "bgcolor": "white",
           "lakecolor": "white",
           "landcolor": "#E5ECF6",
           "showlakes": true,
           "showland": true,
           "subunitcolor": "white"
          },
          "hoverlabel": {
           "align": "left"
          },
          "hovermode": "closest",
          "mapbox": {
           "style": "light"
          },
          "paper_bgcolor": "white",
          "plot_bgcolor": "#E5ECF6",
          "polar": {
           "angularaxis": {
            "gridcolor": "white",
            "linecolor": "white",
            "ticks": ""
           },
           "bgcolor": "#E5ECF6",
           "radialaxis": {
            "gridcolor": "white",
            "linecolor": "white",
            "ticks": ""
           }
          },
          "scene": {
           "xaxis": {
            "backgroundcolor": "#E5ECF6",
            "gridcolor": "white",
            "gridwidth": 2,
            "linecolor": "white",
            "showbackground": true,
            "ticks": "",
            "zerolinecolor": "white"
           },
           "yaxis": {
            "backgroundcolor": "#E5ECF6",
            "gridcolor": "white",
            "gridwidth": 2,
            "linecolor": "white",
            "showbackground": true,
            "ticks": "",
            "zerolinecolor": "white"
           },
           "zaxis": {
            "backgroundcolor": "#E5ECF6",
            "gridcolor": "white",
            "gridwidth": 2,
            "linecolor": "white",
            "showbackground": true,
            "ticks": "",
            "zerolinecolor": "white"
           }
          },
          "shapedefaults": {
           "line": {
            "color": "#2a3f5f"
           }
          },
          "ternary": {
           "aaxis": {
            "gridcolor": "white",
            "linecolor": "white",
            "ticks": ""
           },
           "baxis": {
            "gridcolor": "white",
            "linecolor": "white",
            "ticks": ""
           },
           "bgcolor": "#E5ECF6",
           "caxis": {
            "gridcolor": "white",
            "linecolor": "white",
            "ticks": ""
           }
          },
          "title": {
           "x": 0.05
          },
          "xaxis": {
           "automargin": true,
           "gridcolor": "white",
           "linecolor": "white",
           "ticks": "",
           "title": {
            "standoff": 15
           },
           "zerolinecolor": "white",
           "zerolinewidth": 2
          },
          "yaxis": {
           "automargin": true,
           "gridcolor": "white",
           "linecolor": "white",
           "ticks": "",
           "title": {
            "standoff": 15
           },
           "zerolinecolor": "white",
           "zerolinewidth": 2
          }
         }
        },
        "title": {
         "text": "Likes Analysis by Media Type"
        },
        "xaxis": {
         "anchor": "y",
         "domain": [
          0,
          1
         ],
         "matches": "x2",
         "showticklabels": false
        },
        "xaxis2": {
         "anchor": "y2",
         "domain": [
          0,
          1
         ],
         "title": {
          "text": "Month-Year"
         }
        },
        "yaxis": {
         "anchor": "x",
         "domain": [
          0.575,
          1
         ],
         "title": {
          "text": "Monthly Counts"
         }
        },
        "yaxis2": {
         "anchor": "x2",
         "domain": [
          0,
          0.425
         ],
         "title": {
          "text": "Cumulative Counts"
         }
        }
       }
      }
     },
     "metadata": {},
     "output_type": "display_data"
    }
   ],
   "source": [
    "import pandas as pd\n",
    "import plotly.graph_objects as go\n",
    "import plotly.express as px\n",
    "from plotly.subplots import make_subplots\n",
    "\n",
    "def plot_likes_with_cumulative(df, start_date, end_date):\n",
    "    df['date'] = pd.to_datetime(df['date'])\n",
    "    df = df[(df['date'] >= start_date) & (df['date'] <= end_date)]\n",
    "    df['media_type'] = df['media_type'].replace({'No media': 'Text'})\n",
    "    df['year_month'] = df['date'].dt.strftime('%Y-%m')\n",
    "\n",
    "    # Prepare the monthly count DataFrame\n",
    "    monthly_likes_df = df.groupby(['year_month', 'media_type']).size().reset_index(name='counts')\n",
    "\n",
    "    # Prepare the cumulative DataFrame\n",
    "    cumulative_likes_df = monthly_likes_df.copy()\n",
    "    cumulative_likes_df['cumulative_counts'] = cumulative_likes_df.groupby('media_type')['counts'].cumsum()\n",
    "\n",
    "    # Select a color palette\n",
    "    color_palette = px.colors.qualitative.Pastel\n",
    "\n",
    "    # Match colors to media type\n",
    "    color_map = {media_type: color_palette[i] for i, media_type in enumerate([ 'Video', 'Image',  'Text'])}\n",
    "\n",
    "    # Creating subplots\n",
    "    fig = make_subplots(rows=2, cols=1, shared_xaxes=True,\n",
    "                        subplot_titles=(\"Monthly Likes by Media Type\", \"Cumulative Likes by Media Type\"),\n",
    "                        vertical_spacing=0.15)\n",
    "\n",
    "    # Adding the monthly bar chart\n",
    "    for media_type in monthly_likes_df['media_type'].unique():\n",
    "        filtered_df = monthly_likes_df[monthly_likes_df['media_type'] == media_type]\n",
    "        fig.add_trace(go.Bar(x=filtered_df['year_month'], y=filtered_df['counts'], opacity=0.8,\n",
    "                             name=media_type, marker_color=color_map[media_type]),\n",
    "                      row=1, col=1)\n",
    "\n",
    "    # Adding the cumulative area chart\n",
    "    for media_type in cumulative_likes_df['media_type'].unique():\n",
    "        filtered_cumulative_df = cumulative_likes_df[cumulative_likes_df['media_type'] == media_type]\n",
    "        fig.add_trace(go.Scatter(x=filtered_cumulative_df['year_month'], y=filtered_cumulative_df['cumulative_counts'],\n",
    "                                 mode='lines', name=media_type, fill='tonexty',\n",
    "                                 line=dict(color=color_map[media_type])),\n",
    "                      row=2, col=1)\n",
    "\n",
    "    # Update layout for clarity and visual appeal\n",
    "    fig.update_layout(height=600, title_text=\"Likes Analysis by Media Type\")\n",
    "    fig.update_xaxes(title_text=\"Month-Year\", row=2, col=1)\n",
    "    fig.update_yaxes(title_text=\"Monthly Counts\", row=1, col=1)\n",
    "    fig.update_yaxes(title_text=\"Cumulative Counts\", row=2, col=1)\n",
    "\n",
    "    fig.show()\n",
    "\n",
    "# Call the function with your DataFrame and a date range\n",
    "plot_likes_with_cumulative(df, '2023-01-01', '2023-12-31')\n"
   ]
  },
  {
   "cell_type": "code",
   "execution_count": 6,
   "metadata": {},
   "outputs": [
    {
     "data": {
      "application/vnd.plotly.v1+json": {
       "config": {
        "plotlyServerURL": "https://plot.ly"
       },
       "data": [
        {
         "direction": "clockwise",
         "domain": {
          "x": [
           0,
           1
          ],
          "y": [
           0,
           1
          ]
         },
         "hole": 0.4,
         "hovertemplate": "WeekdayName=%{label}<br>Count=%{value}<extra></extra>",
         "labels": [
          "Monday",
          "Tuesday",
          "Wednesday",
          "Thursday",
          "Friday",
          "Saturday",
          "Sunday"
         ],
         "legendgroup": "",
         "name": "",
         "pull": 0.02,
         "showlegend": true,
         "sort": false,
         "textinfo": "percent+label",
         "type": "pie",
         "values": [
          132,
          154,
          162,
          179,
          126,
          135,
          138
         ]
        }
       ],
       "layout": {
        "legend": {
         "tracegroupgap": 0
        },
        "piecolorway": [
         "rgb(102, 197, 204)",
         "rgb(246, 207, 113)",
         "rgb(248, 156, 116)",
         "rgb(220, 176, 242)",
         "rgb(135, 197, 95)",
         "rgb(158, 185, 243)",
         "rgb(254, 136, 177)",
         "rgb(201, 219, 116)",
         "rgb(139, 224, 164)",
         "rgb(180, 151, 231)",
         "rgb(179, 179, 179)"
        ],
        "template": {
         "data": {
          "bar": [
           {
            "error_x": {
             "color": "#2a3f5f"
            },
            "error_y": {
             "color": "#2a3f5f"
            },
            "marker": {
             "line": {
              "color": "#E5ECF6",
              "width": 0.5
             },
             "pattern": {
              "fillmode": "overlay",
              "size": 10,
              "solidity": 0.2
             }
            },
            "type": "bar"
           }
          ],
          "barpolar": [
           {
            "marker": {
             "line": {
              "color": "#E5ECF6",
              "width": 0.5
             },
             "pattern": {
              "fillmode": "overlay",
              "size": 10,
              "solidity": 0.2
             }
            },
            "type": "barpolar"
           }
          ],
          "carpet": [
           {
            "aaxis": {
             "endlinecolor": "#2a3f5f",
             "gridcolor": "white",
             "linecolor": "white",
             "minorgridcolor": "white",
             "startlinecolor": "#2a3f5f"
            },
            "baxis": {
             "endlinecolor": "#2a3f5f",
             "gridcolor": "white",
             "linecolor": "white",
             "minorgridcolor": "white",
             "startlinecolor": "#2a3f5f"
            },
            "type": "carpet"
           }
          ],
          "choropleth": [
           {
            "colorbar": {
             "outlinewidth": 0,
             "ticks": ""
            },
            "type": "choropleth"
           }
          ],
          "contour": [
           {
            "colorbar": {
             "outlinewidth": 0,
             "ticks": ""
            },
            "colorscale": [
             [
              0,
              "#0d0887"
             ],
             [
              0.1111111111111111,
              "#46039f"
             ],
             [
              0.2222222222222222,
              "#7201a8"
             ],
             [
              0.3333333333333333,
              "#9c179e"
             ],
             [
              0.4444444444444444,
              "#bd3786"
             ],
             [
              0.5555555555555556,
              "#d8576b"
             ],
             [
              0.6666666666666666,
              "#ed7953"
             ],
             [
              0.7777777777777778,
              "#fb9f3a"
             ],
             [
              0.8888888888888888,
              "#fdca26"
             ],
             [
              1,
              "#f0f921"
             ]
            ],
            "type": "contour"
           }
          ],
          "contourcarpet": [
           {
            "colorbar": {
             "outlinewidth": 0,
             "ticks": ""
            },
            "type": "contourcarpet"
           }
          ],
          "heatmap": [
           {
            "colorbar": {
             "outlinewidth": 0,
             "ticks": ""
            },
            "colorscale": [
             [
              0,
              "#0d0887"
             ],
             [
              0.1111111111111111,
              "#46039f"
             ],
             [
              0.2222222222222222,
              "#7201a8"
             ],
             [
              0.3333333333333333,
              "#9c179e"
             ],
             [
              0.4444444444444444,
              "#bd3786"
             ],
             [
              0.5555555555555556,
              "#d8576b"
             ],
             [
              0.6666666666666666,
              "#ed7953"
             ],
             [
              0.7777777777777778,
              "#fb9f3a"
             ],
             [
              0.8888888888888888,
              "#fdca26"
             ],
             [
              1,
              "#f0f921"
             ]
            ],
            "type": "heatmap"
           }
          ],
          "heatmapgl": [
           {
            "colorbar": {
             "outlinewidth": 0,
             "ticks": ""
            },
            "colorscale": [
             [
              0,
              "#0d0887"
             ],
             [
              0.1111111111111111,
              "#46039f"
             ],
             [
              0.2222222222222222,
              "#7201a8"
             ],
             [
              0.3333333333333333,
              "#9c179e"
             ],
             [
              0.4444444444444444,
              "#bd3786"
             ],
             [
              0.5555555555555556,
              "#d8576b"
             ],
             [
              0.6666666666666666,
              "#ed7953"
             ],
             [
              0.7777777777777778,
              "#fb9f3a"
             ],
             [
              0.8888888888888888,
              "#fdca26"
             ],
             [
              1,
              "#f0f921"
             ]
            ],
            "type": "heatmapgl"
           }
          ],
          "histogram": [
           {
            "marker": {
             "pattern": {
              "fillmode": "overlay",
              "size": 10,
              "solidity": 0.2
             }
            },
            "type": "histogram"
           }
          ],
          "histogram2d": [
           {
            "colorbar": {
             "outlinewidth": 0,
             "ticks": ""
            },
            "colorscale": [
             [
              0,
              "#0d0887"
             ],
             [
              0.1111111111111111,
              "#46039f"
             ],
             [
              0.2222222222222222,
              "#7201a8"
             ],
             [
              0.3333333333333333,
              "#9c179e"
             ],
             [
              0.4444444444444444,
              "#bd3786"
             ],
             [
              0.5555555555555556,
              "#d8576b"
             ],
             [
              0.6666666666666666,
              "#ed7953"
             ],
             [
              0.7777777777777778,
              "#fb9f3a"
             ],
             [
              0.8888888888888888,
              "#fdca26"
             ],
             [
              1,
              "#f0f921"
             ]
            ],
            "type": "histogram2d"
           }
          ],
          "histogram2dcontour": [
           {
            "colorbar": {
             "outlinewidth": 0,
             "ticks": ""
            },
            "colorscale": [
             [
              0,
              "#0d0887"
             ],
             [
              0.1111111111111111,
              "#46039f"
             ],
             [
              0.2222222222222222,
              "#7201a8"
             ],
             [
              0.3333333333333333,
              "#9c179e"
             ],
             [
              0.4444444444444444,
              "#bd3786"
             ],
             [
              0.5555555555555556,
              "#d8576b"
             ],
             [
              0.6666666666666666,
              "#ed7953"
             ],
             [
              0.7777777777777778,
              "#fb9f3a"
             ],
             [
              0.8888888888888888,
              "#fdca26"
             ],
             [
              1,
              "#f0f921"
             ]
            ],
            "type": "histogram2dcontour"
           }
          ],
          "mesh3d": [
           {
            "colorbar": {
             "outlinewidth": 0,
             "ticks": ""
            },
            "type": "mesh3d"
           }
          ],
          "parcoords": [
           {
            "line": {
             "colorbar": {
              "outlinewidth": 0,
              "ticks": ""
             }
            },
            "type": "parcoords"
           }
          ],
          "pie": [
           {
            "automargin": true,
            "type": "pie"
           }
          ],
          "scatter": [
           {
            "fillpattern": {
             "fillmode": "overlay",
             "size": 10,
             "solidity": 0.2
            },
            "type": "scatter"
           }
          ],
          "scatter3d": [
           {
            "line": {
             "colorbar": {
              "outlinewidth": 0,
              "ticks": ""
             }
            },
            "marker": {
             "colorbar": {
              "outlinewidth": 0,
              "ticks": ""
             }
            },
            "type": "scatter3d"
           }
          ],
          "scattercarpet": [
           {
            "marker": {
             "colorbar": {
              "outlinewidth": 0,
              "ticks": ""
             }
            },
            "type": "scattercarpet"
           }
          ],
          "scattergeo": [
           {
            "marker": {
             "colorbar": {
              "outlinewidth": 0,
              "ticks": ""
             }
            },
            "type": "scattergeo"
           }
          ],
          "scattergl": [
           {
            "marker": {
             "colorbar": {
              "outlinewidth": 0,
              "ticks": ""
             }
            },
            "type": "scattergl"
           }
          ],
          "scattermapbox": [
           {
            "marker": {
             "colorbar": {
              "outlinewidth": 0,
              "ticks": ""
             }
            },
            "type": "scattermapbox"
           }
          ],
          "scatterpolar": [
           {
            "marker": {
             "colorbar": {
              "outlinewidth": 0,
              "ticks": ""
             }
            },
            "type": "scatterpolar"
           }
          ],
          "scatterpolargl": [
           {
            "marker": {
             "colorbar": {
              "outlinewidth": 0,
              "ticks": ""
             }
            },
            "type": "scatterpolargl"
           }
          ],
          "scatterternary": [
           {
            "marker": {
             "colorbar": {
              "outlinewidth": 0,
              "ticks": ""
             }
            },
            "type": "scatterternary"
           }
          ],
          "surface": [
           {
            "colorbar": {
             "outlinewidth": 0,
             "ticks": ""
            },
            "colorscale": [
             [
              0,
              "#0d0887"
             ],
             [
              0.1111111111111111,
              "#46039f"
             ],
             [
              0.2222222222222222,
              "#7201a8"
             ],
             [
              0.3333333333333333,
              "#9c179e"
             ],
             [
              0.4444444444444444,
              "#bd3786"
             ],
             [
              0.5555555555555556,
              "#d8576b"
             ],
             [
              0.6666666666666666,
              "#ed7953"
             ],
             [
              0.7777777777777778,
              "#fb9f3a"
             ],
             [
              0.8888888888888888,
              "#fdca26"
             ],
             [
              1,
              "#f0f921"
             ]
            ],
            "type": "surface"
           }
          ],
          "table": [
           {
            "cells": {
             "fill": {
              "color": "#EBF0F8"
             },
             "line": {
              "color": "white"
             }
            },
            "header": {
             "fill": {
              "color": "#C8D4E3"
             },
             "line": {
              "color": "white"
             }
            },
            "type": "table"
           }
          ]
         },
         "layout": {
          "annotationdefaults": {
           "arrowcolor": "#2a3f5f",
           "arrowhead": 0,
           "arrowwidth": 1
          },
          "autotypenumbers": "strict",
          "coloraxis": {
           "colorbar": {
            "outlinewidth": 0,
            "ticks": ""
           }
          },
          "colorscale": {
           "diverging": [
            [
             0,
             "#8e0152"
            ],
            [
             0.1,
             "#c51b7d"
            ],
            [
             0.2,
             "#de77ae"
            ],
            [
             0.3,
             "#f1b6da"
            ],
            [
             0.4,
             "#fde0ef"
            ],
            [
             0.5,
             "#f7f7f7"
            ],
            [
             0.6,
             "#e6f5d0"
            ],
            [
             0.7,
             "#b8e186"
            ],
            [
             0.8,
             "#7fbc41"
            ],
            [
             0.9,
             "#4d9221"
            ],
            [
             1,
             "#276419"
            ]
           ],
           "sequential": [
            [
             0,
             "#0d0887"
            ],
            [
             0.1111111111111111,
             "#46039f"
            ],
            [
             0.2222222222222222,
             "#7201a8"
            ],
            [
             0.3333333333333333,
             "#9c179e"
            ],
            [
             0.4444444444444444,
             "#bd3786"
            ],
            [
             0.5555555555555556,
             "#d8576b"
            ],
            [
             0.6666666666666666,
             "#ed7953"
            ],
            [
             0.7777777777777778,
             "#fb9f3a"
            ],
            [
             0.8888888888888888,
             "#fdca26"
            ],
            [
             1,
             "#f0f921"
            ]
           ],
           "sequentialminus": [
            [
             0,
             "#0d0887"
            ],
            [
             0.1111111111111111,
             "#46039f"
            ],
            [
             0.2222222222222222,
             "#7201a8"
            ],
            [
             0.3333333333333333,
             "#9c179e"
            ],
            [
             0.4444444444444444,
             "#bd3786"
            ],
            [
             0.5555555555555556,
             "#d8576b"
            ],
            [
             0.6666666666666666,
             "#ed7953"
            ],
            [
             0.7777777777777778,
             "#fb9f3a"
            ],
            [
             0.8888888888888888,
             "#fdca26"
            ],
            [
             1,
             "#f0f921"
            ]
           ]
          },
          "colorway": [
           "#636efa",
           "#EF553B",
           "#00cc96",
           "#ab63fa",
           "#FFA15A",
           "#19d3f3",
           "#FF6692",
           "#B6E880",
           "#FF97FF",
           "#FECB52"
          ],
          "font": {
           "color": "#2a3f5f"
          },
          "geo": {
           "bgcolor": "white",
           "lakecolor": "white",
           "landcolor": "#E5ECF6",
           "showlakes": true,
           "showland": true,
           "subunitcolor": "white"
          },
          "hoverlabel": {
           "align": "left"
          },
          "hovermode": "closest",
          "mapbox": {
           "style": "light"
          },
          "paper_bgcolor": "white",
          "plot_bgcolor": "#E5ECF6",
          "polar": {
           "angularaxis": {
            "gridcolor": "white",
            "linecolor": "white",
            "ticks": ""
           },
           "bgcolor": "#E5ECF6",
           "radialaxis": {
            "gridcolor": "white",
            "linecolor": "white",
            "ticks": ""
           }
          },
          "scene": {
           "xaxis": {
            "backgroundcolor": "#E5ECF6",
            "gridcolor": "white",
            "gridwidth": 2,
            "linecolor": "white",
            "showbackground": true,
            "ticks": "",
            "zerolinecolor": "white"
           },
           "yaxis": {
            "backgroundcolor": "#E5ECF6",
            "gridcolor": "white",
            "gridwidth": 2,
            "linecolor": "white",
            "showbackground": true,
            "ticks": "",
            "zerolinecolor": "white"
           },
           "zaxis": {
            "backgroundcolor": "#E5ECF6",
            "gridcolor": "white",
            "gridwidth": 2,
            "linecolor": "white",
            "showbackground": true,
            "ticks": "",
            "zerolinecolor": "white"
           }
          },
          "shapedefaults": {
           "line": {
            "color": "#2a3f5f"
           }
          },
          "ternary": {
           "aaxis": {
            "gridcolor": "white",
            "linecolor": "white",
            "ticks": ""
           },
           "baxis": {
            "gridcolor": "white",
            "linecolor": "white",
            "ticks": ""
           },
           "bgcolor": "#E5ECF6",
           "caxis": {
            "gridcolor": "white",
            "linecolor": "white",
            "ticks": ""
           }
          },
          "title": {
           "x": 0.05
          },
          "xaxis": {
           "automargin": true,
           "gridcolor": "white",
           "linecolor": "white",
           "ticks": "",
           "title": {
            "standoff": 15
           },
           "zerolinecolor": "white",
           "zerolinewidth": 2
          },
          "yaxis": {
           "automargin": true,
           "gridcolor": "white",
           "linecolor": "white",
           "ticks": "",
           "title": {
            "standoff": 15
           },
           "zerolinecolor": "white",
           "zerolinewidth": 2
          }
         }
        },
        "title": {
         "text": "Tweets Liked by Weekday"
        }
       }
      }
     },
     "metadata": {},
     "output_type": "display_data"
    }
   ],
   "source": [
    "def plot_combined_donut_chart_ordered_correctly(data_df, date_col = 'StrTime'):\n",
    "    # Convert 'StrTime' to datetime and extract the weekday name and number\n",
    "    data_df['WeekdayName'] = data_df[date_col].dt.day_name()\n",
    "    # Map weekday names to numbers for sorting (Monday=0, ..., Sunday=6)\n",
    "    weekdays_map = {'Monday': 0, 'Tuesday': 1, 'Wednesday': 2, 'Thursday': 3, 'Friday': 4, 'Saturday': 5, 'Sunday': 6}\n",
    "    data_df['WeekdayNumber'] = data_df['WeekdayName'].map(weekdays_map)\n",
    "    \n",
    "    # Prepare the data: count messages by WeekdayName, ignoring sender\n",
    "    weekday_distribution = data_df.groupby(['WeekdayName', 'WeekdayNumber']).size().reset_index(name='Count')\n",
    "    \n",
    "    # Sort by WeekdayNumber to ensure correct order\n",
    "    weekday_distribution.sort_values('WeekdayNumber', inplace=True)\n",
    "    \n",
    "    # Now that sorting is done, WeekdayNumber is no longer needed\n",
    "    weekday_distribution = weekday_distribution.drop(columns=['WeekdayNumber'])\n",
    "    \n",
    "    # Create Donut chart with a different color scheme\n",
    "    fig = px.pie(weekday_distribution, names='WeekdayName', values='Count',\n",
    "                 title=\"Tweets Liked by Weekday\",\n",
    "                 color_discrete_sequence=px.colors.qualitative.Pastel,\n",
    "                 hole=0.4)\n",
    "    \n",
    "    # Add slight margin between each day for better visualization\n",
    "    fig.update_traces(textinfo='percent+label', pull=0.02)\n",
    "    fig.update_traces(\n",
    "        sort=False, \n",
    "        direction='clockwise'\n",
    "                      )\n",
    "\n",
    "\n",
    "    fig.show()\n",
    "\n",
    "# Ensure data_df['StrTime'] is a datetime column before calling the function\n",
    "plot_combined_donut_chart_ordered_correctly(df, date_col='date')\n"
   ]
  },
  {
   "cell_type": "code",
   "execution_count": 7,
   "metadata": {},
   "outputs": [
    {
     "name": "stderr",
     "output_type": "stream",
     "text": [
      "c:\\Users\\zjxen\\anaconda3\\envs\\openai\\lib\\site-packages\\plotly_calplot\\calplot.py:159: SettingWithCopyWarning:\n",
      "\n",
      "\n",
      "A value is trying to be set on a copy of a slice from a DataFrame.\n",
      "Try using .loc[row_indexer,col_indexer] = value instead\n",
      "\n",
      "See the caveats in the documentation: https://pandas.pydata.org/pandas-docs/stable/user_guide/indexing.html#returning-a-view-versus-a-copy\n",
      "\n"
     ]
    },
    {
     "data": {
      "application/vnd.plotly.v1+json": {
       "config": {
        "plotlyServerURL": "https://plot.ly"
       },
       "data": [
        {
         "colorscale": [
          [
           0,
           "rgb(247,252,245)"
          ],
          [
           0.125,
           "rgb(229,245,224)"
          ],
          [
           0.25,
           "rgb(199,233,192)"
          ],
          [
           0.375,
           "rgb(161,217,155)"
          ],
          [
           0.5,
           "rgb(116,196,118)"
          ],
          [
           0.625,
           "rgb(65,171,93)"
          ],
          [
           0.75,
           "rgb(35,139,69)"
          ],
          [
           0.875,
           "rgb(0,109,44)"
          ],
          [
           1,
           "rgb(0,68,27)"
          ]
         ],
         "customdata": [
          [
           "2023-01-01",
           "y"
          ],
          [
           "2023-01-02",
           "y"
          ],
          [
           "2023-01-03",
           "y"
          ],
          [
           "2023-01-04",
           "y"
          ],
          [
           "2023-01-05",
           "y"
          ],
          [
           "2023-01-06",
           "y"
          ],
          [
           "2023-01-07",
           "y"
          ],
          [
           "2023-01-08",
           "y"
          ],
          [
           "2023-01-09",
           "y"
          ],
          [
           "2023-01-10",
           "y"
          ],
          [
           "2023-01-11",
           "y"
          ],
          [
           "2023-01-12",
           "y"
          ],
          [
           "2023-01-13",
           "y"
          ],
          [
           "2023-01-14",
           "y"
          ],
          [
           "2023-01-15",
           "y"
          ],
          [
           "2023-01-16",
           "y"
          ],
          [
           "2023-01-17",
           "y"
          ],
          [
           "2023-01-18",
           "y"
          ],
          [
           "2023-01-19",
           "y"
          ],
          [
           "2023-01-20",
           "y"
          ],
          [
           "2023-01-21",
           "y"
          ],
          [
           "2023-01-22",
           "y"
          ],
          [
           "2023-01-23",
           "y"
          ],
          [
           "2023-01-24",
           "y"
          ],
          [
           "2023-01-25",
           "y"
          ],
          [
           "2023-01-26",
           "y"
          ],
          [
           "2023-01-27",
           "y"
          ],
          [
           "2023-01-28",
           "y"
          ],
          [
           "2023-01-29",
           "y"
          ],
          [
           "2023-01-30",
           "y"
          ],
          [
           "2023-01-31",
           "y"
          ],
          [
           "2023-02-01",
           "y"
          ],
          [
           "2023-02-02",
           "y"
          ],
          [
           "2023-02-03",
           "y"
          ],
          [
           "2023-02-04",
           "y"
          ],
          [
           "2023-02-05",
           "y"
          ],
          [
           "2023-02-06",
           "y"
          ],
          [
           "2023-02-07",
           "y"
          ],
          [
           "2023-02-08",
           "y"
          ],
          [
           "2023-02-09",
           "y"
          ],
          [
           "2023-02-10",
           "y"
          ],
          [
           "2023-02-11",
           "y"
          ],
          [
           "2023-02-12",
           "y"
          ],
          [
           "2023-02-13",
           "y"
          ],
          [
           "2023-02-14",
           "y"
          ],
          [
           "2023-02-15",
           "y"
          ],
          [
           "2023-02-16",
           "y"
          ],
          [
           "2023-02-17",
           "y"
          ],
          [
           "2023-02-18",
           "y"
          ],
          [
           "2023-02-19",
           "y"
          ],
          [
           "2023-02-20",
           "y"
          ],
          [
           "2023-02-21",
           "y"
          ],
          [
           "2023-02-22",
           "y"
          ],
          [
           "2023-02-23",
           "y"
          ],
          [
           "2023-02-24",
           "y"
          ],
          [
           "2023-02-25",
           "y"
          ],
          [
           "2023-02-26",
           "y"
          ],
          [
           "2023-02-27",
           "y"
          ],
          [
           "2023-02-28",
           "y"
          ],
          [
           "2023-03-01",
           "y"
          ],
          [
           "2023-03-02",
           "y"
          ],
          [
           "2023-03-03",
           "y"
          ],
          [
           "2023-03-04",
           "y"
          ],
          [
           "2023-03-05",
           "y"
          ],
          [
           "2023-03-06",
           "y"
          ],
          [
           "2023-03-07",
           "y"
          ],
          [
           "2023-03-08",
           "y"
          ],
          [
           "2023-03-09",
           "y"
          ],
          [
           "2023-03-10",
           "y"
          ],
          [
           "2023-03-11",
           "y"
          ],
          [
           "2023-03-12",
           "y"
          ],
          [
           "2023-03-13",
           "y"
          ],
          [
           "2023-03-14",
           "y"
          ],
          [
           "2023-03-15",
           "y"
          ],
          [
           "2023-03-16",
           "y"
          ],
          [
           "2023-03-17",
           "y"
          ],
          [
           "2023-03-18",
           "y"
          ],
          [
           "2023-03-19",
           "y"
          ],
          [
           "2023-03-20",
           "y"
          ],
          [
           "2023-03-21",
           "y"
          ],
          [
           "2023-03-22",
           "y"
          ],
          [
           "2023-03-23",
           "y"
          ],
          [
           "2023-03-24",
           "y"
          ],
          [
           "2023-03-25",
           "y"
          ],
          [
           "2023-03-26",
           "y"
          ],
          [
           "2023-03-27",
           "y"
          ],
          [
           "2023-03-28",
           "y"
          ],
          [
           "2023-03-29",
           "y"
          ],
          [
           "2023-03-30",
           "y"
          ],
          [
           "2023-03-31",
           "y"
          ],
          [
           "2023-04-01",
           "y"
          ],
          [
           "2023-04-02",
           "y"
          ],
          [
           "2023-04-03",
           "y"
          ],
          [
           "2023-04-04",
           "y"
          ],
          [
           "2023-04-05",
           "y"
          ],
          [
           "2023-04-06",
           "y"
          ],
          [
           "2023-04-07",
           "y"
          ],
          [
           "2023-04-08",
           "y"
          ],
          [
           "2023-04-09",
           "y"
          ],
          [
           "2023-04-10",
           "y"
          ],
          [
           "2023-04-11",
           "y"
          ],
          [
           "2023-04-12",
           "y"
          ],
          [
           "2023-04-13",
           "y"
          ],
          [
           "2023-04-14",
           "y"
          ],
          [
           "2023-04-15",
           "y"
          ],
          [
           "2023-04-16",
           "y"
          ],
          [
           "2023-04-17",
           "y"
          ],
          [
           "2023-04-18",
           "y"
          ],
          [
           "2023-04-19",
           "y"
          ],
          [
           "2023-04-20",
           "y"
          ],
          [
           "2023-04-21",
           "y"
          ],
          [
           "2023-04-22",
           "y"
          ],
          [
           "2023-04-23",
           "y"
          ],
          [
           "2023-04-24",
           "y"
          ],
          [
           "2023-04-25",
           "y"
          ],
          [
           "2023-04-26",
           "y"
          ],
          [
           "2023-04-27",
           "y"
          ],
          [
           "2023-04-28",
           "y"
          ],
          [
           "2023-04-29",
           "y"
          ],
          [
           "2023-04-30",
           "y"
          ],
          [
           "2023-05-01",
           "y"
          ],
          [
           "2023-05-02",
           "y"
          ],
          [
           "2023-05-03",
           "y"
          ],
          [
           "2023-05-04",
           "y"
          ],
          [
           "2023-05-05",
           "y"
          ],
          [
           "2023-05-06",
           "y"
          ],
          [
           "2023-05-07",
           "y"
          ],
          [
           "2023-05-08",
           "y"
          ],
          [
           "2023-05-09",
           "y"
          ],
          [
           "2023-05-10",
           "y"
          ],
          [
           "2023-05-11",
           "y"
          ],
          [
           "2023-05-12",
           "y"
          ],
          [
           "2023-05-13",
           "y"
          ],
          [
           "2023-05-14",
           "y"
          ],
          [
           "2023-05-15",
           "y"
          ],
          [
           "2023-05-16",
           "y"
          ],
          [
           "2023-05-17",
           "y"
          ],
          [
           "2023-05-18",
           "y"
          ],
          [
           "2023-05-19",
           "y"
          ],
          [
           "2023-05-20",
           "y"
          ],
          [
           "2023-05-21",
           "y"
          ],
          [
           "2023-05-22",
           "y"
          ],
          [
           "2023-05-23",
           "y"
          ],
          [
           "2023-05-24",
           "y"
          ],
          [
           "2023-05-25",
           "y"
          ],
          [
           "2023-05-26",
           "y"
          ],
          [
           "2023-05-27",
           "y"
          ],
          [
           "2023-05-28",
           "y"
          ],
          [
           "2023-05-29",
           "y"
          ],
          [
           "2023-05-30",
           "y"
          ],
          [
           "2023-05-31",
           "y"
          ],
          [
           "2023-06-01",
           "y"
          ],
          [
           "2023-06-02",
           "y"
          ],
          [
           "2023-06-03",
           "y"
          ],
          [
           "2023-06-04",
           "y"
          ],
          [
           "2023-06-05",
           "y"
          ],
          [
           "2023-06-06",
           "y"
          ],
          [
           "2023-06-07",
           "y"
          ],
          [
           "2023-06-08",
           "y"
          ],
          [
           "2023-06-09",
           "y"
          ],
          [
           "2023-06-10",
           "y"
          ],
          [
           "2023-06-11",
           "y"
          ],
          [
           "2023-06-12",
           "y"
          ],
          [
           "2023-06-13",
           "y"
          ],
          [
           "2023-06-14",
           "y"
          ],
          [
           "2023-06-15",
           "y"
          ],
          [
           "2023-06-16",
           "y"
          ],
          [
           "2023-06-17",
           "y"
          ],
          [
           "2023-06-18",
           "y"
          ],
          [
           "2023-06-19",
           "y"
          ],
          [
           "2023-06-20",
           "y"
          ],
          [
           "2023-06-21",
           "y"
          ],
          [
           "2023-06-22",
           "y"
          ],
          [
           "2023-06-23",
           "y"
          ],
          [
           "2023-06-24",
           "y"
          ],
          [
           "2023-06-25",
           "y"
          ],
          [
           "2023-06-26",
           "y"
          ],
          [
           "2023-06-27",
           "y"
          ],
          [
           "2023-06-28",
           "y"
          ],
          [
           "2023-06-29",
           "y"
          ],
          [
           "2023-06-30",
           "y"
          ],
          [
           "2023-07-01",
           "y"
          ],
          [
           "2023-07-02",
           "y"
          ],
          [
           "2023-07-03",
           "y"
          ],
          [
           "2023-07-04",
           "y"
          ],
          [
           "2023-07-05",
           "y"
          ],
          [
           "2023-07-06",
           "y"
          ],
          [
           "2023-07-07",
           "y"
          ],
          [
           "2023-07-08",
           "y"
          ],
          [
           "2023-07-09",
           "y"
          ],
          [
           "2023-07-10",
           "y"
          ],
          [
           "2023-07-11",
           "y"
          ],
          [
           "2023-07-12",
           "y"
          ],
          [
           "2023-07-13",
           "y"
          ],
          [
           "2023-07-14",
           "y"
          ],
          [
           "2023-07-15",
           "y"
          ],
          [
           "2023-07-16",
           "y"
          ],
          [
           "2023-07-17",
           "y"
          ],
          [
           "2023-07-18",
           "y"
          ],
          [
           "2023-07-19",
           "y"
          ],
          [
           "2023-07-20",
           "y"
          ],
          [
           "2023-07-21",
           "y"
          ],
          [
           "2023-07-22",
           "y"
          ],
          [
           "2023-07-23",
           "y"
          ],
          [
           "2023-07-24",
           "y"
          ],
          [
           "2023-07-25",
           "y"
          ],
          [
           "2023-07-26",
           "y"
          ],
          [
           "2023-07-27",
           "y"
          ],
          [
           "2023-07-28",
           "y"
          ],
          [
           "2023-07-29",
           "y"
          ],
          [
           "2023-07-30",
           "y"
          ],
          [
           "2023-07-31",
           "y"
          ],
          [
           "2023-08-01",
           "y"
          ],
          [
           "2023-08-02",
           "y"
          ],
          [
           "2023-08-03",
           "y"
          ],
          [
           "2023-08-04",
           "y"
          ],
          [
           "2023-08-05",
           "y"
          ],
          [
           "2023-08-06",
           "y"
          ],
          [
           "2023-08-07",
           "y"
          ],
          [
           "2023-08-08",
           "y"
          ],
          [
           "2023-08-09",
           "y"
          ],
          [
           "2023-08-10",
           "y"
          ],
          [
           "2023-08-11",
           "y"
          ],
          [
           "2023-08-12",
           "y"
          ],
          [
           "2023-08-13",
           "y"
          ],
          [
           "2023-08-14",
           "y"
          ],
          [
           "2023-08-15",
           "y"
          ],
          [
           "2023-08-16",
           "y"
          ],
          [
           "2023-08-17",
           "y"
          ],
          [
           "2023-08-18",
           "y"
          ],
          [
           "2023-08-19",
           "y"
          ],
          [
           "2023-08-20",
           "y"
          ],
          [
           "2023-08-21",
           "y"
          ],
          [
           "2023-08-22",
           "y"
          ],
          [
           "2023-08-23",
           "y"
          ],
          [
           "2023-08-24",
           "y"
          ],
          [
           "2023-08-25",
           "y"
          ],
          [
           "2023-08-26",
           "y"
          ],
          [
           "2023-08-27",
           "y"
          ],
          [
           "2023-08-28",
           "y"
          ],
          [
           "2023-08-29",
           "y"
          ],
          [
           "2023-08-30",
           "y"
          ],
          [
           "2023-08-31",
           "y"
          ],
          [
           "2023-09-01",
           "y"
          ],
          [
           "2023-09-02",
           "y"
          ],
          [
           "2023-09-03",
           "y"
          ],
          [
           "2023-09-04",
           "y"
          ],
          [
           "2023-09-05",
           "y"
          ],
          [
           "2023-09-06",
           "y"
          ],
          [
           "2023-09-07",
           "y"
          ],
          [
           "2023-09-08",
           "y"
          ],
          [
           "2023-09-09",
           "y"
          ],
          [
           "2023-09-10",
           "y"
          ],
          [
           "2023-09-11",
           "y"
          ],
          [
           "2023-09-12",
           "y"
          ],
          [
           "2023-09-13",
           "y"
          ],
          [
           "2023-09-14",
           "y"
          ],
          [
           "2023-09-15",
           "y"
          ],
          [
           "2023-09-16",
           "y"
          ],
          [
           "2023-09-17",
           "y"
          ],
          [
           "2023-09-18",
           "y"
          ],
          [
           "2023-09-19",
           "y"
          ],
          [
           "2023-09-20",
           "y"
          ],
          [
           "2023-09-21",
           "y"
          ],
          [
           "2023-09-22",
           "y"
          ],
          [
           "2023-09-23",
           "y"
          ],
          [
           "2023-09-24",
           "y"
          ],
          [
           "2023-09-25",
           "y"
          ],
          [
           "2023-09-26",
           "y"
          ],
          [
           "2023-09-27",
           "y"
          ],
          [
           "2023-09-28",
           "y"
          ],
          [
           "2023-09-29",
           "y"
          ],
          [
           "2023-09-30",
           "y"
          ],
          [
           "2023-10-01",
           "y"
          ],
          [
           "2023-10-02",
           "y"
          ],
          [
           "2023-10-03",
           "y"
          ],
          [
           "2023-10-04",
           "y"
          ],
          [
           "2023-10-05",
           "y"
          ],
          [
           "2023-10-06",
           "y"
          ],
          [
           "2023-10-07",
           "y"
          ],
          [
           "2023-10-08",
           "y"
          ],
          [
           "2023-10-09",
           "y"
          ],
          [
           "2023-10-10",
           "y"
          ],
          [
           "2023-10-11",
           "y"
          ],
          [
           "2023-10-12",
           "y"
          ],
          [
           "2023-10-13",
           "y"
          ],
          [
           "2023-10-14",
           "y"
          ],
          [
           "2023-10-15",
           "y"
          ],
          [
           "2023-10-16",
           "y"
          ],
          [
           "2023-10-17",
           "y"
          ],
          [
           "2023-10-18",
           "y"
          ],
          [
           "2023-10-19",
           "y"
          ],
          [
           "2023-10-20",
           "y"
          ],
          [
           "2023-10-21",
           "y"
          ],
          [
           "2023-10-22",
           "y"
          ],
          [
           "2023-10-23",
           "y"
          ],
          [
           "2023-10-24",
           "y"
          ],
          [
           "2023-10-25",
           "y"
          ],
          [
           "2023-10-26",
           "y"
          ],
          [
           "2023-10-27",
           "y"
          ],
          [
           "2023-10-28",
           "y"
          ],
          [
           "2023-10-29",
           "y"
          ],
          [
           "2023-10-30",
           "y"
          ],
          [
           "2023-10-31",
           "y"
          ],
          [
           "2023-11-01",
           "y"
          ],
          [
           "2023-11-02",
           "y"
          ],
          [
           "2023-11-03",
           "y"
          ],
          [
           "2023-11-04",
           "y"
          ],
          [
           "2023-11-05",
           "y"
          ],
          [
           "2023-11-06",
           "y"
          ],
          [
           "2023-11-07",
           "y"
          ],
          [
           "2023-11-08",
           "y"
          ],
          [
           "2023-11-09",
           "y"
          ],
          [
           "2023-11-10",
           "y"
          ],
          [
           "2023-11-11",
           "y"
          ],
          [
           "2023-11-12",
           "y"
          ],
          [
           "2023-11-13",
           "y"
          ],
          [
           "2023-11-14",
           "y"
          ],
          [
           "2023-11-15",
           "y"
          ],
          [
           "2023-11-16",
           "y"
          ],
          [
           "2023-11-17",
           "y"
          ],
          [
           "2023-11-18",
           "y"
          ],
          [
           "2023-11-19",
           "y"
          ],
          [
           "2023-11-20",
           "y"
          ],
          [
           "2023-11-21",
           "y"
          ],
          [
           "2023-11-22",
           "y"
          ],
          [
           "2023-11-23",
           "y"
          ],
          [
           "2023-11-24",
           "y"
          ],
          [
           "2023-11-25",
           "y"
          ],
          [
           "2023-11-26",
           "y"
          ],
          [
           "2023-11-27",
           "y"
          ],
          [
           "2023-11-28",
           "y"
          ],
          [
           "2023-11-29",
           "y"
          ],
          [
           "2023-11-30",
           "y"
          ],
          [
           "2023-12-01",
           "y"
          ],
          [
           "2023-12-02",
           "y"
          ],
          [
           "2023-12-03",
           "y"
          ],
          [
           "2023-12-04",
           "y"
          ],
          [
           "2023-12-05",
           "y"
          ],
          [
           "2023-12-06",
           "y"
          ],
          [
           "2023-12-07",
           "y"
          ],
          [
           "2023-12-08",
           "y"
          ],
          [
           "2023-12-09",
           "y"
          ],
          [
           "2023-12-10",
           "y"
          ],
          [
           "2023-12-11",
           "y"
          ],
          [
           "2023-12-12",
           "y"
          ],
          [
           "2023-12-13",
           "y"
          ],
          [
           "2023-12-14",
           "y"
          ],
          [
           "2023-12-15",
           "y"
          ],
          [
           "2023-12-16",
           "y"
          ],
          [
           "2023-12-17",
           "y"
          ],
          [
           "2023-12-18",
           "y"
          ],
          [
           "2023-12-19",
           "y"
          ],
          [
           "2023-12-20",
           "y"
          ],
          [
           "2023-12-21",
           "y"
          ],
          [
           "2023-12-22",
           "y"
          ],
          [
           "2023-12-23",
           "y"
          ],
          [
           "2023-12-24",
           "y"
          ],
          [
           "2023-12-25",
           "y"
          ],
          [
           "2023-12-26",
           "y"
          ],
          [
           "2023-12-27",
           "y"
          ],
          [
           "2023-12-28",
           "y"
          ],
          [
           "2023-12-29",
           "y"
          ],
          [
           "2023-12-30",
           "y"
          ],
          [
           "2023-12-31",
           "y"
          ]
         ],
         "hovertemplate": "%{customdata[0]} <br>Week=%{x} <br>%{customdata[1]}=%{z}",
         "name": "2023",
         "showscale": false,
         "type": "heatmap",
         "x": [
          0,
          1,
          1,
          1,
          1,
          1,
          1,
          1,
          2,
          2,
          2,
          2,
          2,
          2,
          2,
          3,
          3,
          3,
          3,
          3,
          3,
          3,
          4,
          4,
          4,
          4,
          4,
          4,
          4,
          5,
          5,
          5,
          5,
          5,
          5,
          5,
          6,
          6,
          6,
          6,
          6,
          6,
          6,
          7,
          7,
          7,
          7,
          7,
          7,
          7,
          8,
          8,
          8,
          8,
          8,
          8,
          8,
          9,
          9,
          9,
          9,
          9,
          9,
          9,
          10,
          10,
          10,
          10,
          10,
          10,
          10,
          11,
          11,
          11,
          11,
          11,
          11,
          11,
          12,
          12,
          12,
          12,
          12,
          12,
          12,
          13,
          13,
          13,
          13,
          13,
          13,
          13,
          14,
          14,
          14,
          14,
          14,
          14,
          14,
          15,
          15,
          15,
          15,
          15,
          15,
          15,
          16,
          16,
          16,
          16,
          16,
          16,
          16,
          17,
          17,
          17,
          17,
          17,
          17,
          17,
          18,
          18,
          18,
          18,
          18,
          18,
          18,
          19,
          19,
          19,
          19,
          19,
          19,
          19,
          20,
          20,
          20,
          20,
          20,
          20,
          20,
          21,
          21,
          21,
          21,
          21,
          21,
          21,
          22,
          22,
          22,
          22,
          22,
          22,
          22,
          23,
          23,
          23,
          23,
          23,
          23,
          23,
          24,
          24,
          24,
          24,
          24,
          24,
          24,
          25,
          25,
          25,
          25,
          25,
          25,
          25,
          26,
          26,
          26,
          26,
          26,
          26,
          26,
          27,
          27,
          27,
          27,
          27,
          27,
          27,
          28,
          28,
          28,
          28,
          28,
          28,
          28,
          29,
          29,
          29,
          29,
          29,
          29,
          29,
          30,
          30,
          30,
          30,
          30,
          30,
          30,
          31,
          31,
          31,
          31,
          31,
          31,
          31,
          32,
          32,
          32,
          32,
          32,
          32,
          32,
          33,
          33,
          33,
          33,
          33,
          33,
          33,
          34,
          34,
          34,
          34,
          34,
          34,
          34,
          35,
          35,
          35,
          35,
          35,
          35,
          35,
          36,
          36,
          36,
          36,
          36,
          36,
          36,
          37,
          37,
          37,
          37,
          37,
          37,
          37,
          38,
          38,
          38,
          38,
          38,
          38,
          38,
          39,
          39,
          39,
          39,
          39,
          39,
          39,
          40,
          40,
          40,
          40,
          40,
          40,
          40,
          41,
          41,
          41,
          41,
          41,
          41,
          41,
          42,
          42,
          42,
          42,
          42,
          42,
          42,
          43,
          43,
          43,
          43,
          43,
          43,
          43,
          44,
          44,
          44,
          44,
          44,
          44,
          44,
          45,
          45,
          45,
          45,
          45,
          45,
          45,
          46,
          46,
          46,
          46,
          46,
          46,
          46,
          47,
          47,
          47,
          47,
          47,
          47,
          47,
          48,
          48,
          48,
          48,
          48,
          48,
          48,
          49,
          49,
          49,
          49,
          49,
          49,
          49,
          50,
          50,
          50,
          50,
          50,
          50,
          50,
          51,
          51,
          51,
          51,
          51,
          51,
          51,
          52,
          52,
          52,
          52,
          52,
          52,
          52
         ],
         "xaxis": "x",
         "xgap": 1,
         "y": [
          6,
          0,
          1,
          2,
          3,
          4,
          5,
          6,
          0,
          1,
          2,
          3,
          4,
          5,
          6,
          0,
          1,
          2,
          3,
          4,
          5,
          6,
          0,
          1,
          2,
          3,
          4,
          5,
          6,
          0,
          1,
          2,
          3,
          4,
          5,
          6,
          0,
          1,
          2,
          3,
          4,
          5,
          6,
          0,
          1,
          2,
          3,
          4,
          5,
          6,
          0,
          1,
          2,
          3,
          4,
          5,
          6,
          0,
          1,
          2,
          3,
          4,
          5,
          6,
          0,
          1,
          2,
          3,
          4,
          5,
          6,
          0,
          1,
          2,
          3,
          4,
          5,
          6,
          0,
          1,
          2,
          3,
          4,
          5,
          6,
          0,
          1,
          2,
          3,
          4,
          5,
          6,
          0,
          1,
          2,
          3,
          4,
          5,
          6,
          0,
          1,
          2,
          3,
          4,
          5,
          6,
          0,
          1,
          2,
          3,
          4,
          5,
          6,
          0,
          1,
          2,
          3,
          4,
          5,
          6,
          0,
          1,
          2,
          3,
          4,
          5,
          6,
          0,
          1,
          2,
          3,
          4,
          5,
          6,
          0,
          1,
          2,
          3,
          4,
          5,
          6,
          0,
          1,
          2,
          3,
          4,
          5,
          6,
          0,
          1,
          2,
          3,
          4,
          5,
          6,
          0,
          1,
          2,
          3,
          4,
          5,
          6,
          0,
          1,
          2,
          3,
          4,
          5,
          6,
          0,
          1,
          2,
          3,
          4,
          5,
          6,
          0,
          1,
          2,
          3,
          4,
          5,
          6,
          0,
          1,
          2,
          3,
          4,
          5,
          6,
          0,
          1,
          2,
          3,
          4,
          5,
          6,
          0,
          1,
          2,
          3,
          4,
          5,
          6,
          0,
          1,
          2,
          3,
          4,
          5,
          6,
          0,
          1,
          2,
          3,
          4,
          5,
          6,
          0,
          1,
          2,
          3,
          4,
          5,
          6,
          0,
          1,
          2,
          3,
          4,
          5,
          6,
          0,
          1,
          2,
          3,
          4,
          5,
          6,
          0,
          1,
          2,
          3,
          4,
          5,
          6,
          0,
          1,
          2,
          3,
          4,
          5,
          6,
          0,
          1,
          2,
          3,
          4,
          5,
          6,
          0,
          1,
          2,
          3,
          4,
          5,
          6,
          0,
          1,
          2,
          3,
          4,
          5,
          6,
          0,
          1,
          2,
          3,
          4,
          5,
          6,
          0,
          1,
          2,
          3,
          4,
          5,
          6,
          0,
          1,
          2,
          3,
          4,
          5,
          6,
          0,
          1,
          2,
          3,
          4,
          5,
          6,
          0,
          1,
          2,
          3,
          4,
          5,
          6,
          0,
          1,
          2,
          3,
          4,
          5,
          6,
          0,
          1,
          2,
          3,
          4,
          5,
          6,
          0,
          1,
          2,
          3,
          4,
          5,
          6,
          0,
          1,
          2,
          3,
          4,
          5,
          6,
          0,
          1,
          2,
          3,
          4,
          5,
          6,
          0,
          1,
          2,
          3,
          4,
          5,
          6,
          0,
          1,
          2,
          3,
          4,
          5,
          6,
          0,
          1,
          2,
          3,
          4,
          5,
          6
         ],
         "yaxis": "y",
         "ygap": 1,
         "z": [
          null,
          null,
          null,
          null,
          null,
          null,
          null,
          1,
          1,
          null,
          null,
          null,
          null,
          null,
          null,
          null,
          null,
          null,
          null,
          null,
          1,
          null,
          null,
          null,
          null,
          null,
          null,
          null,
          null,
          null,
          null,
          null,
          null,
          null,
          null,
          null,
          null,
          null,
          null,
          null,
          null,
          2,
          1,
          3,
          null,
          2,
          3,
          null,
          2,
          3,
          null,
          1,
          3,
          2,
          null,
          null,
          2,
          4,
          5,
          6,
          1,
          1,
          1,
          3,
          4,
          3,
          1,
          1,
          2,
          2,
          3,
          1,
          4,
          2,
          5,
          3,
          2,
          4,
          2,
          3,
          2,
          3,
          5,
          3,
          1,
          5,
          2,
          5,
          4,
          3,
          7,
          3,
          2,
          1,
          1,
          3,
          6,
          1,
          3,
          1,
          5,
          3,
          1,
          2,
          3,
          1,
          1,
          1,
          3,
          7,
          2,
          1,
          null,
          3,
          1,
          1,
          3,
          null,
          2,
          null,
          null,
          1,
          3,
          3,
          1,
          4,
          2,
          2,
          4,
          3,
          2,
          2,
          3,
          3,
          1,
          4,
          6,
          null,
          1,
          1,
          1,
          4,
          4,
          2,
          1,
          2,
          1,
          null,
          null,
          1,
          null,
          null,
          2,
          3,
          null,
          2,
          4,
          2,
          1,
          1,
          4,
          null,
          2,
          null,
          2,
          4,
          1,
          1,
          5,
          3,
          null,
          6,
          1,
          1,
          5,
          1,
          2,
          6,
          2,
          3,
          null,
          2,
          4,
          1,
          null,
          3,
          3,
          1,
          7,
          7,
          5,
          4,
          1,
          1,
          5,
          3,
          3,
          3,
          6,
          3,
          2,
          6,
          5,
          6,
          4,
          3,
          5,
          5,
          1,
          4,
          5,
          4,
          4,
          4,
          2,
          1,
          1,
          3,
          1,
          7,
          3,
          3,
          4,
          1,
          3,
          5,
          2,
          null,
          2,
          null,
          1,
          2,
          1,
          3,
          3,
          1,
          2,
          1,
          2,
          1,
          2,
          1,
          2,
          3,
          1,
          1,
          1,
          2,
          3,
          2,
          2,
          2,
          4,
          1,
          1,
          1,
          2,
          1,
          1,
          1,
          null,
          4,
          5,
          2,
          null,
          1,
          2,
          2,
          2,
          1,
          2,
          2,
          4,
          4,
          null,
          2,
          null,
          8,
          5,
          1,
          null,
          1,
          2,
          3,
          null,
          3,
          4,
          3,
          3,
          null,
          3,
          2,
          1,
          1,
          null,
          1,
          null,
          2,
          2,
          4,
          null,
          4,
          6,
          2,
          3,
          2,
          5,
          1,
          3,
          2,
          3,
          4,
          5,
          null,
          2,
          3,
          4,
          8,
          6,
          5,
          6,
          2,
          2,
          4,
          5,
          6,
          7,
          1,
          3,
          5,
          5,
          5,
          4,
          3,
          2,
          3,
          2,
          null,
          3,
          7,
          4,
          2,
          4,
          4,
          4,
          4,
          4,
          4,
          6,
          3,
          3,
          2,
          null,
          2,
          4,
          2,
          7,
          5,
          7,
          4,
          null,
          3,
          null,
          5,
          5
         ],
         "zmax": 8,
         "zmin": 1
        },
        {
         "hoverinfo": "skip",
         "line": {
          "color": "#9e9e9e",
          "width": 1
         },
         "mode": "lines",
         "type": "scatter",
         "x": [
          -0.5,
          -0.5
         ],
         "xaxis": "x",
         "y": [
          5.5,
          6.5
         ],
         "yaxis": "y"
        },
        {
         "hoverinfo": "skip",
         "line": {
          "color": "#9e9e9e",
          "width": 1
         },
         "mode": "lines",
         "type": "scatter",
         "x": [
          -0.5,
          0.5
         ],
         "xaxis": "x",
         "y": [
          5.5,
          5.5
         ],
         "yaxis": "y"
        },
        {
         "hoverinfo": "skip",
         "line": {
          "color": "#9e9e9e",
          "width": 1
         },
         "mode": "lines",
         "type": "scatter",
         "x": [
          0.5,
          0.5
         ],
         "xaxis": "x",
         "y": [
          5.5,
          -0.5
         ],
         "yaxis": "y"
        },
        {
         "hoverinfo": "skip",
         "line": {
          "color": "#9e9e9e",
          "width": 1
         },
         "mode": "lines",
         "type": "scatter",
         "x": [
          4.5,
          4.5
         ],
         "xaxis": "x",
         "y": [
          1.5,
          6.5
         ],
         "yaxis": "y"
        },
        {
         "hoverinfo": "skip",
         "line": {
          "color": "#9e9e9e",
          "width": 1
         },
         "mode": "lines",
         "type": "scatter",
         "x": [
          4.5,
          5.5
         ],
         "xaxis": "x",
         "y": [
          1.5,
          1.5
         ],
         "yaxis": "y"
        },
        {
         "hoverinfo": "skip",
         "line": {
          "color": "#9e9e9e",
          "width": 1
         },
         "mode": "lines",
         "type": "scatter",
         "x": [
          5.5,
          5.5
         ],
         "xaxis": "x",
         "y": [
          1.5,
          -0.5
         ],
         "yaxis": "y"
        },
        {
         "hoverinfo": "skip",
         "line": {
          "color": "#9e9e9e",
          "width": 1
         },
         "mode": "lines",
         "type": "scatter",
         "x": [
          8.5,
          8.5
         ],
         "xaxis": "x",
         "y": [
          1.5,
          6.5
         ],
         "yaxis": "y"
        },
        {
         "hoverinfo": "skip",
         "line": {
          "color": "#9e9e9e",
          "width": 1
         },
         "mode": "lines",
         "type": "scatter",
         "x": [
          8.5,
          9.5
         ],
         "xaxis": "x",
         "y": [
          1.5,
          1.5
         ],
         "yaxis": "y"
        },
        {
         "hoverinfo": "skip",
         "line": {
          "color": "#9e9e9e",
          "width": 1
         },
         "mode": "lines",
         "type": "scatter",
         "x": [
          9.5,
          9.5
         ],
         "xaxis": "x",
         "y": [
          1.5,
          -0.5
         ],
         "yaxis": "y"
        },
        {
         "hoverinfo": "skip",
         "line": {
          "color": "#9e9e9e",
          "width": 1
         },
         "mode": "lines",
         "type": "scatter",
         "x": [
          12.5,
          12.5
         ],
         "xaxis": "x",
         "y": [
          4.5,
          6.5
         ],
         "yaxis": "y"
        },
        {
         "hoverinfo": "skip",
         "line": {
          "color": "#9e9e9e",
          "width": 1
         },
         "mode": "lines",
         "type": "scatter",
         "x": [
          12.5,
          13.5
         ],
         "xaxis": "x",
         "y": [
          4.5,
          4.5
         ],
         "yaxis": "y"
        },
        {
         "hoverinfo": "skip",
         "line": {
          "color": "#9e9e9e",
          "width": 1
         },
         "mode": "lines",
         "type": "scatter",
         "x": [
          13.5,
          13.5
         ],
         "xaxis": "x",
         "y": [
          4.5,
          -0.5
         ],
         "yaxis": "y"
        },
        {
         "hoverinfo": "skip",
         "line": {
          "color": "#9e9e9e",
          "width": 1
         },
         "mode": "lines",
         "type": "scatter",
         "x": [
          17.5,
          17.5
         ],
         "xaxis": "x",
         "y": [
          -0.5,
          6.5
         ],
         "yaxis": "y"
        },
        {
         "hoverinfo": "skip",
         "line": {
          "color": "#9e9e9e",
          "width": 1
         },
         "mode": "lines",
         "type": "scatter",
         "x": [
          21.5,
          21.5
         ],
         "xaxis": "x",
         "y": [
          2.5,
          6.5
         ],
         "yaxis": "y"
        },
        {
         "hoverinfo": "skip",
         "line": {
          "color": "#9e9e9e",
          "width": 1
         },
         "mode": "lines",
         "type": "scatter",
         "x": [
          21.5,
          22.5
         ],
         "xaxis": "x",
         "y": [
          2.5,
          2.5
         ],
         "yaxis": "y"
        },
        {
         "hoverinfo": "skip",
         "line": {
          "color": "#9e9e9e",
          "width": 1
         },
         "mode": "lines",
         "type": "scatter",
         "x": [
          22.5,
          22.5
         ],
         "xaxis": "x",
         "y": [
          2.5,
          -0.5
         ],
         "yaxis": "y"
        },
        {
         "hoverinfo": "skip",
         "line": {
          "color": "#9e9e9e",
          "width": 1
         },
         "mode": "lines",
         "type": "scatter",
         "x": [
          25.5,
          25.5
         ],
         "xaxis": "x",
         "y": [
          4.5,
          6.5
         ],
         "yaxis": "y"
        },
        {
         "hoverinfo": "skip",
         "line": {
          "color": "#9e9e9e",
          "width": 1
         },
         "mode": "lines",
         "type": "scatter",
         "x": [
          25.5,
          26.5
         ],
         "xaxis": "x",
         "y": [
          4.5,
          4.5
         ],
         "yaxis": "y"
        },
        {
         "hoverinfo": "skip",
         "line": {
          "color": "#9e9e9e",
          "width": 1
         },
         "mode": "lines",
         "type": "scatter",
         "x": [
          26.5,
          26.5
         ],
         "xaxis": "x",
         "y": [
          4.5,
          -0.5
         ],
         "yaxis": "y"
        },
        {
         "hoverinfo": "skip",
         "line": {
          "color": "#9e9e9e",
          "width": 1
         },
         "mode": "lines",
         "type": "scatter",
         "x": [
          30.5,
          30.5
         ],
         "xaxis": "x",
         "y": [
          0.5,
          6.5
         ],
         "yaxis": "y"
        },
        {
         "hoverinfo": "skip",
         "line": {
          "color": "#9e9e9e",
          "width": 1
         },
         "mode": "lines",
         "type": "scatter",
         "x": [
          30.5,
          31.5
         ],
         "xaxis": "x",
         "y": [
          0.5,
          0.5
         ],
         "yaxis": "y"
        },
        {
         "hoverinfo": "skip",
         "line": {
          "color": "#9e9e9e",
          "width": 1
         },
         "mode": "lines",
         "type": "scatter",
         "x": [
          31.5,
          31.5
         ],
         "xaxis": "x",
         "y": [
          0.5,
          -0.5
         ],
         "yaxis": "y"
        },
        {
         "hoverinfo": "skip",
         "line": {
          "color": "#9e9e9e",
          "width": 1
         },
         "mode": "lines",
         "type": "scatter",
         "x": [
          34.5,
          34.5
         ],
         "xaxis": "x",
         "y": [
          3.5,
          6.5
         ],
         "yaxis": "y"
        },
        {
         "hoverinfo": "skip",
         "line": {
          "color": "#9e9e9e",
          "width": 1
         },
         "mode": "lines",
         "type": "scatter",
         "x": [
          34.5,
          35.5
         ],
         "xaxis": "x",
         "y": [
          3.5,
          3.5
         ],
         "yaxis": "y"
        },
        {
         "hoverinfo": "skip",
         "line": {
          "color": "#9e9e9e",
          "width": 1
         },
         "mode": "lines",
         "type": "scatter",
         "x": [
          35.5,
          35.5
         ],
         "xaxis": "x",
         "y": [
          3.5,
          -0.5
         ],
         "yaxis": "y"
        },
        {
         "hoverinfo": "skip",
         "line": {
          "color": "#9e9e9e",
          "width": 1
         },
         "mode": "lines",
         "type": "scatter",
         "x": [
          38.5,
          38.5
         ],
         "xaxis": "x",
         "y": [
          5.5,
          6.5
         ],
         "yaxis": "y"
        },
        {
         "hoverinfo": "skip",
         "line": {
          "color": "#9e9e9e",
          "width": 1
         },
         "mode": "lines",
         "type": "scatter",
         "x": [
          38.5,
          39.5
         ],
         "xaxis": "x",
         "y": [
          5.5,
          5.5
         ],
         "yaxis": "y"
        },
        {
         "hoverinfo": "skip",
         "line": {
          "color": "#9e9e9e",
          "width": 1
         },
         "mode": "lines",
         "type": "scatter",
         "x": [
          39.5,
          39.5
         ],
         "xaxis": "x",
         "y": [
          5.5,
          -0.5
         ],
         "yaxis": "y"
        },
        {
         "hoverinfo": "skip",
         "line": {
          "color": "#9e9e9e",
          "width": 1
         },
         "mode": "lines",
         "type": "scatter",
         "x": [
          43.5,
          43.5
         ],
         "xaxis": "x",
         "y": [
          1.5,
          6.5
         ],
         "yaxis": "y"
        },
        {
         "hoverinfo": "skip",
         "line": {
          "color": "#9e9e9e",
          "width": 1
         },
         "mode": "lines",
         "type": "scatter",
         "x": [
          43.5,
          44.5
         ],
         "xaxis": "x",
         "y": [
          1.5,
          1.5
         ],
         "yaxis": "y"
        },
        {
         "hoverinfo": "skip",
         "line": {
          "color": "#9e9e9e",
          "width": 1
         },
         "mode": "lines",
         "type": "scatter",
         "x": [
          44.5,
          44.5
         ],
         "xaxis": "x",
         "y": [
          1.5,
          -0.5
         ],
         "yaxis": "y"
        },
        {
         "hoverinfo": "skip",
         "line": {
          "color": "#9e9e9e",
          "width": 1
         },
         "mode": "lines",
         "type": "scatter",
         "x": [
          47.5,
          47.5
         ],
         "xaxis": "x",
         "y": [
          3.5,
          6.5
         ],
         "yaxis": "y"
        },
        {
         "hoverinfo": "skip",
         "line": {
          "color": "#9e9e9e",
          "width": 1
         },
         "mode": "lines",
         "type": "scatter",
         "x": [
          47.5,
          48.5
         ],
         "xaxis": "x",
         "y": [
          3.5,
          3.5
         ],
         "yaxis": "y"
        },
        {
         "hoverinfo": "skip",
         "line": {
          "color": "#9e9e9e",
          "width": 1
         },
         "mode": "lines",
         "type": "scatter",
         "x": [
          48.5,
          48.5
         ],
         "xaxis": "x",
         "y": [
          3.5,
          -0.5
         ],
         "yaxis": "y"
        }
       ],
       "layout": {
        "font": {
         "color": "#9e9e9e",
         "size": 10
        },
        "height": 250,
        "margin": {
         "b": 20,
         "t": 20
        },
        "plot_bgcolor": "#fff",
        "showlegend": false,
        "template": {
         "data": {
          "bar": [
           {
            "error_x": {
             "color": "#2a3f5f"
            },
            "error_y": {
             "color": "#2a3f5f"
            },
            "marker": {
             "line": {
              "color": "#E5ECF6",
              "width": 0.5
             },
             "pattern": {
              "fillmode": "overlay",
              "size": 10,
              "solidity": 0.2
             }
            },
            "type": "bar"
           }
          ],
          "barpolar": [
           {
            "marker": {
             "line": {
              "color": "#E5ECF6",
              "width": 0.5
             },
             "pattern": {
              "fillmode": "overlay",
              "size": 10,
              "solidity": 0.2
             }
            },
            "type": "barpolar"
           }
          ],
          "carpet": [
           {
            "aaxis": {
             "endlinecolor": "#2a3f5f",
             "gridcolor": "white",
             "linecolor": "white",
             "minorgridcolor": "white",
             "startlinecolor": "#2a3f5f"
            },
            "baxis": {
             "endlinecolor": "#2a3f5f",
             "gridcolor": "white",
             "linecolor": "white",
             "minorgridcolor": "white",
             "startlinecolor": "#2a3f5f"
            },
            "type": "carpet"
           }
          ],
          "choropleth": [
           {
            "colorbar": {
             "outlinewidth": 0,
             "ticks": ""
            },
            "type": "choropleth"
           }
          ],
          "contour": [
           {
            "colorbar": {
             "outlinewidth": 0,
             "ticks": ""
            },
            "colorscale": [
             [
              0,
              "#0d0887"
             ],
             [
              0.1111111111111111,
              "#46039f"
             ],
             [
              0.2222222222222222,
              "#7201a8"
             ],
             [
              0.3333333333333333,
              "#9c179e"
             ],
             [
              0.4444444444444444,
              "#bd3786"
             ],
             [
              0.5555555555555556,
              "#d8576b"
             ],
             [
              0.6666666666666666,
              "#ed7953"
             ],
             [
              0.7777777777777778,
              "#fb9f3a"
             ],
             [
              0.8888888888888888,
              "#fdca26"
             ],
             [
              1,
              "#f0f921"
             ]
            ],
            "type": "contour"
           }
          ],
          "contourcarpet": [
           {
            "colorbar": {
             "outlinewidth": 0,
             "ticks": ""
            },
            "type": "contourcarpet"
           }
          ],
          "heatmap": [
           {
            "colorbar": {
             "outlinewidth": 0,
             "ticks": ""
            },
            "colorscale": [
             [
              0,
              "#0d0887"
             ],
             [
              0.1111111111111111,
              "#46039f"
             ],
             [
              0.2222222222222222,
              "#7201a8"
             ],
             [
              0.3333333333333333,
              "#9c179e"
             ],
             [
              0.4444444444444444,
              "#bd3786"
             ],
             [
              0.5555555555555556,
              "#d8576b"
             ],
             [
              0.6666666666666666,
              "#ed7953"
             ],
             [
              0.7777777777777778,
              "#fb9f3a"
             ],
             [
              0.8888888888888888,
              "#fdca26"
             ],
             [
              1,
              "#f0f921"
             ]
            ],
            "type": "heatmap"
           }
          ],
          "heatmapgl": [
           {
            "colorbar": {
             "outlinewidth": 0,
             "ticks": ""
            },
            "colorscale": [
             [
              0,
              "#0d0887"
             ],
             [
              0.1111111111111111,
              "#46039f"
             ],
             [
              0.2222222222222222,
              "#7201a8"
             ],
             [
              0.3333333333333333,
              "#9c179e"
             ],
             [
              0.4444444444444444,
              "#bd3786"
             ],
             [
              0.5555555555555556,
              "#d8576b"
             ],
             [
              0.6666666666666666,
              "#ed7953"
             ],
             [
              0.7777777777777778,
              "#fb9f3a"
             ],
             [
              0.8888888888888888,
              "#fdca26"
             ],
             [
              1,
              "#f0f921"
             ]
            ],
            "type": "heatmapgl"
           }
          ],
          "histogram": [
           {
            "marker": {
             "pattern": {
              "fillmode": "overlay",
              "size": 10,
              "solidity": 0.2
             }
            },
            "type": "histogram"
           }
          ],
          "histogram2d": [
           {
            "colorbar": {
             "outlinewidth": 0,
             "ticks": ""
            },
            "colorscale": [
             [
              0,
              "#0d0887"
             ],
             [
              0.1111111111111111,
              "#46039f"
             ],
             [
              0.2222222222222222,
              "#7201a8"
             ],
             [
              0.3333333333333333,
              "#9c179e"
             ],
             [
              0.4444444444444444,
              "#bd3786"
             ],
             [
              0.5555555555555556,
              "#d8576b"
             ],
             [
              0.6666666666666666,
              "#ed7953"
             ],
             [
              0.7777777777777778,
              "#fb9f3a"
             ],
             [
              0.8888888888888888,
              "#fdca26"
             ],
             [
              1,
              "#f0f921"
             ]
            ],
            "type": "histogram2d"
           }
          ],
          "histogram2dcontour": [
           {
            "colorbar": {
             "outlinewidth": 0,
             "ticks": ""
            },
            "colorscale": [
             [
              0,
              "#0d0887"
             ],
             [
              0.1111111111111111,
              "#46039f"
             ],
             [
              0.2222222222222222,
              "#7201a8"
             ],
             [
              0.3333333333333333,
              "#9c179e"
             ],
             [
              0.4444444444444444,
              "#bd3786"
             ],
             [
              0.5555555555555556,
              "#d8576b"
             ],
             [
              0.6666666666666666,
              "#ed7953"
             ],
             [
              0.7777777777777778,
              "#fb9f3a"
             ],
             [
              0.8888888888888888,
              "#fdca26"
             ],
             [
              1,
              "#f0f921"
             ]
            ],
            "type": "histogram2dcontour"
           }
          ],
          "mesh3d": [
           {
            "colorbar": {
             "outlinewidth": 0,
             "ticks": ""
            },
            "type": "mesh3d"
           }
          ],
          "parcoords": [
           {
            "line": {
             "colorbar": {
              "outlinewidth": 0,
              "ticks": ""
             }
            },
            "type": "parcoords"
           }
          ],
          "pie": [
           {
            "automargin": true,
            "type": "pie"
           }
          ],
          "scatter": [
           {
            "fillpattern": {
             "fillmode": "overlay",
             "size": 10,
             "solidity": 0.2
            },
            "type": "scatter"
           }
          ],
          "scatter3d": [
           {
            "line": {
             "colorbar": {
              "outlinewidth": 0,
              "ticks": ""
             }
            },
            "marker": {
             "colorbar": {
              "outlinewidth": 0,
              "ticks": ""
             }
            },
            "type": "scatter3d"
           }
          ],
          "scattercarpet": [
           {
            "marker": {
             "colorbar": {
              "outlinewidth": 0,
              "ticks": ""
             }
            },
            "type": "scattercarpet"
           }
          ],
          "scattergeo": [
           {
            "marker": {
             "colorbar": {
              "outlinewidth": 0,
              "ticks": ""
             }
            },
            "type": "scattergeo"
           }
          ],
          "scattergl": [
           {
            "marker": {
             "colorbar": {
              "outlinewidth": 0,
              "ticks": ""
             }
            },
            "type": "scattergl"
           }
          ],
          "scattermapbox": [
           {
            "marker": {
             "colorbar": {
              "outlinewidth": 0,
              "ticks": ""
             }
            },
            "type": "scattermapbox"
           }
          ],
          "scatterpolar": [
           {
            "marker": {
             "colorbar": {
              "outlinewidth": 0,
              "ticks": ""
             }
            },
            "type": "scatterpolar"
           }
          ],
          "scatterpolargl": [
           {
            "marker": {
             "colorbar": {
              "outlinewidth": 0,
              "ticks": ""
             }
            },
            "type": "scatterpolargl"
           }
          ],
          "scatterternary": [
           {
            "marker": {
             "colorbar": {
              "outlinewidth": 0,
              "ticks": ""
             }
            },
            "type": "scatterternary"
           }
          ],
          "surface": [
           {
            "colorbar": {
             "outlinewidth": 0,
             "ticks": ""
            },
            "colorscale": [
             [
              0,
              "#0d0887"
             ],
             [
              0.1111111111111111,
              "#46039f"
             ],
             [
              0.2222222222222222,
              "#7201a8"
             ],
             [
              0.3333333333333333,
              "#9c179e"
             ],
             [
              0.4444444444444444,
              "#bd3786"
             ],
             [
              0.5555555555555556,
              "#d8576b"
             ],
             [
              0.6666666666666666,
              "#ed7953"
             ],
             [
              0.7777777777777778,
              "#fb9f3a"
             ],
             [
              0.8888888888888888,
              "#fdca26"
             ],
             [
              1,
              "#f0f921"
             ]
            ],
            "type": "surface"
           }
          ],
          "table": [
           {
            "cells": {
             "fill": {
              "color": "#EBF0F8"
             },
             "line": {
              "color": "white"
             }
            },
            "header": {
             "fill": {
              "color": "#C8D4E3"
             },
             "line": {
              "color": "white"
             }
            },
            "type": "table"
           }
          ]
         },
         "layout": {
          "annotationdefaults": {
           "arrowcolor": "#2a3f5f",
           "arrowhead": 0,
           "arrowwidth": 1
          },
          "autotypenumbers": "strict",
          "coloraxis": {
           "colorbar": {
            "outlinewidth": 0,
            "ticks": ""
           }
          },
          "colorscale": {
           "diverging": [
            [
             0,
             "#8e0152"
            ],
            [
             0.1,
             "#c51b7d"
            ],
            [
             0.2,
             "#de77ae"
            ],
            [
             0.3,
             "#f1b6da"
            ],
            [
             0.4,
             "#fde0ef"
            ],
            [
             0.5,
             "#f7f7f7"
            ],
            [
             0.6,
             "#e6f5d0"
            ],
            [
             0.7,
             "#b8e186"
            ],
            [
             0.8,
             "#7fbc41"
            ],
            [
             0.9,
             "#4d9221"
            ],
            [
             1,
             "#276419"
            ]
           ],
           "sequential": [
            [
             0,
             "#0d0887"
            ],
            [
             0.1111111111111111,
             "#46039f"
            ],
            [
             0.2222222222222222,
             "#7201a8"
            ],
            [
             0.3333333333333333,
             "#9c179e"
            ],
            [
             0.4444444444444444,
             "#bd3786"
            ],
            [
             0.5555555555555556,
             "#d8576b"
            ],
            [
             0.6666666666666666,
             "#ed7953"
            ],
            [
             0.7777777777777778,
             "#fb9f3a"
            ],
            [
             0.8888888888888888,
             "#fdca26"
            ],
            [
             1,
             "#f0f921"
            ]
           ],
           "sequentialminus": [
            [
             0,
             "#0d0887"
            ],
            [
             0.1111111111111111,
             "#46039f"
            ],
            [
             0.2222222222222222,
             "#7201a8"
            ],
            [
             0.3333333333333333,
             "#9c179e"
            ],
            [
             0.4444444444444444,
             "#bd3786"
            ],
            [
             0.5555555555555556,
             "#d8576b"
            ],
            [
             0.6666666666666666,
             "#ed7953"
            ],
            [
             0.7777777777777778,
             "#fb9f3a"
            ],
            [
             0.8888888888888888,
             "#fdca26"
            ],
            [
             1,
             "#f0f921"
            ]
           ]
          },
          "colorway": [
           "#636efa",
           "#EF553B",
           "#00cc96",
           "#ab63fa",
           "#FFA15A",
           "#19d3f3",
           "#FF6692",
           "#B6E880",
           "#FF97FF",
           "#FECB52"
          ],
          "font": {
           "color": "#2a3f5f"
          },
          "geo": {
           "bgcolor": "white",
           "lakecolor": "white",
           "landcolor": "#E5ECF6",
           "showlakes": true,
           "showland": true,
           "subunitcolor": "white"
          },
          "hoverlabel": {
           "align": "left"
          },
          "hovermode": "closest",
          "mapbox": {
           "style": "light"
          },
          "paper_bgcolor": "white",
          "plot_bgcolor": "#E5ECF6",
          "polar": {
           "angularaxis": {
            "gridcolor": "white",
            "linecolor": "white",
            "ticks": ""
           },
           "bgcolor": "#E5ECF6",
           "radialaxis": {
            "gridcolor": "white",
            "linecolor": "white",
            "ticks": ""
           }
          },
          "scene": {
           "xaxis": {
            "backgroundcolor": "#E5ECF6",
            "gridcolor": "white",
            "gridwidth": 2,
            "linecolor": "white",
            "showbackground": true,
            "ticks": "",
            "zerolinecolor": "white"
           },
           "yaxis": {
            "backgroundcolor": "#E5ECF6",
            "gridcolor": "white",
            "gridwidth": 2,
            "linecolor": "white",
            "showbackground": true,
            "ticks": "",
            "zerolinecolor": "white"
           },
           "zaxis": {
            "backgroundcolor": "#E5ECF6",
            "gridcolor": "white",
            "gridwidth": 2,
            "linecolor": "white",
            "showbackground": true,
            "ticks": "",
            "zerolinecolor": "white"
           }
          },
          "shapedefaults": {
           "line": {
            "color": "#2a3f5f"
           }
          },
          "ternary": {
           "aaxis": {
            "gridcolor": "white",
            "linecolor": "white",
            "ticks": ""
           },
           "baxis": {
            "gridcolor": "white",
            "linecolor": "white",
            "ticks": ""
           },
           "bgcolor": "#E5ECF6",
           "caxis": {
            "gridcolor": "white",
            "linecolor": "white",
            "ticks": ""
           }
          },
          "title": {
           "x": 0.05
          },
          "xaxis": {
           "automargin": true,
           "gridcolor": "white",
           "linecolor": "white",
           "ticks": "",
           "title": {
            "standoff": 15
           },
           "zerolinecolor": "white",
           "zerolinewidth": 2
          },
          "yaxis": {
           "automargin": true,
           "gridcolor": "white",
           "linecolor": "white",
           "ticks": "",
           "title": {
            "standoff": 15
           },
           "zerolinecolor": "white",
           "zerolinewidth": 2
          }
         }
        },
        "title": {
         "text": "Number of Liked Tweets per Day 2023"
        },
        "xaxis": {
         "anchor": "y",
         "domain": [
          0,
          1
         ],
         "showgrid": false,
         "showline": false,
         "tickmode": "array",
         "ticktext": [
          "January",
          "February",
          "March",
          "April",
          "May",
          "June",
          "July",
          "August",
          "September",
          "October",
          "November",
          "December"
         ],
         "tickvals": [
          1.5,
          5.909090909090909,
          10.318181818181818,
          14.727272727272727,
          19.136363636363637,
          23.545454545454547,
          27.954545454545453,
          32.36363636363636,
          36.77272727272727,
          41.18181818181818,
          45.59090909090909,
          50
         ],
         "zeroline": false
        },
        "yaxis": {
         "anchor": "x",
         "autorange": "reversed",
         "domain": [
          0,
          1
         ],
         "showgrid": false,
         "showline": false,
         "tickmode": "array",
         "ticktext": [
          "Mon",
          "Tue",
          "Wed",
          "Thu",
          "Fri",
          "Sat",
          "Sun"
         ],
         "tickvals": [
          0,
          1,
          2,
          3,
          4,
          5,
          6
         ],
         "zeroline": false
        }
       }
      }
     },
     "metadata": {},
     "output_type": "display_data"
    }
   ],
   "source": [
    "from plotly_calplot import calplot\n",
    "\n",
    "def convert_to_day_df(df):\n",
    "    # Convert the 'date' column to datetime if it's not already\n",
    "    df['date'] = pd.to_datetime(df['date'])\n",
    "    day_df = df.groupby(df['date'].dt.date).size().reset_index(name='num_tweets')\n",
    "    \n",
    "    return day_df\n",
    "\n",
    "day_df = convert_to_day_df(df)\n",
    "day_df.head(2)\n",
    "\n",
    "fig = calplot(day_df[(day_df['date'].astype(str)>'2023-01-01') & (day_df['date'].astype(str) < '2024-01-01')], x=\"date\", y=\"num_tweets\", \n",
    "              start_month = 1,\n",
    "    end_month = 12,\n",
    "    )\n",
    "\n",
    "# set height of the figure\n",
    "fig.update_layout(height=250)\n",
    "# add title \n",
    "fig.update_layout(title='Number of Liked Tweets per Day 2023')\n",
    "fig.show()"
   ]
  },
  {
   "cell_type": "code",
   "execution_count": null,
   "metadata": {},
   "outputs": [],
   "source": []
  },
  {
   "cell_type": "code",
   "execution_count": null,
   "metadata": {},
   "outputs": [],
   "source": []
  },
  {
   "cell_type": "code",
   "execution_count": null,
   "metadata": {},
   "outputs": [],
   "source": []
  },
  {
   "cell_type": "markdown",
   "metadata": {},
   "source": [
    "## Image captions \n",
    "Proof of concept: get high level summary, detailed description and tags for first image from liked tweets. \n",
    "\n",
    "\n",
    "With GPT-4-V. \n",
    "\n",
    "Gemini 1.0 also works pretty great for this usecase.\n",
    "\n",
    "Mainly, convert image to structured json data. "
   ]
  },
  {
   "cell_type": "code",
   "execution_count": 10,
   "metadata": {},
   "outputs": [],
   "source": [
    "from openai import OpenAI\n",
    "from config import OPENAI_API_KEY\n",
    "import os \n",
    "import json\n",
    "from IPython.display import Image, display\n",
    "\n",
    "if \"OPENAI_API_KEY\" not in os.environ:\n",
    "    os.environ[\"OPENAI_API_KEY\"] = OPENAI_API_KEY\n",
    "\n",
    "client = OpenAI()\n",
    "\n",
    "def get_valid_json_with_gpt35(input):\n",
    "    response = client.chat.completions.create(\n",
    "        model=\"gpt-3.5-turbo-0125\", # latest version of GPT-3.5, better JSON mode support.\n",
    "        messages=[\n",
    "            {\n",
    "            \"role\": \"system\",\n",
    "            \"content\": \"You will be given a JSON string (that may not be completely valid), your task is to create a valid JSON results based on the input. Try keep the structure of the input JSON as much as possible.\"\n",
    "            }, \n",
    "            {\n",
    "            \"role\": \"user\",\n",
    "            \"content\": input\n",
    "            }\n",
    "        ],\n",
    "        temperature=0.1,\n",
    "        response_format = { \"type\": \"json_object\" },\n",
    "        max_tokens=2000,\n",
    "        )\n",
    "    return response.choices[0].message.content\n",
    "\n",
    "def get_tweet_image_captioning(image_url, author_name, text):\n",
    "    image_prompt = f\"\"\"\n",
    "    This is a tweet from {author_name}, \n",
    "    with the following text:\n",
    "    {text}.\n",
    "\n",
    "    Below is an image from the tweet.\n",
    "    Your task is to caption the image and provide a description. reference the text or author if necessary. \n",
    "\n",
    "    Output rules you MUST follow:\n",
    "    - \"Summary\": A brief high level, big picture description of the image. What is this and what is this for?\n",
    "    - \"Description\": A detailed description of the image. If there are text in the image, please include all of it in the description. (in its original language)\n",
    "    - \"Tags\": a brief list of high level tags that describe the image. (e.g. \"cat\", \"anime girl\", \"food\")\n",
    "\n",
    "    Return results in a JSON format (with \"Answer\" as key, contains list of  dictionary with exactly these key names):    \n",
    "\"\"\"\n",
    "\n",
    "    vision_response = client.chat.completions.create(\n",
    "        model=\"gpt-4-vision-preview\",\n",
    "        messages=[\n",
    "            {\n",
    "            \"role\": \"user\",\n",
    "            \"content\": [\n",
    "                {\"type\": \"text\", \"text\": image_prompt},\n",
    "                {\n",
    "                \"type\": \"image_url\",\n",
    "                \"image_url\": {\n",
    "                    \"url\": image_url,\n",
    "                },\n",
    "                },\n",
    "            ],\n",
    "            }\n",
    "        ],\n",
    "        max_tokens=1000,\n",
    "        )\n",
    "    \n",
    "    # Post process the response with GPT 3.5 json mode\n",
    "    json_captions = get_valid_json_with_gpt35(vision_response.choices[0].message.content)\n",
    "    return json_captions\n"
   ]
  },
  {
   "cell_type": "code",
   "execution_count": 35,
   "metadata": {},
   "outputs": [],
   "source": [
    "sample_image_df = df[df.media_type=='Image'].head(30)\n",
    "sample_image_urls = sample_image_df.images_urls.tolist()\n",
    "sample_authors = sample_image_df.author_name.tolist()\n",
    "sample_texts = sample_image_df.text.tolist()"
   ]
  },
  {
   "cell_type": "code",
   "execution_count": null,
   "metadata": {},
   "outputs": [],
   "source": []
  },
  {
   "cell_type": "code",
   "execution_count": 42,
   "metadata": {},
   "outputs": [
    {
     "data": {
      "text/html": [
       "<img src=\"https://pbs.twimg.com/media/GGQj7ObbQAAaKgl?format=jpg&name=900x900\"/>"
      ],
      "text/plain": [
       "<IPython.core.display.Image object>"
      ]
     },
     "metadata": {},
     "output_type": "display_data"
    }
   ],
   "source": [
    "cur_idx = 26\n",
    "image_url = sample_image_urls[cur_idx][0]\n",
    "author_name = sample_authors[cur_idx]\n",
    "text = sample_texts[cur_idx]\n",
    "\n",
    "display(Image(url=image_url))"
   ]
  },
  {
   "cell_type": "code",
   "execution_count": 43,
   "metadata": {},
   "outputs": [
    {
     "name": "stdout",
     "output_type": "stream",
     "text": [
      "Image url: https://pbs.twimg.com/media/GGQj7ObbQAAaKgl?format=jpg&name=900x900\n",
      "Author name: Kars\n",
      "Text: Cover for Fate/Strange Fake volume 9 which will release on March 8.\n",
      "\n",
      "https://dengekibunko.jp/product/fate/322308000304.html… #strangefake\n"
     ]
    }
   ],
   "source": [
    "\n",
    "print(f\"Image url: {image_url}\\n\"\n",
    "      f\"Author name: {author_name}\\n\"\n",
    "      f\"Text: {text}\"   )\n",
    "\n",
    "result = get_tweet_image_captioning(image_url, author_name, text)"
   ]
  },
  {
   "cell_type": "code",
   "execution_count": 44,
   "metadata": {},
   "outputs": [
    {
     "name": "stdout",
     "output_type": "stream",
     "text": [
      "{\n",
      "    \"Answer\": [\n",
      "        {\n",
      "            \"Summary\": \"The image is an illustrated cover art for 'Fate/Strange Fake' volume 9 which is set to release on March 8 as mentioned in the tweet by Kars.\",\n",
      "            \"Description\": \"The image features an anime-style illustration of a red-haired female character with a determined expression. She is wearing a white Greek-style toga with a purple sash, which appears to be unraveling, and black and white armored gloves. The character has a red choker and earrings, and blood is visible on her shoulder. Behind her, a chaotic burst illustrates a dramatic scene with dark red visual effects that resemble flames or shards of destruction, contrasting against the brighter colors in the foreground. There is no text within the image itself.\",\n",
      "            \"Tags\": [\n",
      "                \"anime\",\n",
      "                \"book cover\",\n",
      "                \"Fate/Strange Fake\",\n",
      "                \"illustration\",\n",
      "                \"red-haired anime character\"\n",
      "            ]\n",
      "        }\n",
      "    ]\n",
      "}\n"
     ]
    }
   ],
   "source": [
    "print(json.dumps(json.loads(result), indent=4))"
   ]
  },
  {
   "cell_type": "code",
   "execution_count": null,
   "metadata": {},
   "outputs": [],
   "source": []
  },
  {
   "cell_type": "markdown",
   "metadata": {},
   "source": [
    "## Download images"
   ]
  },
  {
   "cell_type": "code",
   "execution_count": 10,
   "metadata": {},
   "outputs": [
    {
     "data": {
      "text/html": [
       "<div>\n",
       "<style scoped>\n",
       "    .dataframe tbody tr th:only-of-type {\n",
       "        vertical-align: middle;\n",
       "    }\n",
       "\n",
       "    .dataframe tbody tr th {\n",
       "        vertical-align: top;\n",
       "    }\n",
       "\n",
       "    .dataframe thead th {\n",
       "        text-align: right;\n",
       "    }\n",
       "</style>\n",
       "<table border=\"1\" class=\"dataframe\">\n",
       "  <thead>\n",
       "    <tr style=\"text-align: right;\">\n",
       "      <th></th>\n",
       "      <th>text</th>\n",
       "      <th>author_name</th>\n",
       "      <th>author_handle</th>\n",
       "      <th>date</th>\n",
       "      <th>lang</th>\n",
       "      <th>url</th>\n",
       "      <th>mentioned_urls</th>\n",
       "      <th>is_retweet</th>\n",
       "      <th>media_type</th>\n",
       "      <th>images_urls</th>\n",
       "      <th>num_reply</th>\n",
       "      <th>num_retweet</th>\n",
       "      <th>num_like</th>\n",
       "      <th>num_view</th>\n",
       "      <th>WeekdayName</th>\n",
       "      <th>WeekdayNumber</th>\n",
       "    </tr>\n",
       "  </thead>\n",
       "  <tbody>\n",
       "    <tr>\n",
       "      <th>0</th>\n",
       "      <td>Towards Long Context RAG \\n\\nGemini 1.5 Pro is...</td>\n",
       "      <td>LlamaIndex</td>\n",
       "      <td>@llama_index</td>\n",
       "      <td>2024-03-01</td>\n",
       "      <td>en</td>\n",
       "      <td>https://twitter.com/llama_index/status/1763620...</td>\n",
       "      <td>[]</td>\n",
       "      <td>False</td>\n",
       "      <td>Image</td>\n",
       "      <td>[https://pbs.twimg.com/media/GHmjUsMaEAA5hRQ?f...</td>\n",
       "      <td>3</td>\n",
       "      <td>69</td>\n",
       "      <td>298</td>\n",
       "      <td>0</td>\n",
       "      <td>Friday</td>\n",
       "      <td>4</td>\n",
       "    </tr>\n",
       "    <tr>\n",
       "      <th>1</th>\n",
       "      <td>LayerDiffusion 这个可以直接生成透明背景图片的项目已经可以在forge的扩展上...</td>\n",
       "      <td>歸藏</td>\n",
       "      <td>@op7418</td>\n",
       "      <td>2024-03-01</td>\n",
       "      <td>zh</td>\n",
       "      <td>https://twitter.com/op7418/status/176356361919...</td>\n",
       "      <td>[]</td>\n",
       "      <td>False</td>\n",
       "      <td>Video</td>\n",
       "      <td>None</td>\n",
       "      <td>7</td>\n",
       "      <td>71</td>\n",
       "      <td>267</td>\n",
       "      <td>0</td>\n",
       "      <td>Friday</td>\n",
       "      <td>4</td>\n",
       "    </tr>\n",
       "  </tbody>\n",
       "</table>\n",
       "</div>"
      ],
      "text/plain": [
       "                                                text author_name  \\\n",
       "0  Towards Long Context RAG \\n\\nGemini 1.5 Pro is...  LlamaIndex   \n",
       "1  LayerDiffusion 这个可以直接生成透明背景图片的项目已经可以在forge的扩展上...          歸藏   \n",
       "\n",
       "  author_handle       date lang  \\\n",
       "0  @llama_index 2024-03-01   en   \n",
       "1       @op7418 2024-03-01   zh   \n",
       "\n",
       "                                                 url mentioned_urls  \\\n",
       "0  https://twitter.com/llama_index/status/1763620...             []   \n",
       "1  https://twitter.com/op7418/status/176356361919...             []   \n",
       "\n",
       "   is_retweet media_type                                        images_urls  \\\n",
       "0       False      Image  [https://pbs.twimg.com/media/GHmjUsMaEAA5hRQ?f...   \n",
       "1       False      Video                                               None   \n",
       "\n",
       "   num_reply  num_retweet  num_like  num_view WeekdayName  WeekdayNumber  \n",
       "0          3           69       298         0      Friday              4  \n",
       "1          7           71       267         0      Friday              4  "
      ]
     },
     "execution_count": 10,
     "metadata": {},
     "output_type": "execute_result"
    }
   ],
   "source": [
    "df.head(2)"
   ]
  },
  {
   "cell_type": "code",
   "execution_count": 13,
   "metadata": {},
   "outputs": [],
   "source": [
    "import os\n",
    "import requests\n",
    "import time\n",
    "from urllib.parse import urlparse\n",
    "\n",
    "def download_images(df, output_dir='downloaded_images'):\n",
    "    if not os.path.exists(output_dir):\n",
    "        os.makedirs(output_dir)\n",
    "\n",
    "    for _, row in df.iterrows():\n",
    "        if row['images_urls'] is not None:\n",
    "            url_parts = urlparse(row['url'])\n",
    "            twitter_name = url_parts.path.split('/')[1]\n",
    "            tweet_id = url_parts.path.split('/')[-1]\n",
    "\n",
    "            for i, image_url in enumerate(row['images_urls'], start=1):\n",
    "                image_id = f\"{twitter_name}__{tweet_id}_{i}\"\n",
    "                image_path = os.path.join(output_dir, f\"{image_id}.jpg\")\n",
    "\n",
    "                try:\n",
    "                    response = requests.get(image_url, stream=True)\n",
    "                    response.raise_for_status()\n",
    "\n",
    "                    with open(image_path, 'wb') as file:\n",
    "                        for chunk in response.iter_content(chunk_size=8192):\n",
    "                            file.write(chunk)\n",
    "\n",
    "                    print(f\"Downloaded image: {image_id}\")\n",
    "                    time.sleep(1)  # Add a delay to avoid being banned by Twitter\n",
    "\n",
    "                except requests.exceptions.RequestException as e:\n",
    "                    print(f\"Error downloading image: {image_id}\")\n",
    "                    print(f\"Error message: {str(e)}\")\n",
    "\n",
    "    print(\"Image download completed.\")"
   ]
  },
  {
   "cell_type": "code",
   "execution_count": 15,
   "metadata": {},
   "outputs": [
    {
     "data": {
      "text/plain": [
       "(1026, 16)"
      ]
     },
     "execution_count": 15,
     "metadata": {},
     "output_type": "execute_result"
    }
   ],
   "source": [
    "df.shape "
   ]
  },
  {
   "cell_type": "code",
   "execution_count": 16,
   "metadata": {},
   "outputs": [
    {
     "name": "stdout",
     "output_type": "stream",
     "text": [
      "Downloaded image: llama_index__1763620476847632744_1\n",
      "Downloaded image: MadSealCutter__1763107184580112694_1\n",
      "Downloaded image: sophiamyang__1762125912051519947_1\n",
      "Downloaded image: Sentdex__1761574584959095097_1\n",
      "Downloaded image: OrwellNGoode__1760960242915930329_1\n",
      "Downloaded image: LostLeanore__1760738125918425471_1\n",
      "Downloaded image: FedeItaliano76__1760596748764917765_1\n",
      "Downloaded image: FedeItaliano76__1760596748764917765_2\n",
      "Downloaded image: FedeItaliano76__1760596748764917765_3\n",
      "Downloaded image: FedeItaliano76__1760596748764917765_4\n",
      "Downloaded image: chrisalbon__1760760129300070602_1\n",
      "Downloaded image: DrJimFan__1760695377651781950_1\n",
      "Downloaded image: DrJimFan__1760695377651781950_2\n",
      "Downloaded image: DrJimFan__1760695377651781950_3\n",
      "Downloaded image: DrJimFan__1760695377651781950_4\n",
      "Downloaded image: elonmusk__1759295781196927438_1\n",
      "Downloaded image: elonmusk__1759295781196927438_2\n",
      "Downloaded image: elonmusk__1759295781196927438_3\n",
      "Downloaded image: IronPineapple___1760394643265462645_1\n",
      "Downloaded image: JeffDean__1760291769252762110_1\n",
      "Downloaded image: ELDENRING__1760076880764449173_1\n",
      "Downloaded image: karpathy__1759996549109776702_1\n",
      "Downloaded image: astraorsa__1759782862931493013_1\n",
      "Downloaded image: OfirPress__1759562221305090282_1\n",
      "Downloaded image: EGCTV_Official__1759304647456477381_1\n",
      "Downloaded image: Culture_Crit__1758876004158750857_1\n",
      "Downloaded image: OpenAIDevs__1758631343595168142_1\n",
      "Downloaded image: Ehco1996__1758300529237852335_1\n",
      "Downloaded image: ollama__1758201836685967599_1\n",
      "Downloaded image: lmsysorg__1758224805676159392_1\n",
      "Downloaded image: JeffDean__1758146211029405951_1\n",
      "Downloaded image: supersat__1757939524251107734_1\n",
      "Downloaded image: onevisualstudio__1757653164906459361_1\n",
      "Downloaded image: op7418__1757619736190607858_1\n",
      "Downloaded image: op7418__1757619736190607858_2\n",
      "Downloaded image: KaroshiMyriad__1757569821481525646_1\n",
      "Downloaded image: AravSrinivas__1756771041790370189_1\n",
      "Downloaded image: AravSrinivas__1756771041790370189_2\n",
      "Downloaded image: AravSrinivas__1756771041790370189_3\n",
      "Downloaded image: AravSrinivas__1756771041790370189_4\n",
      "Downloaded image: TechEmails__1756765277478621620_1\n",
      "Downloaded image: TechEmails__1756765277478621620_2\n",
      "Downloaded image: TechEmails__1756765277478621620_3\n",
      "Downloaded image: TechEmails__1756765277478621620_4\n",
      "Downloaded image: cloudwu__1756594618060476630_1\n",
      "Downloaded image: jobergum__1755939930579022229_1\n",
      "Downloaded image: NickADobos__1755686482801836381_1\n",
      "Downloaded image: NickADobos__1755686482801836381_2\n",
      "Downloaded image: NickADobos__1755686482801836381_3\n",
      "Downloaded image: NickADobos__1755686482801836381_4\n",
      "Downloaded image: SearchDataEng__1755418541313208611_1\n",
      "Downloaded image: joshm__1755263737945027019_1\n",
      "Downloaded image: c_valenzuelab__1754970403309605371_1\n",
      "Downloaded image: c_valenzuelab__1754970403309605371_2\n",
      "Downloaded image: c_valenzuelab__1754970403309605371_3\n",
      "Downloaded image: ManCity__1754614120043716836_1\n",
      "Downloaded image: natfriedman__1754519304471814555_1\n",
      "Downloaded image: jerryjliu0__1753923945789903351_1\n",
      "Downloaded image: jerryjliu0__1753923945789903351_2\n",
      "Downloaded image: CrisGiardina__1753891698822820328_1\n",
      "Downloaded image: khoomeik__1753511199877333254_1\n",
      "Downloaded image: khoomeik__1753511199877333254_2\n",
      "Downloaded image: AI_NewsWaltz__1753488198758527311_1\n",
      "Downloaded image: maccaw__1753298752776134723_1\n",
      "Downloaded image: pmddomingos__1752952346970317048_1\n",
      "Downloaded image: llama_index__1752748298392502521_1\n",
      "Downloaded image: joeyabanks__1752486533729308928_1\n",
      "Downloaded image: Toadsanime__1752377404255813787_1\n",
      "Downloaded image: IroncladDev__1752349724105945181_1\n",
      "Downloaded image: llama_index__1752008109835559123_1\n",
      "Downloaded image: rebecca_hoshino__1751462835484598417_1\n",
      "Downloaded image: goocarlos__1750531961297518698_1\n",
      "Downloaded image: svpino__1750235992559173914_1\n",
      "Downloaded image: RLanceMartin__1750246031512715429_1\n",
      "Downloaded image: lewangx__1750159578560336103_1\n",
      "Downloaded image: DrJimFan__1749484835369050392_1\n",
      "Downloaded image: virattt__1749166976033861832_1\n",
      "Downloaded image: m1ssuo__1748705460859863525_1\n",
      "Downloaded image: dotey__1748827229109334363_1\n",
      "Downloaded image: dotey__1748827229109334363_2\n",
      "Downloaded image: dotey__1748827229109334363_3\n",
      "Downloaded image: dotey__1748827229109334363_4\n",
      "Downloaded image: dotey__1748827229109334363_5\n",
      "Downloaded image: GobeUncleWang__1748611815343276061_1\n",
      "Downloaded image: bo_wangbo__1747865035345715249_1\n",
      "Downloaded image: meterscao__1747813278875799876_1\n",
      "Downloaded image: meterscao__1747813278875799876_2\n",
      "Downloaded image: meterscao__1747813278875799876_3\n",
      "Downloaded image: meterscao__1747813278875799876_4\n",
      "Downloaded image: nalalandoz__1747188775971876948_1\n",
      "Downloaded image: nalalandoz__1747188775971876948_2\n",
      "Downloaded image: nalalandoz__1747188775971876948_3\n",
      "Downloaded image: nalalandoz__1747188775971876948_4\n",
      "Downloaded image: ManCity__1746995854152532341_1\n",
      "Downloaded image: bindureddy__1746329582670872625_1\n",
      "Downloaded image: melaniesclar__1745557310695772582_1\n",
      "Downloaded image: nickfloats__1741166489364025536_1\n",
      "Downloaded image: juliewdesign___1741187503736942661_1\n",
      "Downloaded image: juliewdesign___1741187503736942661_2\n",
      "Downloaded image: juliewdesign___1741187503736942661_3\n",
      "Downloaded image: juliewdesign___1741187503736942661_4\n",
      "Downloaded image: laike9m__1745998971817152764_1\n",
      "Downloaded image: juliewdesign___1745884836059922702_1\n",
      "Downloaded image: juliewdesign___1745884836059922702_2\n",
      "Downloaded image: juliewdesign___1745884836059922702_3\n",
      "Downloaded image: juliewdesign___1745884836059922702_4\n",
      "Downloaded image: Rainmaker1973__1745421959989457206_1\n",
      "Downloaded image: jerryjliu0__1745486856291266821_1\n",
      "Downloaded image: hwchase17__1745171912358060124_1\n",
      "Downloaded image: hwchase17__1745171912358060124_2\n",
      "Downloaded image: lateinteraction__1745190350879408394_1\n",
      "Downloaded image: liuyi0922__1744567260369592706_1\n",
      "Downloaded image: swyx__1744467383090372743_1\n",
      "Downloaded image: swyx__1744467383090372743_2\n",
      "Downloaded image: swyx__1744467383090372743_3\n",
      "Downloaded image: swyx__1744467383090372743_4\n",
      "Downloaded image: jerryjliu0__1744407483719045583_1\n",
      "Downloaded image: jerryjliu0__1744407483719045583_2\n",
      "Downloaded image: bclavie__1742950315278672040_1\n",
      "Downloaded image: LangChainAI__1744080648481260015_1\n",
      "Downloaded image: LangChainAI__1744080648481260015_2\n",
      "Downloaded image: yihong0618__1742910304370216972_1\n",
      "Downloaded image: yihong0618__1742910304370216972_2\n",
      "Downloaded image: yihong0618__1742910304370216972_3\n",
      "Downloaded image: yihong0618__1742910304370216972_4\n",
      "Downloaded image: yihong0618__1742910304370216972_5\n",
      "Downloaded image: yihong0618__1742910304370216972_6\n",
      "Downloaded image: DMEEENGR__1743011666571456567_1\n",
      "Downloaded image: 8teAPi__1742584464461713788_1\n",
      "Downloaded image: DrJimFan__1742604125672701965_1\n",
      "Downloaded image: pronounced_kyle__1742588127628361809_1\n",
      "Downloaded image: pronounced_kyle__1742588127628361809_2\n",
      "Downloaded image: yihong0618__1742105215506264342_1\n",
      "Downloaded image: yihong0618__1742105215506264342_2\n",
      "Downloaded image: michaelcurzi__1741291161673682964_1\n",
      "Downloaded image: csdncto__1741089436912451602_1\n",
      "Downloaded image: dotey__1741254641407365315_1\n",
      "Downloaded image: dotey__1741254641407365315_2\n",
      "Downloaded image: dotey__1741254641407365315_3\n",
      "Downloaded image: Tisoga__1741334292687671713_1\n",
      "Downloaded image: norabelrose__1740409771516432460_1\n",
      "Downloaded image: op7418__1740405945778532793_1\n",
      "Downloaded image: lateinteraction__1736804963760976092_1\n",
      "Downloaded image: lucyj_ford__1739281068103213476_1\n",
      "Downloaded image: lucyj_ford__1739281068103213476_2\n",
      "Downloaded image: goocarlos__1739534482959679492_1\n",
      "Downloaded image: indigo11__1739487929523986531_1\n",
      "Downloaded image: indigo11__1739487929523986531_2\n",
      "Downloaded image: J_Hol95__1739244274896576608_1\n",
      "Downloaded image: ZyMazza__1739363209394655698_1\n",
      "Downloaded image: jerryjliu0__1739307854576943105_1\n",
      "Downloaded image: MagnusCarlsen__1739232164531539992_1\n",
      "Downloaded image: phobography__1738651647818019095_1\n",
      "Downloaded image: phobography__1738651647818019095_2\n",
      "Downloaded image: phobography__1738651647818019095_3\n",
      "Downloaded image: phobography__1738651647818019095_4\n",
      "Downloaded image: op7418__1738614091349172544_1\n",
      "Downloaded image: op7418__1738614091349172544_2\n",
      "Downloaded image: op7418__1738614091349172544_3\n",
      "Downloaded image: op7418__1738614091349172544_4\n",
      "Downloaded image: op7418__1738614091349172544_5\n",
      "Downloaded image: juliewdesign___1738640616240685253_1\n",
      "Downloaded image: juliewdesign___1738640616240685253_2\n",
      "Downloaded image: juliewdesign___1738640616240685253_3\n",
      "Downloaded image: juliewdesign___1738640616240685253_4\n",
      "Downloaded image: ianzelbo__1738666688466264349_1\n",
      "Downloaded image: ianzelbo__1738666688466264349_2\n",
      "Downloaded image: ianzelbo__1738666688466264349_3\n",
      "Downloaded image: predict_addict__1738535734305284479_1\n",
      "Downloaded image: Laporte__1738294181783597331_1\n",
      "Downloaded image: ocolegro__1737899295573991452_1\n",
      "Downloaded image: GregKamradt__1737921395974430953_1\n",
      "Downloaded image: nash_su__1737674255805079904_1\n",
      "Downloaded image: nash_su__1737674255805079904_2\n",
      "Downloaded image: Tisoga__1736544319199478175_1\n",
      "Downloaded image: AravSrinivas__1736090919718605169_1\n",
      "Downloaded image: VictoriqueM__1736405477443948767_1\n",
      "Downloaded image: depthsofwiki__1735800801455419697_1\n",
      "Downloaded image: martinmbauer__1735693863774269641_1\n",
      "Downloaded image: cstanley__1735658235183698128_1\n",
      "Downloaded image: MinakoOikawa__1735554941245403571_1\n",
      "Downloaded image: bentossell__1735310560730685587_1\n",
      "Downloaded image: andrew_n_carr__1734994458175783006_1\n",
      "Downloaded image: mattshumer___1734603816203423954_1\n",
      "Downloaded image: llama_index__1734747959026442727_1\n",
      "Downloaded image: burny_tech__1734320844724211772_1\n",
      "Downloaded image: RobLynch99__1734278713762549970_1\n",
      "Downloaded image: RobLynch99__1734278713762549970_2\n",
      "Downloaded image: RobLynch99__1734278713762549970_3\n",
      "Downloaded image: DrJimFan__1734269362100437315_1\n",
      "Downloaded image: ThierryBreton__1733235664915706220_1\n",
      "Downloaded image: ChatGPTapp__1733569316245930442_1\n",
      "Downloaded image: malware_yml__1733094321702969504_1\n",
      "Downloaded image: tutulifestyle__1733297791383019699_1\n",
      "Downloaded image: tutulifestyle__1733297791383019699_2\n",
      "Downloaded image: vista8__1732742803774714021_1\n",
      "Downloaded image: elonmusk__1732393496428896557_1\n",
      "Downloaded image: yihong0618__1732277019466166462_1\n",
      "Downloaded image: yihong0618__1732277019466166462_2\n",
      "Downloaded image: yihong0618__1732277019466166462_3\n",
      "Downloaded image: yihong0618__1732277019466166462_4\n",
      "Downloaded image: jxnlco__1732153111664353786_1\n",
      "Downloaded image: BrianRoemmele__1731038758622085403_1\n",
      "Downloaded image: BrianRoemmele__1731038758622085403_2\n",
      "Downloaded image: BrianRoemmele__1731038758622085403_3\n",
      "Downloaded image: KaroshiMyriad__1730502240316846158_1\n",
      "Downloaded image: goodside__1730410630673244654_1\n",
      "Downloaded image: goodside__1730410630673244654_2\n",
      "Downloaded image: KilUrselfMyMan__1730337772194402708_1\n",
      "Downloaded image: elonmusk__1730278921248161877_1\n",
      "Downloaded image: LiveOverflow__1729798452094128278_1\n",
      "Error downloading image: xiaohuggg__1729693538613629377_1\n",
      "Error message: 404 Client Error: Not Found for url: https://pbs.twimg.com/media/GAEVzZTa0AAjeQZ?format=jpg&name=900x900\n",
      "Downloaded image: xiaohuggg__1729693538613629377_2\n",
      "Downloaded image: llama_index__1729303619760259463_1\n",
      "Downloaded image: hanyingcl__1729104525267735007_1\n",
      "Downloaded image: DrJimFan__1729162728072433876_1\n",
      "Error downloading image: ZeyuanAllenZhu__1728965612309987454_1\n",
      "Error message: 404 Client Error: Not Found for url: https://pbs.twimg.com/media/F_6DJNobMAAWAnJ?format=jpg&name=900x900\n",
      "Downloaded image: emollick__1728936758157414670_1\n",
      "Downloaded image: emollick__1728936758157414670_2\n",
      "Downloaded image: llama_index__1728887986673291705_1\n",
      "Downloaded image: LangChainAI__1728852352864579740_1\n",
      "Downloaded image: LangChainAI__1728852352864579740_2\n",
      "Downloaded image: Dino_illus__1728566697689227598_1\n",
      "Downloaded image: gunsnrosesgirl3__1728041488578154752_1\n",
      "Downloaded image: gunsnrosesgirl3__1728041488578154752_2\n",
      "Downloaded image: gunsnrosesgirl3__1728041488578154752_3\n",
      "Downloaded image: gunsnrosesgirl3__1728041488578154752_4\n",
      "Downloaded image: himseIf_65__1727805740893553089_1\n",
      "Downloaded image: 0xgaut__1727800201799250318_1\n",
      "Downloaded image: ShouldHaveCat__1727674905443905550_1\n",
      "Downloaded image: wshuyi__1727592948051874262_1\n",
      "Downloaded image: wshuyi__1727592948051874262_2\n",
      "Downloaded image: wshuyi__1727592948051874262_3\n",
      "Downloaded image: wshuyi__1727592948051874262_4\n",
      "Downloaded image: hausman_k__1612509549889744899_1\n",
      "Downloaded image: w_hgm__1727281601900580932_1\n",
      "Downloaded image: blader__1727472955838607378_1\n",
      "Downloaded image: localhost_5173__1727136250791116881_1\n",
      "Downloaded image: rui314__1726865145958420696_1\n",
      "Downloaded image: elonmusk__1726814360071184719_1\n",
      "Downloaded image: not_2b_or_2b__1726099458184597745_1\n",
      "Downloaded image: not_2b_or_2b__1726099458184597745_2\n",
      "Downloaded image: not_2b_or_2b__1726099458184597745_3\n",
      "Downloaded image: lilianweng__1726350054540407065_1\n",
      "Downloaded image: Artosis__1725228495633039636_1\n",
      "Downloaded image: willieneis__1724847118555471943_1\n",
      "Downloaded image: willieneis__1724847118555471943_2\n",
      "Downloaded image: willieneis__1724847118555471943_3\n",
      "Downloaded image: llama_index__1724891023674061108_1\n",
      "Downloaded image: omarsar0__1724465107046940893_1\n",
      "Downloaded image: mattshumer___1724662946528145456_1\n",
      "Downloaded image: appleqyq__1724255202289815660_1\n",
      "Downloaded image: tandejian__1724117701587800281_1\n",
      "Downloaded image: Tisoga__1723632250137481246_1\n",
      "Downloaded image: Tisoga__1723632250137481246_2\n",
      "Downloaded image: karpathy__1723140519554105733_1\n",
      "Downloaded image: GregKamradt__1722386725635580292_1\n",
      "Downloaded image: dotey__1722323876267364767_1\n",
      "Downloaded image: dotey__1722323876267364767_2\n",
      "Downloaded image: nearcyan__1722067382930133364_1\n",
      "Downloaded image: yi_ding__1721728060876300461_1\n",
      "Downloaded image: yi_ding__1721668276894527933_1\n",
      "Downloaded image: altryne__1721016891077013774_1\n",
      "Downloaded image: altryne__1721016891077013774_2\n",
      "Downloaded image: Culture_Crit__1721203514406269238_1\n",
      "Downloaded image: 0xgaut__1720531804384264600_1\n",
      "Downloaded image: llama_index__1720465247474221178_1\n",
      "Downloaded image: 9hills__1720370827710087459_1\n",
      "Downloaded image: elonmusk__1720109081904463926_1\n",
      "Downloaded image: Andercot__1719484732763762890_1\n",
      "Downloaded image: Andercot__1719484732763762890_2\n",
      "Downloaded image: Manjusaka_Lee__1719394692511748416_1\n",
      "Downloaded image: DelComplex__1719087956311396481_1\n",
      "Downloaded image: DelComplex__1719087956311396481_2\n",
      "Downloaded image: DelComplex__1719087956311396481_3\n",
      "Downloaded image: ballondor__1719104753093755246_1\n",
      "Downloaded image: XDash__1718894566135480760_1\n",
      "Downloaded image: jerryjliu0__1718790810647527826_1\n",
      "Downloaded image: jerryjliu0__1718790810647527826_2\n",
      "Downloaded image: jerryjliu0__1718790810647527826_3\n",
      "Downloaded image: ErlingHaaland__1718705767027450029_1\n",
      "Downloaded image: jerryjliu0__1718022124802318714_1\n",
      "Downloaded image: rrhoover__1717930217828651038_1\n",
      "Downloaded image: MinakoOikawa__1717793376651878778_1\n",
      "Downloaded image: Andercot__1717367802724757608_1\n",
      "Downloaded image: Andercot__1717367802724757608_2\n",
      "Downloaded image: Andercot__1717367802724757608_3\n",
      "Downloaded image: Andercot__1717367802724757608_4\n",
      "Downloaded image: Andercot__1717367802724757608_5\n",
      "Downloaded image: qry51811566__1717090251217506307_1\n",
      "Downloaded image: mranti__1715304758616191273_1\n",
      "Downloaded image: oran_ge__1714467331257278669_1\n",
      "Downloaded image: Megabits_mzq__1713821502100189357_1\n",
      "Downloaded image: jerryjliu0__1712943016590381554_1\n",
      "Downloaded image: ljsabc__1713204104749855097_1\n",
      "Downloaded image: _vztu__1712682819800224011_1\n",
      "Downloaded image: RickLamers__1711940099578196048_1\n",
      "Downloaded image: manelferreira___1711788177458090388_1\n",
      "Downloaded image: dotey__1710379636926845400_1\n",
      "Downloaded image: dotey__1710379636926845400_2\n",
      "Downloaded image: elizlaraki__1710308831631212786_1\n",
      "Downloaded image: elizlaraki__1710308831631212786_2\n",
      "Downloaded image: elizlaraki__1710308831631212786_3\n",
      "Downloaded image: elizlaraki__1710308831631212786_4\n",
      "Downloaded image: venturetwins__1710321733184667985_1\n",
      "Downloaded image: ReT0ky0__1710143197740154985_1\n",
      "Downloaded image: nottmsusa__1709824327393169490_1\n",
      "Downloaded image: nottmsusa__1709824327393169490_2\n",
      "Downloaded image: nottmsusa__1709824327393169490_3\n",
      "Downloaded image: nottmsusa__1709824327393169490_4\n",
      "Downloaded image: ylecun__1709815801136701455_1\n",
      "Downloaded image: ylecun__1709815801136701455_2\n",
      "Downloaded image: ylecun__1709815801136701455_3\n",
      "Downloaded image: ylecun__1709815801136701455_4\n",
      "Downloaded image: shing19_eth__1710001460916928677_1\n",
      "Downloaded image: shing19_eth__1710001460916928677_2\n",
      "Downloaded image: qinbafrank__1709152838352318526_1\n",
      "Downloaded image: madebyollin__1708204657708077294_1\n",
      "Downloaded image: madebyollin__1708204657708077294_2\n",
      "Downloaded image: goodside__1708484087579656638_1\n",
      "Downloaded image: goodside__1708484087579656638_2\n",
      "Downloaded image: askziye__1707741300693561606_1\n",
      "Downloaded image: blader__1707509143387717718_1\n",
      "Downloaded image: ExpLang_Cn__1707289622328602991_1\n",
      "Downloaded image: ljsabc__1706558224881877371_1\n",
      "Downloaded image: TaNGSoFT__1705913691454206438_1\n",
      "Downloaded image: hwchase17__1704903312724693119_1\n",
      "Downloaded image: hwchase17__1704903312724693119_2\n",
      "Downloaded image: DrJimFan__1704537601749959007_1\n",
      "Downloaded image: DrJimFan__1704537601749959007_2\n",
      "Downloaded image: DrJimFan__1704553166610825695_1\n",
      "Downloaded image: GRRMspeaking__1704526114968793089_1\n",
      "Downloaded image: AFinnstark__1704173458832187807_1\n",
      "Downloaded image: ylecun__1704098609535320365_1\n",
      "Downloaded image: ylecun__1704098609535320365_2\n",
      "Downloaded image: 0xgaut__1702394230478360637_1\n",
      "Downloaded image: monday_chen__1701965083616620873_1\n",
      "Downloaded image: notmyChris__1700838436486463533_1\n",
      "Downloaded image: notmyChris__1700838436486463533_2\n",
      "Downloaded image: mtrainier2020__1700865631539839350_1\n",
      "Downloaded image: mtrainier2020__1700865631539839350_2\n",
      "Downloaded image: KaroshiMyriad__1700779144349696338_1\n",
      "Downloaded image: EuroExpert___1700549641719238945_1\n",
      "Downloaded image: nearcyan__1700289415128506463_1\n",
      "Downloaded image: jerryjliu0__1699928967858327727_1\n",
      "Downloaded image: jerryjliu0__1699928967858327727_2\n",
      "Downloaded image: Tisoga__1699794330347782321_1\n",
      "Downloaded image: jerryjliu0__1699448945481773208_1\n",
      "Downloaded image: 0xgaut__1698724639260688661_1\n",
      "Downloaded image: 0xgaut__1698724639260688661_2\n",
      "Downloaded image: zebulgar__1697417073297870891_1\n",
      "Downloaded image: AIatMeta__1697645416899322076_1\n",
      "Downloaded image: AFinnstark__1697696696023536035_1\n",
      "Downloaded image: yetone__1697278433712390326_1\n",
      "Downloaded image: AFinnstark__1696848161246007388_1\n",
      "Downloaded image: omarsar0__1695440652048257251_1\n",
      "Downloaded image: realwuzhe__1694881407187701833_1\n",
      "Downloaded image: Barret_China__1694955512402784689_1\n",
      "Downloaded image: goocarlos__1694648237259673723_1\n",
      "Downloaded image: RLanceMartin__1694402095376658726_1\n",
      "Downloaded image: ShouldHaveCat__1694172609783427193_1\n",
      "Downloaded image: OpenAI__1694062483462594959_1\n",
      "Downloaded image: MapleShadow__1693522272362127638_1\n",
      "Downloaded image: MapleShadow__1693522272362127638_2\n",
      "Downloaded image: MapleShadow__1693522272362127638_3\n",
      "Downloaded image: MapleShadow__1693522272362127638_4\n",
      "Downloaded image: PicturesFoIder__1693257394015383975_1\n",
      "Downloaded image: ilyamiskov__1693275019311214754_1\n",
      "Downloaded image: lexfridman__1691547357299585024_1\n",
      "Downloaded image: lexfridman__1691547357299585024_2\n",
      "Downloaded image: bysau___1691236539588579328_1\n",
      "Downloaded image: bysau___1691236539588579328_2\n",
      "Downloaded image: swyx__1691142824564228096_1\n",
      "Downloaded image: swyx__1691142824564228096_2\n",
      "Downloaded image: swyx__1691142824564228096_3\n",
      "Downloaded image: swyx__1691142824564228096_4\n",
      "Downloaded image: tualatrix__1690958062100910080_1\n",
      "Downloaded image: jerryjliu0__1690772077979242496_1\n",
      "Downloaded image: The_AdProfessor__1690043512555991040_1\n",
      "Downloaded image: LangChainAI__1689749660519616514_1\n",
      "Downloaded image: karpathy__1689814718792577024_1\n",
      "Downloaded image: jeremyphoward__1689464587077509120_1\n",
      "Downloaded image: historyinmemes__1689389324662341632_1\n",
      "Downloaded image: docmilanfar__1689077815663300608_1\n",
      "Downloaded image: gregocoder__1689011333210275840_1\n",
      "Downloaded image: netcapgirl__1688226909103017985_1\n",
      "Downloaded image: aaaaaakuan__1688323985518592000_1\n",
      "Downloaded image: Reynor02__1688333236315844608_1\n",
      "Downloaded image: PierreDeWulf__1687765097916125184_1\n",
      "Downloaded image: PierreDeWulf__1687765097916125184_2\n",
      "Downloaded image: kiss_xoxokiss__1678701947245961217_1\n",
      "Downloaded image: jessfraz__1686208859248156672_1\n",
      "Downloaded image: Andercot__1686215574177841152_1\n",
      "Downloaded image: DrJimFan__1686116470810632193_1\n",
      "Downloaded image: DrJimFan__1686116470810632193_2\n",
      "Downloaded image: stats_feed__1685880678620033024_1\n",
      "Downloaded image: TweetsOfCats__1685408841855283200_1\n",
      "Downloaded image: Andercot__1685088671131906048_1\n",
      "Downloaded image: Andercot__1685088671131906048_2\n",
      "Downloaded image: Andercot__1685088625187495936_1\n",
      "Downloaded image: Frost_Giant__1684697921466609667_1\n",
      "Downloaded image: Jimmy_JingLv__1684453965159882752_1\n",
      "Downloaded image: Jimmy_JingLv__1684453965159882752_2\n",
      "Downloaded image: Jimmy_JingLv__1684453965159882752_3\n",
      "Downloaded image: Jimmy_JingLv__1684453965159882752_4\n",
      "Downloaded image: andrewmccalip__1684433849781202944_1\n",
      "Downloaded image: jerryjliu0__1684354464734642177_1\n",
      "Downloaded image: Catshealdeprsn__1684177841351524352_1\n",
      "Downloaded image: dystopiabreaker__1684086173449469952_1\n",
      "Downloaded image: thukeg__1683759393723289605_1\n",
      "Downloaded image: tzhongg__1683158877284741120_1\n",
      "Downloaded image: S_Y_yama__1683037579636260864_1\n",
      "Downloaded image: michelleefang__1682884641852887040_1\n",
      "Downloaded image: yitaiw__1683102294584487937_1\n",
      "Downloaded image: ShouldHaveCat__1682873492029489153_1\n",
      "Downloaded image: dylan_ebert___1682413292646481922_1\n",
      "Downloaded image: MengTo__1682317455727955970_1\n",
      "Downloaded image: MengTo__1682317455727955970_2\n",
      "Downloaded image: MengTo__1682317455727955970_3\n",
      "Downloaded image: MengTo__1682317455727955970_4\n",
      "Downloaded image: ErlingRoIe__1682694672991256577_1\n",
      "Downloaded image: nikitonsky__1682457876629954561_1\n",
      "Downloaded image: nikitonsky__1682457876629954561_2\n",
      "Downloaded image: jerryjliu0__1682558166851264513_1\n",
      "Downloaded image: se_5eeeee__1682387000631103489_1\n",
      "Downloaded image: se_5eeeee__1682387000631103489_2\n",
      "Downloaded image: se_5eeeee__1682387000631103489_3\n",
      "Downloaded image: se_5eeeee__1682387000631103489_4\n",
      "Downloaded image: overlordayn__1681631554672513025_1\n",
      "Downloaded image: overlordayn__1681631554672513025_2\n",
      "Downloaded image: overlordayn__1681631554672513025_3\n",
      "Downloaded image: fuxiangPro__1681609930003066880_1\n",
      "Downloaded image: llama_index__1681438906296991749_1\n",
      "Downloaded image: SchmartinMartin__1681388261216772096_1\n",
      "Downloaded image: DrJimFan__1681372700881854465_1\n",
      "Downloaded image: wong2_x__1681252426609729536_1\n",
      "Downloaded image: Fruagood__1680892338670047232_1\n",
      "Downloaded image: icreatelife__1680727587213959168_1\n",
      "Downloaded image: oxpsats__1680839761592987648_1\n",
      "Downloaded image: taesdawn26__1680024441080938496_1\n",
      "Downloaded image: Hisa0808__1680184093986934784_1\n",
      "Downloaded image: _Shreya_Trivedi__1679722800461008896_1\n",
      "Downloaded image: ronawang__1679867848741765122_1\n",
      "Downloaded image: ronawang__1679867848741765122_2\n",
      "Downloaded image: jxnlco__1679343037988651008_1\n",
      "Downloaded image: amazingmap__1678715279205978112_1\n",
      "Downloaded image: dotey__1678812082886569984_1\n",
      "Downloaded image: dotey__1678812082886569984_2\n",
      "Downloaded image: dotey__1678812082886569984_3\n",
      "Downloaded image: dotey__1678812082886569984_4\n",
      "Downloaded image: dotey__1678812082886569984_5\n",
      "Downloaded image: AnthropicAI__1678759122194530304_1\n",
      "Downloaded image: swyx__1678512823457165312_1\n",
      "Downloaded image: swyx__1678512823457165312_2\n",
      "Downloaded image: yoheinakajima__1678443482866933760_1\n",
      "Downloaded image: NUFCJoey__1675598019020877824_1\n",
      "Downloaded image: MissOllie2020__1677950613940842497_1\n",
      "Downloaded image: Piglei__1678251797230809089_1\n",
      "Downloaded image: DrJimFan__1678089693920133120_1\n",
      "Downloaded image: catshouldnt__1677728469390880769_1\n",
      "Downloaded image: AdamSinger__1677685487870386176_1\n",
      "Downloaded image: AdamSinger__1677685487870386176_2\n",
      "Downloaded image: kazoo1984kazuno__1677627340011233280_1\n",
      "Downloaded image: makomako713__1677556585386868736_1\n",
      "Downloaded image: archillect__1677294054504054797_1\n",
      "Downloaded image: CaimingXiong__1677058800673759232_1\n",
      "Downloaded image: GrantSlatton__1677037048916525056_1\n",
      "Downloaded image: DrJimFan__1677000660791992320_1\n",
      "Downloaded image: historyinmemes__1676575828920901636_1\n",
      "Downloaded image: huhexian__1675785291330904064_1\n",
      "Downloaded image: culturaltutor__1675189186251325441_1\n",
      "Downloaded image: madzadev__1674338168139816960_1\n",
      "Downloaded image: 85Jsh__1674497466316607489_1\n",
      "Downloaded image: DrJimFan__1674103173928329216_1\n",
      "Downloaded image: Sirupsen__1673309920769323008_1\n",
      "Downloaded image: Sirupsen__1673309920769323008_2\n",
      "Downloaded image: Sirupsen__1673309920769323008_3\n",
      "Downloaded image: PicturesFoIder__1673557157441331200_1\n",
      "Downloaded image: c_h_a_m_p_i_8__1672589819032240128_1\n",
      "Downloaded image: c_h_a_m_p_i_8__1672589819032240128_2\n",
      "Downloaded image: c_h_a_m_p_i_8__1672589819032240128_3\n",
      "Downloaded image: c_h_a_m_p_i_8__1672589819032240128_4\n",
      "Downloaded image: _dirtyiron___1672633120301121536_1\n",
      "Downloaded image: ShouldHaveCat__1672619669453242368_1\n",
      "Downloaded image: timshi_ai__1671360218599673856_1\n",
      "Downloaded image: 9hills__1671406363359186949_1\n",
      "Downloaded image: 9hills__1671403595848384512_1\n",
      "Downloaded image: 9hills__1671403595848384512_2\n",
      "Downloaded image: fi56622380__1671411447723851776_1\n",
      "Downloaded image: fi56622380__1671411447723851776_2\n",
      "Downloaded image: WebDesignMuseum__1670470949853102081_1\n",
      "Downloaded image: WebDesignMuseum__1670470949853102081_2\n",
      "Downloaded image: WebDesignMuseum__1670470949853102081_3\n",
      "Downloaded image: WebDesignMuseum__1670470949853102081_4\n",
      "Downloaded image: Culture_Crit__1668947429280940036_1\n",
      "Downloaded image: huige545__1668983007573671938_1\n",
      "Downloaded image: SxrgioSZN__1668330167331340288_1\n",
      "Downloaded image: ManCity__1667636986046193665_1\n",
      "Downloaded image: MinakoOikawa__1667033885157498880_1\n",
      "Downloaded image: Barret_China__1666702175203127296_1\n",
      "Downloaded image: Yellowriver478__1666579698405740545_1\n",
      "Downloaded image: Yellowriver478__1666579698405740545_2\n",
      "Downloaded image: Yellowriver478__1666579698405740545_3\n",
      "Downloaded image: sayashk__1666313565869940736_1\n",
      "Downloaded image: sayashk__1666313565869940736_2\n",
      "Downloaded image: karpathy__1666182244107689985_1\n",
      "Downloaded image: bentossell__1666006706957041664_1\n",
      "Downloaded image: PicturesFoIder__1665097885547995136_1\n",
      "Downloaded image: ManCity__1665025226986356738_1\n",
      "Downloaded image: mtrainier2020__1664645650586415104_1\n",
      "Downloaded image: billyuchenlin__1663603372220616704_1\n",
      "Downloaded image: ItakGol__1661714548594823174_1\n",
      "Downloaded image: ItakGol__1661714548594823174_2\n",
      "Downloaded image: PicturesFoIder__1661408563678400514_1\n",
      "Downloaded image: raycat2021__1661364808174776320_1\n",
      "Downloaded image: rebecca_hoshino__1660974868567818240_1\n",
      "Downloaded image: ESPNFC__1661023551955275777_1\n",
      "Downloaded image: AlbicelesteTalk__1660761829876940800_1\n",
      "Downloaded image: 101Neg__1660223918026919936_1\n",
      "Downloaded image: robertnishihara__1658938195340566534_1\n",
      "Downloaded image: City_Xtra__1658941703397449729_1\n",
      "Downloaded image: ManCity__1658919723063541804_1\n",
      "Downloaded image: EverythingOOC__1658499514423037954_1\n",
      "Downloaded image: AFinnstark__1658521340339421184_1\n",
      "Downloaded image: AFinnstark__1658521340339421184_2\n",
      "Downloaded image: AFinnstark__1658521340339421184_3\n",
      "Downloaded image: AFinnstark__1658521340339421184_4\n",
      "Downloaded image: AFinnstark__1658521340339421184_5\n",
      "Downloaded image: historyinmemes__1658530134469533730_1\n",
      "Downloaded image: DashHuang__1658149351812919299_1\n",
      "Downloaded image: ErlingHaaland__1657773453053767683_1\n",
      "Downloaded image: ErlingHaaland__1657773453053767683_2\n",
      "Downloaded image: liuyi0922__1657225538556268544_1\n",
      "Downloaded image: liuyi0922__1657225538556268544_2\n",
      "Downloaded image: Anc_Aesthetics__1657211983119233024_1\n",
      "Downloaded image: PicturesFoIder__1657275146514624512_1\n",
      "Downloaded image: erenomoto__1656832544241774593_1\n",
      "Downloaded image: erenomoto__1656832544241774593_2\n",
      "Downloaded image: raycat2021__1656650706533883905_1\n",
      "Downloaded image: ylecun__1656073592759623691_1\n",
      "Downloaded image: laike9m__1655845264425615360_1\n",
      "Downloaded image: PicturesFoIder__1655743972554293249_1\n",
      "Downloaded image: _seanliu__1655461547299454977_1\n",
      "Downloaded image: _seanliu__1655461547299454977_2\n",
      "Downloaded image: yInggp7__1655210867670278144_1\n",
      "Downloaded image: sofish__1645093794159939586_1\n",
      "Downloaded image: culturaltutor__1653972331495141377_1\n",
      "Downloaded image: ErlingHaaland__1653885983501287425_1\n",
      "Downloaded image: lmsysorg__1653843200975704069_1\n",
      "Downloaded image: _akhaliq__1653570483365855233_1\n",
      "Downloaded image: GoogleAI__1649151495429033984_1\n",
      "Downloaded image: TOMAS3N__1651081652645543937_1\n",
      "Downloaded image: TOMAS3N__1651081652645543937_2\n",
      "Downloaded image: Football__Tweet__1650746857184804865_1\n",
      "Downloaded image: AiBreakfast__1649583732649771010_1\n",
      "Downloaded image: elonmusk__1649168604552740866_1\n",
      "Downloaded image: sanchitgandhi99__1649046650793648128_1\n",
      "Downloaded image: togethercompute__1647917989264519174_1\n",
      "Downloaded image: laike9m__1648254568269221888_1\n",
      "Downloaded image: HongyiJin258__1647062309960028160_1\n",
      "Downloaded image: paulg__1646417024338341888_1\n",
      "Downloaded image: City_Xtra__1645892154110390272_1\n",
      "Downloaded image: JayScambler__1645603816111308800_1\n",
      "Downloaded image: karpathy__1645485475996790784_1\n",
      "Downloaded image: shing19_eth__1644772961021480960_1\n",
      "Downloaded image: indigo11__1644236211605876736_1\n",
      "Downloaded image: jerryjliu0__1644489328591257600_1\n",
      "Downloaded image: lexfridman__1644417299762356232_1\n",
      "Downloaded image: City_Xtra__1644069856516493322_1\n",
      "Downloaded image: AiBreakfast__1643450191369093120_1\n",
      "Downloaded image: GRRMspeaking__1643269750699577346_1\n",
      "Downloaded image: chris_j_paxton__1642991016838938624_1\n",
      "Downloaded image: Cixelyn__1642942540558266368_1\n",
      "Downloaded image: SailToArchipel__1642314693615448067_1\n",
      "Downloaded image: DrJimFan__1642563455298473986_1\n",
      "Downloaded image: demishassabis__1642304915560071174_1\n",
      "Downloaded image: williamLberman__1642001800533508096_1\n",
      "Downloaded image: cellier___1642127294562205696_1\n",
      "Downloaded image: _akhaliq__1641615268744142848_1\n",
      "Downloaded image: jlowin__1641155964601548802_1\n",
      "Downloaded image: liuyi0922__1640984539286650881_1\n",
      "Downloaded image: liuyi0922__1640984539286650881_2\n",
      "Downloaded image: liuyi0922__1640984539286650881_3\n",
      "Downloaded image: liuyi0922__1640984539286650881_4\n",
      "Downloaded image: op7418__1641016251547009025_1\n",
      "Downloaded image: nicolas_ouporov__1640469903181508608_1\n",
      "Downloaded image: radio1985head__1640719659413671938_1\n",
      "Downloaded image: farmostwood__1616862868430790656_1\n",
      "Downloaded image: cto_junior__1640304980174204931_1\n",
      "Downloaded image: cto_junior__1640304980174204931_2\n",
      "Downloaded image: WTL_SC2__1640278121906835459_1\n",
      "Downloaded image: WTL_SC2__1640278121906835459_2\n",
      "Downloaded image: nash_su__1639404405811478528_1\n",
      "Downloaded image: nash_su__1639404405811478528_2\n",
      "Downloaded image: nash_su__1639404405811478528_3\n",
      "Downloaded image: nash_su__1639404405811478528_4\n",
      "Downloaded image: dotey__1639324678656258048_1\n",
      "Downloaded image: dotey__1639324678656258048_2\n",
      "Downloaded image: dotey__1639324678656258048_3\n",
      "Downloaded image: lexfridman__1639691412630568960_1\n",
      "Downloaded image: thukeg__1639525600338804737_1\n",
      "Downloaded image: MinakoOikawa__1639314726516842496_1\n",
      "Downloaded image: POKImari02__1639164928719486976_1\n",
      "Downloaded image: POKImari02__1639164928719486976_2\n",
      "Downloaded image: POKImari02__1639164928719486976_3\n",
      "Downloaded image: POKImari02__1639164928719486976_4\n",
      "Downloaded image: HackEngine___1638875299843837953_1\n",
      "Downloaded image: DrJimFan__1638558742391451649_1\n",
      "Downloaded image: yetone__1638085647293640705_1\n",
      "Downloaded image: ufcfooty__1638189259000520705_1\n",
      "Downloaded image: RLanceMartin__1637852940064161792_1\n",
      "Downloaded image: itstimconnors__1637539892887719941_1\n",
      "Downloaded image: gosbyqin__1637170905381216257_1\n",
      "Downloaded image: yetone__1636627775221297152_1\n",
      "Downloaded image: yetone__1636627775221297152_2\n",
      "Downloaded image: tmmt_san__1400956237726949378_1\n",
      "Downloaded image: tmmt_san__1400956237726949378_2\n",
      "Downloaded image: tmmt_san__1400956237726949378_3\n",
      "Downloaded image: tmmt_san__1400956237726949378_4\n",
      "Downloaded image: williamlegate__1636435022356856842_1\n",
      "Downloaded image: monday_chen__1636580255451295745_1\n",
      "Downloaded image: _akhaliq__1636416647518097408_1\n",
      "Downloaded image: alexalbert____1636488553457913856_1\n",
      "Downloaded image: hwchase17__1636383376633651203_1\n",
      "Downloaded image: siyuanbear__1636195311046778882_1\n",
      "Downloaded image: siyuanbear__1636195311046778882_2\n",
      "Downloaded image: siyuanbear__1636195311046778882_3\n",
      "Downloaded image: siyuanbear__1636195311046778882_4\n",
      "Downloaded image: jacksonfall__1636107218859745286_1\n",
      "Downloaded image: goodside__1635872117031047174_1\n",
      "Downloaded image: shing19_eth__1635711436042432515_1\n",
      "Downloaded image: goodside__1635711013566795776_1\n",
      "Downloaded image: goodside__1635711013566795776_2\n",
      "Downloaded image: goodside__1635711013566795776_3\n",
      "Downloaded image: goodside__1635711013566795776_4\n",
      "Downloaded image: DrJimFan__1635694095460102145_1\n",
      "Downloaded image: GanymedeNil__1634729689850814467_1\n",
      "Downloaded image: wesbos__1634310926219333642_1\n",
      "Downloaded image: natfriedman__1634234197455020032_1\n",
      "Downloaded image: GanymedeNil__1633827637247479816_1\n",
      "Downloaded image: DrJimFan__1633534455771172864_1\n",
      "Downloaded image: DrJimFan__1633534455771172864_2\n",
      "Downloaded image: omarsar0__1632937187124625408_1\n",
      "Downloaded image: xathis__1632717593357213698_1\n",
      "Downloaded image: yetone__1631935757630984193_1\n",
      "Downloaded image: yetone__1631935757630984193_2\n",
      "Downloaded image: altryne__1631685467967225856_1\n",
      "Downloaded image: mr_easonyang__1628690381155233793_1\n",
      "Downloaded image: mr_easonyang__1628690381155233793_2\n",
      "Downloaded image: mr_easonyang__1628690381155233793_3\n",
      "Downloaded image: DataChaz__1630888066842755073_1\n",
      "Downloaded image: micsolana__1630975976313348096_1\n",
      "Downloaded image: archillect__1630546045267501056_1\n",
      "Downloaded image: fromsoftware_pr__1630477908522270722_1\n",
      "Downloaded image: MaybeMonad__1630395468550410240_1\n",
      "Downloaded image: FIFAWorldCup__1630321578444554240_1\n",
      "Downloaded image: HiTw93__1611890436011921408_1\n",
      "Downloaded image: HiTw93__1611890436011921408_2\n",
      "Downloaded image: HiTw93__1611890436011921408_3\n",
      "Downloaded image: HiTw93__1611890436011921408_4\n",
      "Downloaded image: jike_collection__1626912466981781505_1\n",
      "Downloaded image: Linmiv__1626197453203730435_1\n",
      "Downloaded image: vladquant__1624996869654056960_1\n",
      "Downloaded image: vladquant__1624996869654056960_2\n",
      "Downloaded image: vladquant__1624996869654056960_3\n",
      "Downloaded image: karpathy__1624847051426234368_1\n",
      "Image download completed.\n"
     ]
    }
   ],
   "source": [
    "download_images(df, output_dir='downloaded_images')"
   ]
  },
  {
   "cell_type": "code",
   "execution_count": null,
   "metadata": {},
   "outputs": [],
   "source": []
  },
  {
   "cell_type": "code",
   "execution_count": null,
   "metadata": {},
   "outputs": [],
   "source": []
  },
  {
   "cell_type": "code",
   "execution_count": null,
   "metadata": {},
   "outputs": [],
   "source": []
  },
  {
   "cell_type": "markdown",
   "metadata": {},
   "source": []
  }
 ],
 "metadata": {
  "kernelspec": {
   "display_name": "openai",
   "language": "python",
   "name": "python3"
  },
  "language_info": {
   "codemirror_mode": {
    "name": "ipython",
    "version": 3
   },
   "file_extension": ".py",
   "mimetype": "text/x-python",
   "name": "python",
   "nbconvert_exporter": "python",
   "pygments_lexer": "ipython3",
   "version": "3.10.8"
  }
 },
 "nbformat": 4,
 "nbformat_minor": 2
}
