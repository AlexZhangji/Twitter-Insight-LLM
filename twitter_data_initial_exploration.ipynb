{
 "cells": [
  {
   "cell_type": "markdown",
   "metadata": {},
   "source": [
    "# Data Exploration "
   ]
  },
  {
   "cell_type": "code",
   "execution_count": 52,
   "metadata": {},
   "outputs": [],
   "source": [
    "import pandas as pd\n",
    "\n",
    "df = pd.read_json('data/sample_output_json.json ', lines=True)\n",
    "# Convert 'date' column to datetime with the correct format\n",
    "df['date'] = pd.to_datetime(df['date'], format='%d/%m/%Y')\n"
   ]
  },
  {
   "cell_type": "code",
   "execution_count": 53,
   "metadata": {},
   "outputs": [
    {
     "data": {
      "text/plain": [
       "(Timestamp('2021-06-04 00:00:00'), Timestamp('2024-03-01 00:00:00'))"
      ]
     },
     "execution_count": 53,
     "metadata": {},
     "output_type": "execute_result"
    }
   ],
   "source": [
    "df.date.min(), df.date.max()"
   ]
  },
  {
   "cell_type": "code",
   "execution_count": 54,
   "metadata": {},
   "outputs": [
    {
     "data": {
      "text/html": [
       "<div>\n",
       "<style scoped>\n",
       "    .dataframe tbody tr th:only-of-type {\n",
       "        vertical-align: middle;\n",
       "    }\n",
       "\n",
       "    .dataframe tbody tr th {\n",
       "        vertical-align: top;\n",
       "    }\n",
       "\n",
       "    .dataframe thead th {\n",
       "        text-align: right;\n",
       "    }\n",
       "</style>\n",
       "<table border=\"1\" class=\"dataframe\">\n",
       "  <thead>\n",
       "    <tr style=\"text-align: right;\">\n",
       "      <th></th>\n",
       "      <th>text</th>\n",
       "      <th>author_name</th>\n",
       "      <th>author_handle</th>\n",
       "      <th>date</th>\n",
       "      <th>lang</th>\n",
       "      <th>url</th>\n",
       "      <th>mentioned_urls</th>\n",
       "      <th>is_retweet</th>\n",
       "      <th>media_type</th>\n",
       "      <th>images_urls</th>\n",
       "      <th>num_reply</th>\n",
       "      <th>num_retweet</th>\n",
       "      <th>num_like</th>\n",
       "      <th>num_view</th>\n",
       "    </tr>\n",
       "  </thead>\n",
       "  <tbody>\n",
       "    <tr>\n",
       "      <th>540</th>\n",
       "      <td>希望这群创业者里，一两年后诞生几家世界级的公司。</td>\n",
       "      <td>GooCarlos</td>\n",
       "      <td>@goocarlos</td>\n",
       "      <td>2023-08-24</td>\n",
       "      <td>zh</td>\n",
       "      <td>https://twitter.com/goocarlos/status/169464823...</td>\n",
       "      <td>[]</td>\n",
       "      <td>False</td>\n",
       "      <td>Image</td>\n",
       "      <td>[https://pbs.twimg.com/media/F4SZlmLasAA333Q?f...</td>\n",
       "      <td>5</td>\n",
       "      <td>4</td>\n",
       "      <td>37</td>\n",
       "      <td>0</td>\n",
       "    </tr>\n",
       "    <tr>\n",
       "      <th>26</th>\n",
       "      <td>I didn't think it would work!\\n\\nJust uploaded...</td>\n",
       "      <td>Paige Bailey</td>\n",
       "      <td>@DynamicWebPaige</td>\n",
       "      <td>2024-02-22</td>\n",
       "      <td>en</td>\n",
       "      <td>https://twitter.com/DynamicWebPaige/status/176...</td>\n",
       "      <td>[]</td>\n",
       "      <td>False</td>\n",
       "      <td>No media</td>\n",
       "      <td>None</td>\n",
       "      <td>19</td>\n",
       "      <td>38</td>\n",
       "      <td>453</td>\n",
       "      <td>0</td>\n",
       "    </tr>\n",
       "    <tr>\n",
       "      <th>745</th>\n",
       "      <td>The moment it was over for literally everyone</td>\n",
       "      <td>¹⁰</td>\n",
       "      <td>@SxrgioSZN</td>\n",
       "      <td>2023-06-18</td>\n",
       "      <td>en</td>\n",
       "      <td>https://twitter.com/SxrgioSZN/status/167047843...</td>\n",
       "      <td>[]</td>\n",
       "      <td>False</td>\n",
       "      <td>Video</td>\n",
       "      <td>None</td>\n",
       "      <td>23</td>\n",
       "      <td>380</td>\n",
       "      <td>2228</td>\n",
       "      <td>0</td>\n",
       "    </tr>\n",
       "    <tr>\n",
       "      <th>216</th>\n",
       "      <td>Putting the „CINEMA“ back in „cinematic“ \\n\\nS...</td>\n",
       "      <td>phOBography</td>\n",
       "      <td>@phobography</td>\n",
       "      <td>2023-12-23</td>\n",
       "      <td>en</td>\n",
       "      <td>https://twitter.com/phobography/status/1738651...</td>\n",
       "      <td>[]</td>\n",
       "      <td>False</td>\n",
       "      <td>Image</td>\n",
       "      <td>[https://pbs.twimg.com/media/GCDua9gWAAATn8J?f...</td>\n",
       "      <td>23</td>\n",
       "      <td>38</td>\n",
       "      <td>374</td>\n",
       "      <td>0</td>\n",
       "    </tr>\n",
       "    <tr>\n",
       "      <th>275</th>\n",
       "      <td>SpaceX is tracking to launch over 80% of all E...</td>\n",
       "      <td>Elon Musk</td>\n",
       "      <td>@elonmusk</td>\n",
       "      <td>2023-12-06</td>\n",
       "      <td>en</td>\n",
       "      <td>https://twitter.com/elonmusk/status/1732393496...</td>\n",
       "      <td>[]</td>\n",
       "      <td>False</td>\n",
       "      <td>Image</td>\n",
       "      <td>[https://pbs.twimg.com/media/GAqytC-WUAAZBLc?f...</td>\n",
       "      <td>4840</td>\n",
       "      <td>8909</td>\n",
       "      <td>60179</td>\n",
       "      <td>0</td>\n",
       "    </tr>\n",
       "    <tr>\n",
       "      <th>386</th>\n",
       "      <td>推荐Google Deepmind的新论文：《Levels of AGI: Operatio...</td>\n",
       "      <td>宝玉</td>\n",
       "      <td>@dotey</td>\n",
       "      <td>2023-11-08</td>\n",
       "      <td>zh</td>\n",
       "      <td>https://twitter.com/dotey/status/1722323876267...</td>\n",
       "      <td>[]</td>\n",
       "      <td>False</td>\n",
       "      <td>Image</td>\n",
       "      <td>[https://pbs.twimg.com/media/F-bqr81WMAAOoSx?f...</td>\n",
       "      <td>17</td>\n",
       "      <td>124</td>\n",
       "      <td>338</td>\n",
       "      <td>0</td>\n",
       "    </tr>\n",
       "    <tr>\n",
       "      <th>214</th>\n",
       "      <td>我本身是一个不太写总结类内容的人，但这次跟风写一回，总结我这一年AI相关的技术总结和我整体的思考。</td>\n",
       "      <td>GanymedeNil</td>\n",
       "      <td>@GanymedeNil</td>\n",
       "      <td>2023-12-25</td>\n",
       "      <td>zh</td>\n",
       "      <td>https://twitter.com/GanymedeNil/status/1739160...</td>\n",
       "      <td>[https://t.co/znYrPTNfq6, https://t.co/znYrPTN...</td>\n",
       "      <td>False</td>\n",
       "      <td>No media</td>\n",
       "      <td>None</td>\n",
       "      <td>4</td>\n",
       "      <td>13</td>\n",
       "      <td>53</td>\n",
       "      <td>0</td>\n",
       "    </tr>\n",
       "  </tbody>\n",
       "</table>\n",
       "</div>"
      ],
      "text/plain": [
       "                                                  text   author_name  \\\n",
       "540                           希望这群创业者里，一两年后诞生几家世界级的公司。     GooCarlos   \n",
       "26   I didn't think it would work!\\n\\nJust uploaded...  Paige Bailey   \n",
       "745      The moment it was over for literally everyone            ¹⁰   \n",
       "216  Putting the „CINEMA“ back in „cinematic“ \\n\\nS...   phOBography   \n",
       "275  SpaceX is tracking to launch over 80% of all E...     Elon Musk   \n",
       "386  推荐Google Deepmind的新论文：《Levels of AGI: Operatio...            宝玉   \n",
       "214  我本身是一个不太写总结类内容的人，但这次跟风写一回，总结我这一年AI相关的技术总结和我整体的思考。   GanymedeNil   \n",
       "\n",
       "        author_handle       date lang  \\\n",
       "540        @goocarlos 2023-08-24   zh   \n",
       "26   @DynamicWebPaige 2024-02-22   en   \n",
       "745        @SxrgioSZN 2023-06-18   en   \n",
       "216      @phobography 2023-12-23   en   \n",
       "275         @elonmusk 2023-12-06   en   \n",
       "386            @dotey 2023-11-08   zh   \n",
       "214      @GanymedeNil 2023-12-25   zh   \n",
       "\n",
       "                                                   url  \\\n",
       "540  https://twitter.com/goocarlos/status/169464823...   \n",
       "26   https://twitter.com/DynamicWebPaige/status/176...   \n",
       "745  https://twitter.com/SxrgioSZN/status/167047843...   \n",
       "216  https://twitter.com/phobography/status/1738651...   \n",
       "275  https://twitter.com/elonmusk/status/1732393496...   \n",
       "386  https://twitter.com/dotey/status/1722323876267...   \n",
       "214  https://twitter.com/GanymedeNil/status/1739160...   \n",
       "\n",
       "                                        mentioned_urls  is_retweet media_type  \\\n",
       "540                                                 []       False      Image   \n",
       "26                                                  []       False   No media   \n",
       "745                                                 []       False      Video   \n",
       "216                                                 []       False      Image   \n",
       "275                                                 []       False      Image   \n",
       "386                                                 []       False      Image   \n",
       "214  [https://t.co/znYrPTNfq6, https://t.co/znYrPTN...       False   No media   \n",
       "\n",
       "                                           images_urls  num_reply  \\\n",
       "540  [https://pbs.twimg.com/media/F4SZlmLasAA333Q?f...          5   \n",
       "26                                                None         19   \n",
       "745                                               None         23   \n",
       "216  [https://pbs.twimg.com/media/GCDua9gWAAATn8J?f...         23   \n",
       "275  [https://pbs.twimg.com/media/GAqytC-WUAAZBLc?f...       4840   \n",
       "386  [https://pbs.twimg.com/media/F-bqr81WMAAOoSx?f...         17   \n",
       "214                                               None          4   \n",
       "\n",
       "     num_retweet  num_like  num_view  \n",
       "540            4        37         0  \n",
       "26            38       453         0  \n",
       "745          380      2228         0  \n",
       "216           38       374         0  \n",
       "275         8909     60179         0  \n",
       "386          124       338         0  \n",
       "214           13        53         0  "
      ]
     },
     "execution_count": 54,
     "metadata": {},
     "output_type": "execute_result"
    }
   ],
   "source": [
    "df.sample(7)"
   ]
  },
  {
   "cell_type": "code",
   "execution_count": 6,
   "metadata": {},
   "outputs": [
    {
     "data": {
      "text/plain": [
       "author_name\n",
       "Jim Fan         23\n",
       "Jerry Liu       20\n",
       "Yann LeCun      19\n",
       "Science girl    18\n",
       "Massimo         17\n",
       "Name: count, dtype: int64"
      ]
     },
     "execution_count": 6,
     "metadata": {},
     "output_type": "execute_result"
    }
   ],
   "source": [
    "df.author_name.value_counts().head(5)"
   ]
  },
  {
   "cell_type": "markdown",
   "metadata": {},
   "source": [
    "## Plots\n",
    "Few basic plots."
   ]
  },
  {
   "cell_type": "code",
   "execution_count": 7,
   "metadata": {},
   "outputs": [
    {
     "name": "stderr",
     "output_type": "stream",
     "text": [
      "C:\\Users\\zjxen\\AppData\\Local\\Temp\\ipykernel_20536\\3397730805.py:9: SettingWithCopyWarning: \n",
      "A value is trying to be set on a copy of a slice from a DataFrame.\n",
      "Try using .loc[row_indexer,col_indexer] = value instead\n",
      "\n",
      "See the caveats in the documentation: https://pandas.pydata.org/pandas-docs/stable/user_guide/indexing.html#returning-a-view-versus-a-copy\n",
      "  df['media_type'] = df['media_type'].replace({'No media': 'Text'})\n",
      "C:\\Users\\zjxen\\AppData\\Local\\Temp\\ipykernel_20536\\3397730805.py:10: SettingWithCopyWarning: \n",
      "A value is trying to be set on a copy of a slice from a DataFrame.\n",
      "Try using .loc[row_indexer,col_indexer] = value instead\n",
      "\n",
      "See the caveats in the documentation: https://pandas.pydata.org/pandas-docs/stable/user_guide/indexing.html#returning-a-view-versus-a-copy\n",
      "  df['year_month'] = df['date'].dt.strftime('%Y-%m')\n"
     ]
    },
    {
     "data": {
      "application/vnd.plotly.v1+json": {
       "config": {
        "plotlyServerURL": "https://plot.ly"
       },
       "data": [
        {
         "marker": {
          "color": "rgb(246, 207, 113)"
         },
         "name": "Image",
         "opacity": 0.8,
         "type": "bar",
         "x": [
          "2023-01",
          "2023-02",
          "2023-03",
          "2023-04",
          "2023-05",
          "2023-06",
          "2023-07",
          "2023-08",
          "2023-09",
          "2023-10",
          "2023-11",
          "2023-12"
         ],
         "xaxis": "x",
         "y": [
          3,
          9,
          44,
          28,
          30,
          26,
          58,
          30,
          26,
          29,
          44,
          50
         ],
         "yaxis": "y"
        },
        {
         "marker": {
          "color": "rgb(248, 156, 116)"
         },
         "name": "Text",
         "opacity": 0.8,
         "type": "bar",
         "x": [
          "2023-02",
          "2023-03",
          "2023-04",
          "2023-05",
          "2023-06",
          "2023-07",
          "2023-08",
          "2023-09",
          "2023-10",
          "2023-11",
          "2023-12"
         ],
         "xaxis": "x",
         "y": [
          14,
          20,
          21,
          12,
          12,
          25,
          20,
          3,
          14,
          33,
          26
         ],
         "yaxis": "y"
        },
        {
         "marker": {
          "color": "rgb(102, 197, 204)"
         },
         "name": "Video",
         "opacity": 0.8,
         "type": "bar",
         "x": [
          "2023-02",
          "2023-03",
          "2023-04",
          "2023-05",
          "2023-06",
          "2023-07",
          "2023-08",
          "2023-09",
          "2023-10",
          "2023-11",
          "2023-12"
         ],
         "xaxis": "x",
         "y": [
          10,
          23,
          19,
          20,
          26,
          29,
          18,
          27,
          24,
          37,
          29
         ],
         "yaxis": "y"
        },
        {
         "fill": "tonexty",
         "line": {
          "color": "rgb(246, 207, 113)"
         },
         "mode": "lines",
         "name": "Image",
         "type": "scatter",
         "x": [
          "2023-01",
          "2023-02",
          "2023-03",
          "2023-04",
          "2023-05",
          "2023-06",
          "2023-07",
          "2023-08",
          "2023-09",
          "2023-10",
          "2023-11",
          "2023-12"
         ],
         "xaxis": "x2",
         "y": [
          3,
          12,
          56,
          84,
          114,
          140,
          198,
          228,
          254,
          283,
          327,
          377
         ],
         "yaxis": "y2"
        },
        {
         "fill": "tonexty",
         "line": {
          "color": "rgb(248, 156, 116)"
         },
         "mode": "lines",
         "name": "Text",
         "type": "scatter",
         "x": [
          "2023-02",
          "2023-03",
          "2023-04",
          "2023-05",
          "2023-06",
          "2023-07",
          "2023-08",
          "2023-09",
          "2023-10",
          "2023-11",
          "2023-12"
         ],
         "xaxis": "x2",
         "y": [
          14,
          34,
          55,
          67,
          79,
          104,
          124,
          127,
          141,
          174,
          200
         ],
         "yaxis": "y2"
        },
        {
         "fill": "tonexty",
         "line": {
          "color": "rgb(102, 197, 204)"
         },
         "mode": "lines",
         "name": "Video",
         "type": "scatter",
         "x": [
          "2023-02",
          "2023-03",
          "2023-04",
          "2023-05",
          "2023-06",
          "2023-07",
          "2023-08",
          "2023-09",
          "2023-10",
          "2023-11",
          "2023-12"
         ],
         "xaxis": "x2",
         "y": [
          10,
          33,
          52,
          72,
          98,
          127,
          145,
          172,
          196,
          233,
          262
         ],
         "yaxis": "y2"
        }
       ],
       "layout": {
        "annotations": [
         {
          "font": {
           "size": 16
          },
          "showarrow": false,
          "text": "Monthly Likes by Media Type",
          "x": 0.5,
          "xanchor": "center",
          "xref": "paper",
          "y": 1,
          "yanchor": "bottom",
          "yref": "paper"
         },
         {
          "font": {
           "size": 16
          },
          "showarrow": false,
          "text": "Cumulative Likes by Media Type",
          "x": 0.5,
          "xanchor": "center",
          "xref": "paper",
          "y": 0.425,
          "yanchor": "bottom",
          "yref": "paper"
         }
        ],
        "height": 600,
        "template": {
         "data": {
          "bar": [
           {
            "error_x": {
             "color": "#2a3f5f"
            },
            "error_y": {
             "color": "#2a3f5f"
            },
            "marker": {
             "line": {
              "color": "#E5ECF6",
              "width": 0.5
             },
             "pattern": {
              "fillmode": "overlay",
              "size": 10,
              "solidity": 0.2
             }
            },
            "type": "bar"
           }
          ],
          "barpolar": [
           {
            "marker": {
             "line": {
              "color": "#E5ECF6",
              "width": 0.5
             },
             "pattern": {
              "fillmode": "overlay",
              "size": 10,
              "solidity": 0.2
             }
            },
            "type": "barpolar"
           }
          ],
          "carpet": [
           {
            "aaxis": {
             "endlinecolor": "#2a3f5f",
             "gridcolor": "white",
             "linecolor": "white",
             "minorgridcolor": "white",
             "startlinecolor": "#2a3f5f"
            },
            "baxis": {
             "endlinecolor": "#2a3f5f",
             "gridcolor": "white",
             "linecolor": "white",
             "minorgridcolor": "white",
             "startlinecolor": "#2a3f5f"
            },
            "type": "carpet"
           }
          ],
          "choropleth": [
           {
            "colorbar": {
             "outlinewidth": 0,
             "ticks": ""
            },
            "type": "choropleth"
           }
          ],
          "contour": [
           {
            "colorbar": {
             "outlinewidth": 0,
             "ticks": ""
            },
            "colorscale": [
             [
              0,
              "#0d0887"
             ],
             [
              0.1111111111111111,
              "#46039f"
             ],
             [
              0.2222222222222222,
              "#7201a8"
             ],
             [
              0.3333333333333333,
              "#9c179e"
             ],
             [
              0.4444444444444444,
              "#bd3786"
             ],
             [
              0.5555555555555556,
              "#d8576b"
             ],
             [
              0.6666666666666666,
              "#ed7953"
             ],
             [
              0.7777777777777778,
              "#fb9f3a"
             ],
             [
              0.8888888888888888,
              "#fdca26"
             ],
             [
              1,
              "#f0f921"
             ]
            ],
            "type": "contour"
           }
          ],
          "contourcarpet": [
           {
            "colorbar": {
             "outlinewidth": 0,
             "ticks": ""
            },
            "type": "contourcarpet"
           }
          ],
          "heatmap": [
           {
            "colorbar": {
             "outlinewidth": 0,
             "ticks": ""
            },
            "colorscale": [
             [
              0,
              "#0d0887"
             ],
             [
              0.1111111111111111,
              "#46039f"
             ],
             [
              0.2222222222222222,
              "#7201a8"
             ],
             [
              0.3333333333333333,
              "#9c179e"
             ],
             [
              0.4444444444444444,
              "#bd3786"
             ],
             [
              0.5555555555555556,
              "#d8576b"
             ],
             [
              0.6666666666666666,
              "#ed7953"
             ],
             [
              0.7777777777777778,
              "#fb9f3a"
             ],
             [
              0.8888888888888888,
              "#fdca26"
             ],
             [
              1,
              "#f0f921"
             ]
            ],
            "type": "heatmap"
           }
          ],
          "heatmapgl": [
           {
            "colorbar": {
             "outlinewidth": 0,
             "ticks": ""
            },
            "colorscale": [
             [
              0,
              "#0d0887"
             ],
             [
              0.1111111111111111,
              "#46039f"
             ],
             [
              0.2222222222222222,
              "#7201a8"
             ],
             [
              0.3333333333333333,
              "#9c179e"
             ],
             [
              0.4444444444444444,
              "#bd3786"
             ],
             [
              0.5555555555555556,
              "#d8576b"
             ],
             [
              0.6666666666666666,
              "#ed7953"
             ],
             [
              0.7777777777777778,
              "#fb9f3a"
             ],
             [
              0.8888888888888888,
              "#fdca26"
             ],
             [
              1,
              "#f0f921"
             ]
            ],
            "type": "heatmapgl"
           }
          ],
          "histogram": [
           {
            "marker": {
             "pattern": {
              "fillmode": "overlay",
              "size": 10,
              "solidity": 0.2
             }
            },
            "type": "histogram"
           }
          ],
          "histogram2d": [
           {
            "colorbar": {
             "outlinewidth": 0,
             "ticks": ""
            },
            "colorscale": [
             [
              0,
              "#0d0887"
             ],
             [
              0.1111111111111111,
              "#46039f"
             ],
             [
              0.2222222222222222,
              "#7201a8"
             ],
             [
              0.3333333333333333,
              "#9c179e"
             ],
             [
              0.4444444444444444,
              "#bd3786"
             ],
             [
              0.5555555555555556,
              "#d8576b"
             ],
             [
              0.6666666666666666,
              "#ed7953"
             ],
             [
              0.7777777777777778,
              "#fb9f3a"
             ],
             [
              0.8888888888888888,
              "#fdca26"
             ],
             [
              1,
              "#f0f921"
             ]
            ],
            "type": "histogram2d"
           }
          ],
          "histogram2dcontour": [
           {
            "colorbar": {
             "outlinewidth": 0,
             "ticks": ""
            },
            "colorscale": [
             [
              0,
              "#0d0887"
             ],
             [
              0.1111111111111111,
              "#46039f"
             ],
             [
              0.2222222222222222,
              "#7201a8"
             ],
             [
              0.3333333333333333,
              "#9c179e"
             ],
             [
              0.4444444444444444,
              "#bd3786"
             ],
             [
              0.5555555555555556,
              "#d8576b"
             ],
             [
              0.6666666666666666,
              "#ed7953"
             ],
             [
              0.7777777777777778,
              "#fb9f3a"
             ],
             [
              0.8888888888888888,
              "#fdca26"
             ],
             [
              1,
              "#f0f921"
             ]
            ],
            "type": "histogram2dcontour"
           }
          ],
          "mesh3d": [
           {
            "colorbar": {
             "outlinewidth": 0,
             "ticks": ""
            },
            "type": "mesh3d"
           }
          ],
          "parcoords": [
           {
            "line": {
             "colorbar": {
              "outlinewidth": 0,
              "ticks": ""
             }
            },
            "type": "parcoords"
           }
          ],
          "pie": [
           {
            "automargin": true,
            "type": "pie"
           }
          ],
          "scatter": [
           {
            "fillpattern": {
             "fillmode": "overlay",
             "size": 10,
             "solidity": 0.2
            },
            "type": "scatter"
           }
          ],
          "scatter3d": [
           {
            "line": {
             "colorbar": {
              "outlinewidth": 0,
              "ticks": ""
             }
            },
            "marker": {
             "colorbar": {
              "outlinewidth": 0,
              "ticks": ""
             }
            },
            "type": "scatter3d"
           }
          ],
          "scattercarpet": [
           {
            "marker": {
             "colorbar": {
              "outlinewidth": 0,
              "ticks": ""
             }
            },
            "type": "scattercarpet"
           }
          ],
          "scattergeo": [
           {
            "marker": {
             "colorbar": {
              "outlinewidth": 0,
              "ticks": ""
             }
            },
            "type": "scattergeo"
           }
          ],
          "scattergl": [
           {
            "marker": {
             "colorbar": {
              "outlinewidth": 0,
              "ticks": ""
             }
            },
            "type": "scattergl"
           }
          ],
          "scattermapbox": [
           {
            "marker": {
             "colorbar": {
              "outlinewidth": 0,
              "ticks": ""
             }
            },
            "type": "scattermapbox"
           }
          ],
          "scatterpolar": [
           {
            "marker": {
             "colorbar": {
              "outlinewidth": 0,
              "ticks": ""
             }
            },
            "type": "scatterpolar"
           }
          ],
          "scatterpolargl": [
           {
            "marker": {
             "colorbar": {
              "outlinewidth": 0,
              "ticks": ""
             }
            },
            "type": "scatterpolargl"
           }
          ],
          "scatterternary": [
           {
            "marker": {
             "colorbar": {
              "outlinewidth": 0,
              "ticks": ""
             }
            },
            "type": "scatterternary"
           }
          ],
          "surface": [
           {
            "colorbar": {
             "outlinewidth": 0,
             "ticks": ""
            },
            "colorscale": [
             [
              0,
              "#0d0887"
             ],
             [
              0.1111111111111111,
              "#46039f"
             ],
             [
              0.2222222222222222,
              "#7201a8"
             ],
             [
              0.3333333333333333,
              "#9c179e"
             ],
             [
              0.4444444444444444,
              "#bd3786"
             ],
             [
              0.5555555555555556,
              "#d8576b"
             ],
             [
              0.6666666666666666,
              "#ed7953"
             ],
             [
              0.7777777777777778,
              "#fb9f3a"
             ],
             [
              0.8888888888888888,
              "#fdca26"
             ],
             [
              1,
              "#f0f921"
             ]
            ],
            "type": "surface"
           }
          ],
          "table": [
           {
            "cells": {
             "fill": {
              "color": "#EBF0F8"
             },
             "line": {
              "color": "white"
             }
            },
            "header": {
             "fill": {
              "color": "#C8D4E3"
             },
             "line": {
              "color": "white"
             }
            },
            "type": "table"
           }
          ]
         },
         "layout": {
          "annotationdefaults": {
           "arrowcolor": "#2a3f5f",
           "arrowhead": 0,
           "arrowwidth": 1
          },
          "autotypenumbers": "strict",
          "coloraxis": {
           "colorbar": {
            "outlinewidth": 0,
            "ticks": ""
           }
          },
          "colorscale": {
           "diverging": [
            [
             0,
             "#8e0152"
            ],
            [
             0.1,
             "#c51b7d"
            ],
            [
             0.2,
             "#de77ae"
            ],
            [
             0.3,
             "#f1b6da"
            ],
            [
             0.4,
             "#fde0ef"
            ],
            [
             0.5,
             "#f7f7f7"
            ],
            [
             0.6,
             "#e6f5d0"
            ],
            [
             0.7,
             "#b8e186"
            ],
            [
             0.8,
             "#7fbc41"
            ],
            [
             0.9,
             "#4d9221"
            ],
            [
             1,
             "#276419"
            ]
           ],
           "sequential": [
            [
             0,
             "#0d0887"
            ],
            [
             0.1111111111111111,
             "#46039f"
            ],
            [
             0.2222222222222222,
             "#7201a8"
            ],
            [
             0.3333333333333333,
             "#9c179e"
            ],
            [
             0.4444444444444444,
             "#bd3786"
            ],
            [
             0.5555555555555556,
             "#d8576b"
            ],
            [
             0.6666666666666666,
             "#ed7953"
            ],
            [
             0.7777777777777778,
             "#fb9f3a"
            ],
            [
             0.8888888888888888,
             "#fdca26"
            ],
            [
             1,
             "#f0f921"
            ]
           ],
           "sequentialminus": [
            [
             0,
             "#0d0887"
            ],
            [
             0.1111111111111111,
             "#46039f"
            ],
            [
             0.2222222222222222,
             "#7201a8"
            ],
            [
             0.3333333333333333,
             "#9c179e"
            ],
            [
             0.4444444444444444,
             "#bd3786"
            ],
            [
             0.5555555555555556,
             "#d8576b"
            ],
            [
             0.6666666666666666,
             "#ed7953"
            ],
            [
             0.7777777777777778,
             "#fb9f3a"
            ],
            [
             0.8888888888888888,
             "#fdca26"
            ],
            [
             1,
             "#f0f921"
            ]
           ]
          },
          "colorway": [
           "#636efa",
           "#EF553B",
           "#00cc96",
           "#ab63fa",
           "#FFA15A",
           "#19d3f3",
           "#FF6692",
           "#B6E880",
           "#FF97FF",
           "#FECB52"
          ],
          "font": {
           "color": "#2a3f5f"
          },
          "geo": {
           "bgcolor": "white",
           "lakecolor": "white",
           "landcolor": "#E5ECF6",
           "showlakes": true,
           "showland": true,
           "subunitcolor": "white"
          },
          "hoverlabel": {
           "align": "left"
          },
          "hovermode": "closest",
          "mapbox": {
           "style": "light"
          },
          "paper_bgcolor": "white",
          "plot_bgcolor": "#E5ECF6",
          "polar": {
           "angularaxis": {
            "gridcolor": "white",
            "linecolor": "white",
            "ticks": ""
           },
           "bgcolor": "#E5ECF6",
           "radialaxis": {
            "gridcolor": "white",
            "linecolor": "white",
            "ticks": ""
           }
          },
          "scene": {
           "xaxis": {
            "backgroundcolor": "#E5ECF6",
            "gridcolor": "white",
            "gridwidth": 2,
            "linecolor": "white",
            "showbackground": true,
            "ticks": "",
            "zerolinecolor": "white"
           },
           "yaxis": {
            "backgroundcolor": "#E5ECF6",
            "gridcolor": "white",
            "gridwidth": 2,
            "linecolor": "white",
            "showbackground": true,
            "ticks": "",
            "zerolinecolor": "white"
           },
           "zaxis": {
            "backgroundcolor": "#E5ECF6",
            "gridcolor": "white",
            "gridwidth": 2,
            "linecolor": "white",
            "showbackground": true,
            "ticks": "",
            "zerolinecolor": "white"
           }
          },
          "shapedefaults": {
           "line": {
            "color": "#2a3f5f"
           }
          },
          "ternary": {
           "aaxis": {
            "gridcolor": "white",
            "linecolor": "white",
            "ticks": ""
           },
           "baxis": {
            "gridcolor": "white",
            "linecolor": "white",
            "ticks": ""
           },
           "bgcolor": "#E5ECF6",
           "caxis": {
            "gridcolor": "white",
            "linecolor": "white",
            "ticks": ""
           }
          },
          "title": {
           "x": 0.05
          },
          "xaxis": {
           "automargin": true,
           "gridcolor": "white",
           "linecolor": "white",
           "ticks": "",
           "title": {
            "standoff": 15
           },
           "zerolinecolor": "white",
           "zerolinewidth": 2
          },
          "yaxis": {
           "automargin": true,
           "gridcolor": "white",
           "linecolor": "white",
           "ticks": "",
           "title": {
            "standoff": 15
           },
           "zerolinecolor": "white",
           "zerolinewidth": 2
          }
         }
        },
        "title": {
         "text": "Likes Analysis by Media Type"
        },
        "xaxis": {
         "anchor": "y",
         "domain": [
          0,
          1
         ],
         "matches": "x2",
         "showticklabels": false
        },
        "xaxis2": {
         "anchor": "y2",
         "domain": [
          0,
          1
         ],
         "title": {
          "text": "Month-Year"
         }
        },
        "yaxis": {
         "anchor": "x",
         "domain": [
          0.575,
          1
         ],
         "title": {
          "text": "Monthly Counts"
         }
        },
        "yaxis2": {
         "anchor": "x2",
         "domain": [
          0,
          0.425
         ],
         "title": {
          "text": "Cumulative Counts"
         }
        }
       }
      }
     },
     "metadata": {},
     "output_type": "display_data"
    }
   ],
   "source": [
    "import pandas as pd\n",
    "import plotly.graph_objects as go\n",
    "import plotly.express as px\n",
    "from plotly.subplots import make_subplots\n",
    "\n",
    "def plot_likes_with_cumulative(df, start_date, end_date):\n",
    "    df['date'] = pd.to_datetime(df['date'])\n",
    "    df = df[(df['date'] >= start_date) & (df['date'] <= end_date)]\n",
    "    df['media_type'] = df['media_type'].replace({'No media': 'Text'})\n",
    "    df['year_month'] = df['date'].dt.strftime('%Y-%m')\n",
    "\n",
    "    # Prepare the monthly count DataFrame\n",
    "    monthly_likes_df = df.groupby(['year_month', 'media_type']).size().reset_index(name='counts')\n",
    "\n",
    "    # Prepare the cumulative DataFrame\n",
    "    cumulative_likes_df = monthly_likes_df.copy()\n",
    "    cumulative_likes_df['cumulative_counts'] = cumulative_likes_df.groupby('media_type')['counts'].cumsum()\n",
    "\n",
    "    # Select a color palette\n",
    "    color_palette = px.colors.qualitative.Pastel\n",
    "\n",
    "    # Match colors to media type\n",
    "    color_map = {media_type: color_palette[i] for i, media_type in enumerate([ 'Video', 'Image',  'Text'])}\n",
    "\n",
    "    # Creating subplots\n",
    "    fig = make_subplots(rows=2, cols=1, shared_xaxes=True,\n",
    "                        subplot_titles=(\"Monthly Likes by Media Type\", \"Cumulative Likes by Media Type\"),\n",
    "                        vertical_spacing=0.15)\n",
    "\n",
    "    # Adding the monthly bar chart\n",
    "    for media_type in monthly_likes_df['media_type'].unique():\n",
    "        filtered_df = monthly_likes_df[monthly_likes_df['media_type'] == media_type]\n",
    "        fig.add_trace(go.Bar(x=filtered_df['year_month'], y=filtered_df['counts'], opacity=0.8,\n",
    "                             name=media_type, marker_color=color_map[media_type]),\n",
    "                      row=1, col=1)\n",
    "\n",
    "    # Adding the cumulative area chart\n",
    "    for media_type in cumulative_likes_df['media_type'].unique():\n",
    "        filtered_cumulative_df = cumulative_likes_df[cumulative_likes_df['media_type'] == media_type]\n",
    "        fig.add_trace(go.Scatter(x=filtered_cumulative_df['year_month'], y=filtered_cumulative_df['cumulative_counts'],\n",
    "                                 mode='lines', name=media_type, fill='tonexty',\n",
    "                                 line=dict(color=color_map[media_type])),\n",
    "                      row=2, col=1)\n",
    "\n",
    "    # Update layout for clarity and visual appeal\n",
    "    fig.update_layout(height=600, title_text=\"Likes Analysis by Media Type\")\n",
    "    fig.update_xaxes(title_text=\"Month-Year\", row=2, col=1)\n",
    "    fig.update_yaxes(title_text=\"Monthly Counts\", row=1, col=1)\n",
    "    fig.update_yaxes(title_text=\"Cumulative Counts\", row=2, col=1)\n",
    "\n",
    "    fig.show()\n",
    "\n",
    "# Call the function with your DataFrame and a date range\n",
    "plot_likes_with_cumulative(df, '2023-01-01', '2023-12-31')\n"
   ]
  },
  {
   "cell_type": "code",
   "execution_count": 8,
   "metadata": {},
   "outputs": [
    {
     "data": {
      "application/vnd.plotly.v1+json": {
       "config": {
        "plotlyServerURL": "https://plot.ly"
       },
       "data": [
        {
         "direction": "clockwise",
         "domain": {
          "x": [
           0,
           1
          ],
          "y": [
           0,
           1
          ]
         },
         "hole": 0.4,
         "hovertemplate": "WeekdayName=%{label}<br>Count=%{value}<extra></extra>",
         "labels": [
          "Monday",
          "Tuesday",
          "Wednesday",
          "Thursday",
          "Friday",
          "Saturday",
          "Sunday"
         ],
         "legendgroup": "",
         "name": "",
         "pull": 0.02,
         "showlegend": true,
         "sort": false,
         "textinfo": "percent+label",
         "type": "pie",
         "values": [
          132,
          154,
          162,
          179,
          126,
          135,
          138
         ]
        }
       ],
       "layout": {
        "legend": {
         "tracegroupgap": 0
        },
        "piecolorway": [
         "rgb(102, 197, 204)",
         "rgb(246, 207, 113)",
         "rgb(248, 156, 116)",
         "rgb(220, 176, 242)",
         "rgb(135, 197, 95)",
         "rgb(158, 185, 243)",
         "rgb(254, 136, 177)",
         "rgb(201, 219, 116)",
         "rgb(139, 224, 164)",
         "rgb(180, 151, 231)",
         "rgb(179, 179, 179)"
        ],
        "template": {
         "data": {
          "bar": [
           {
            "error_x": {
             "color": "#2a3f5f"
            },
            "error_y": {
             "color": "#2a3f5f"
            },
            "marker": {
             "line": {
              "color": "#E5ECF6",
              "width": 0.5
             },
             "pattern": {
              "fillmode": "overlay",
              "size": 10,
              "solidity": 0.2
             }
            },
            "type": "bar"
           }
          ],
          "barpolar": [
           {
            "marker": {
             "line": {
              "color": "#E5ECF6",
              "width": 0.5
             },
             "pattern": {
              "fillmode": "overlay",
              "size": 10,
              "solidity": 0.2
             }
            },
            "type": "barpolar"
           }
          ],
          "carpet": [
           {
            "aaxis": {
             "endlinecolor": "#2a3f5f",
             "gridcolor": "white",
             "linecolor": "white",
             "minorgridcolor": "white",
             "startlinecolor": "#2a3f5f"
            },
            "baxis": {
             "endlinecolor": "#2a3f5f",
             "gridcolor": "white",
             "linecolor": "white",
             "minorgridcolor": "white",
             "startlinecolor": "#2a3f5f"
            },
            "type": "carpet"
           }
          ],
          "choropleth": [
           {
            "colorbar": {
             "outlinewidth": 0,
             "ticks": ""
            },
            "type": "choropleth"
           }
          ],
          "contour": [
           {
            "colorbar": {
             "outlinewidth": 0,
             "ticks": ""
            },
            "colorscale": [
             [
              0,
              "#0d0887"
             ],
             [
              0.1111111111111111,
              "#46039f"
             ],
             [
              0.2222222222222222,
              "#7201a8"
             ],
             [
              0.3333333333333333,
              "#9c179e"
             ],
             [
              0.4444444444444444,
              "#bd3786"
             ],
             [
              0.5555555555555556,
              "#d8576b"
             ],
             [
              0.6666666666666666,
              "#ed7953"
             ],
             [
              0.7777777777777778,
              "#fb9f3a"
             ],
             [
              0.8888888888888888,
              "#fdca26"
             ],
             [
              1,
              "#f0f921"
             ]
            ],
            "type": "contour"
           }
          ],
          "contourcarpet": [
           {
            "colorbar": {
             "outlinewidth": 0,
             "ticks": ""
            },
            "type": "contourcarpet"
           }
          ],
          "heatmap": [
           {
            "colorbar": {
             "outlinewidth": 0,
             "ticks": ""
            },
            "colorscale": [
             [
              0,
              "#0d0887"
             ],
             [
              0.1111111111111111,
              "#46039f"
             ],
             [
              0.2222222222222222,
              "#7201a8"
             ],
             [
              0.3333333333333333,
              "#9c179e"
             ],
             [
              0.4444444444444444,
              "#bd3786"
             ],
             [
              0.5555555555555556,
              "#d8576b"
             ],
             [
              0.6666666666666666,
              "#ed7953"
             ],
             [
              0.7777777777777778,
              "#fb9f3a"
             ],
             [
              0.8888888888888888,
              "#fdca26"
             ],
             [
              1,
              "#f0f921"
             ]
            ],
            "type": "heatmap"
           }
          ],
          "heatmapgl": [
           {
            "colorbar": {
             "outlinewidth": 0,
             "ticks": ""
            },
            "colorscale": [
             [
              0,
              "#0d0887"
             ],
             [
              0.1111111111111111,
              "#46039f"
             ],
             [
              0.2222222222222222,
              "#7201a8"
             ],
             [
              0.3333333333333333,
              "#9c179e"
             ],
             [
              0.4444444444444444,
              "#bd3786"
             ],
             [
              0.5555555555555556,
              "#d8576b"
             ],
             [
              0.6666666666666666,
              "#ed7953"
             ],
             [
              0.7777777777777778,
              "#fb9f3a"
             ],
             [
              0.8888888888888888,
              "#fdca26"
             ],
             [
              1,
              "#f0f921"
             ]
            ],
            "type": "heatmapgl"
           }
          ],
          "histogram": [
           {
            "marker": {
             "pattern": {
              "fillmode": "overlay",
              "size": 10,
              "solidity": 0.2
             }
            },
            "type": "histogram"
           }
          ],
          "histogram2d": [
           {
            "colorbar": {
             "outlinewidth": 0,
             "ticks": ""
            },
            "colorscale": [
             [
              0,
              "#0d0887"
             ],
             [
              0.1111111111111111,
              "#46039f"
             ],
             [
              0.2222222222222222,
              "#7201a8"
             ],
             [
              0.3333333333333333,
              "#9c179e"
             ],
             [
              0.4444444444444444,
              "#bd3786"
             ],
             [
              0.5555555555555556,
              "#d8576b"
             ],
             [
              0.6666666666666666,
              "#ed7953"
             ],
             [
              0.7777777777777778,
              "#fb9f3a"
             ],
             [
              0.8888888888888888,
              "#fdca26"
             ],
             [
              1,
              "#f0f921"
             ]
            ],
            "type": "histogram2d"
           }
          ],
          "histogram2dcontour": [
           {
            "colorbar": {
             "outlinewidth": 0,
             "ticks": ""
            },
            "colorscale": [
             [
              0,
              "#0d0887"
             ],
             [
              0.1111111111111111,
              "#46039f"
             ],
             [
              0.2222222222222222,
              "#7201a8"
             ],
             [
              0.3333333333333333,
              "#9c179e"
             ],
             [
              0.4444444444444444,
              "#bd3786"
             ],
             [
              0.5555555555555556,
              "#d8576b"
             ],
             [
              0.6666666666666666,
              "#ed7953"
             ],
             [
              0.7777777777777778,
              "#fb9f3a"
             ],
             [
              0.8888888888888888,
              "#fdca26"
             ],
             [
              1,
              "#f0f921"
             ]
            ],
            "type": "histogram2dcontour"
           }
          ],
          "mesh3d": [
           {
            "colorbar": {
             "outlinewidth": 0,
             "ticks": ""
            },
            "type": "mesh3d"
           }
          ],
          "parcoords": [
           {
            "line": {
             "colorbar": {
              "outlinewidth": 0,
              "ticks": ""
             }
            },
            "type": "parcoords"
           }
          ],
          "pie": [
           {
            "automargin": true,
            "type": "pie"
           }
          ],
          "scatter": [
           {
            "fillpattern": {
             "fillmode": "overlay",
             "size": 10,
             "solidity": 0.2
            },
            "type": "scatter"
           }
          ],
          "scatter3d": [
           {
            "line": {
             "colorbar": {
              "outlinewidth": 0,
              "ticks": ""
             }
            },
            "marker": {
             "colorbar": {
              "outlinewidth": 0,
              "ticks": ""
             }
            },
            "type": "scatter3d"
           }
          ],
          "scattercarpet": [
           {
            "marker": {
             "colorbar": {
              "outlinewidth": 0,
              "ticks": ""
             }
            },
            "type": "scattercarpet"
           }
          ],
          "scattergeo": [
           {
            "marker": {
             "colorbar": {
              "outlinewidth": 0,
              "ticks": ""
             }
            },
            "type": "scattergeo"
           }
          ],
          "scattergl": [
           {
            "marker": {
             "colorbar": {
              "outlinewidth": 0,
              "ticks": ""
             }
            },
            "type": "scattergl"
           }
          ],
          "scattermapbox": [
           {
            "marker": {
             "colorbar": {
              "outlinewidth": 0,
              "ticks": ""
             }
            },
            "type": "scattermapbox"
           }
          ],
          "scatterpolar": [
           {
            "marker": {
             "colorbar": {
              "outlinewidth": 0,
              "ticks": ""
             }
            },
            "type": "scatterpolar"
           }
          ],
          "scatterpolargl": [
           {
            "marker": {
             "colorbar": {
              "outlinewidth": 0,
              "ticks": ""
             }
            },
            "type": "scatterpolargl"
           }
          ],
          "scatterternary": [
           {
            "marker": {
             "colorbar": {
              "outlinewidth": 0,
              "ticks": ""
             }
            },
            "type": "scatterternary"
           }
          ],
          "surface": [
           {
            "colorbar": {
             "outlinewidth": 0,
             "ticks": ""
            },
            "colorscale": [
             [
              0,
              "#0d0887"
             ],
             [
              0.1111111111111111,
              "#46039f"
             ],
             [
              0.2222222222222222,
              "#7201a8"
             ],
             [
              0.3333333333333333,
              "#9c179e"
             ],
             [
              0.4444444444444444,
              "#bd3786"
             ],
             [
              0.5555555555555556,
              "#d8576b"
             ],
             [
              0.6666666666666666,
              "#ed7953"
             ],
             [
              0.7777777777777778,
              "#fb9f3a"
             ],
             [
              0.8888888888888888,
              "#fdca26"
             ],
             [
              1,
              "#f0f921"
             ]
            ],
            "type": "surface"
           }
          ],
          "table": [
           {
            "cells": {
             "fill": {
              "color": "#EBF0F8"
             },
             "line": {
              "color": "white"
             }
            },
            "header": {
             "fill": {
              "color": "#C8D4E3"
             },
             "line": {
              "color": "white"
             }
            },
            "type": "table"
           }
          ]
         },
         "layout": {
          "annotationdefaults": {
           "arrowcolor": "#2a3f5f",
           "arrowhead": 0,
           "arrowwidth": 1
          },
          "autotypenumbers": "strict",
          "coloraxis": {
           "colorbar": {
            "outlinewidth": 0,
            "ticks": ""
           }
          },
          "colorscale": {
           "diverging": [
            [
             0,
             "#8e0152"
            ],
            [
             0.1,
             "#c51b7d"
            ],
            [
             0.2,
             "#de77ae"
            ],
            [
             0.3,
             "#f1b6da"
            ],
            [
             0.4,
             "#fde0ef"
            ],
            [
             0.5,
             "#f7f7f7"
            ],
            [
             0.6,
             "#e6f5d0"
            ],
            [
             0.7,
             "#b8e186"
            ],
            [
             0.8,
             "#7fbc41"
            ],
            [
             0.9,
             "#4d9221"
            ],
            [
             1,
             "#276419"
            ]
           ],
           "sequential": [
            [
             0,
             "#0d0887"
            ],
            [
             0.1111111111111111,
             "#46039f"
            ],
            [
             0.2222222222222222,
             "#7201a8"
            ],
            [
             0.3333333333333333,
             "#9c179e"
            ],
            [
             0.4444444444444444,
             "#bd3786"
            ],
            [
             0.5555555555555556,
             "#d8576b"
            ],
            [
             0.6666666666666666,
             "#ed7953"
            ],
            [
             0.7777777777777778,
             "#fb9f3a"
            ],
            [
             0.8888888888888888,
             "#fdca26"
            ],
            [
             1,
             "#f0f921"
            ]
           ],
           "sequentialminus": [
            [
             0,
             "#0d0887"
            ],
            [
             0.1111111111111111,
             "#46039f"
            ],
            [
             0.2222222222222222,
             "#7201a8"
            ],
            [
             0.3333333333333333,
             "#9c179e"
            ],
            [
             0.4444444444444444,
             "#bd3786"
            ],
            [
             0.5555555555555556,
             "#d8576b"
            ],
            [
             0.6666666666666666,
             "#ed7953"
            ],
            [
             0.7777777777777778,
             "#fb9f3a"
            ],
            [
             0.8888888888888888,
             "#fdca26"
            ],
            [
             1,
             "#f0f921"
            ]
           ]
          },
          "colorway": [
           "#636efa",
           "#EF553B",
           "#00cc96",
           "#ab63fa",
           "#FFA15A",
           "#19d3f3",
           "#FF6692",
           "#B6E880",
           "#FF97FF",
           "#FECB52"
          ],
          "font": {
           "color": "#2a3f5f"
          },
          "geo": {
           "bgcolor": "white",
           "lakecolor": "white",
           "landcolor": "#E5ECF6",
           "showlakes": true,
           "showland": true,
           "subunitcolor": "white"
          },
          "hoverlabel": {
           "align": "left"
          },
          "hovermode": "closest",
          "mapbox": {
           "style": "light"
          },
          "paper_bgcolor": "white",
          "plot_bgcolor": "#E5ECF6",
          "polar": {
           "angularaxis": {
            "gridcolor": "white",
            "linecolor": "white",
            "ticks": ""
           },
           "bgcolor": "#E5ECF6",
           "radialaxis": {
            "gridcolor": "white",
            "linecolor": "white",
            "ticks": ""
           }
          },
          "scene": {
           "xaxis": {
            "backgroundcolor": "#E5ECF6",
            "gridcolor": "white",
            "gridwidth": 2,
            "linecolor": "white",
            "showbackground": true,
            "ticks": "",
            "zerolinecolor": "white"
           },
           "yaxis": {
            "backgroundcolor": "#E5ECF6",
            "gridcolor": "white",
            "gridwidth": 2,
            "linecolor": "white",
            "showbackground": true,
            "ticks": "",
            "zerolinecolor": "white"
           },
           "zaxis": {
            "backgroundcolor": "#E5ECF6",
            "gridcolor": "white",
            "gridwidth": 2,
            "linecolor": "white",
            "showbackground": true,
            "ticks": "",
            "zerolinecolor": "white"
           }
          },
          "shapedefaults": {
           "line": {
            "color": "#2a3f5f"
           }
          },
          "ternary": {
           "aaxis": {
            "gridcolor": "white",
            "linecolor": "white",
            "ticks": ""
           },
           "baxis": {
            "gridcolor": "white",
            "linecolor": "white",
            "ticks": ""
           },
           "bgcolor": "#E5ECF6",
           "caxis": {
            "gridcolor": "white",
            "linecolor": "white",
            "ticks": ""
           }
          },
          "title": {
           "x": 0.05
          },
          "xaxis": {
           "automargin": true,
           "gridcolor": "white",
           "linecolor": "white",
           "ticks": "",
           "title": {
            "standoff": 15
           },
           "zerolinecolor": "white",
           "zerolinewidth": 2
          },
          "yaxis": {
           "automargin": true,
           "gridcolor": "white",
           "linecolor": "white",
           "ticks": "",
           "title": {
            "standoff": 15
           },
           "zerolinecolor": "white",
           "zerolinewidth": 2
          }
         }
        },
        "title": {
         "text": "Tweets Liked by Weekday"
        }
       }
      }
     },
     "metadata": {},
     "output_type": "display_data"
    }
   ],
   "source": [
    "def plot_combined_donut_chart_ordered_correctly(data_df, date_col = 'StrTime'):\n",
    "    # Convert 'StrTime' to datetime and extract the weekday name and number\n",
    "    data_df['WeekdayName'] = data_df[date_col].dt.day_name()\n",
    "    # Map weekday names to numbers for sorting (Monday=0, ..., Sunday=6)\n",
    "    weekdays_map = {'Monday': 0, 'Tuesday': 1, 'Wednesday': 2, 'Thursday': 3, 'Friday': 4, 'Saturday': 5, 'Sunday': 6}\n",
    "    data_df['WeekdayNumber'] = data_df['WeekdayName'].map(weekdays_map)\n",
    "    \n",
    "    # Prepare the data: count messages by WeekdayName, ignoring sender\n",
    "    weekday_distribution = data_df.groupby(['WeekdayName', 'WeekdayNumber']).size().reset_index(name='Count')\n",
    "    \n",
    "    # Sort by WeekdayNumber to ensure correct order\n",
    "    weekday_distribution.sort_values('WeekdayNumber', inplace=True)\n",
    "    \n",
    "    # Now that sorting is done, WeekdayNumber is no longer needed\n",
    "    weekday_distribution = weekday_distribution.drop(columns=['WeekdayNumber'])\n",
    "    \n",
    "    # Create Donut chart with a different color scheme\n",
    "    fig = px.pie(weekday_distribution, names='WeekdayName', values='Count',\n",
    "                 title=\"Tweets Liked by Weekday\",\n",
    "                 color_discrete_sequence=px.colors.qualitative.Pastel,\n",
    "                 hole=0.4)\n",
    "    \n",
    "    # Add slight margin between each day for better visualization\n",
    "    fig.update_traces(textinfo='percent+label', pull=0.02)\n",
    "    fig.update_traces(\n",
    "        sort=False, \n",
    "        direction='clockwise'\n",
    "                      )\n",
    "\n",
    "\n",
    "    fig.show()\n",
    "\n",
    "# Ensure data_df['StrTime'] is a datetime column before calling the function\n",
    "plot_combined_donut_chart_ordered_correctly(df, date_col='date')\n"
   ]
  },
  {
   "cell_type": "code",
   "execution_count": 9,
   "metadata": {},
   "outputs": [
    {
     "name": "stderr",
     "output_type": "stream",
     "text": [
      "c:\\Users\\zjxen\\anaconda3\\envs\\openai\\lib\\site-packages\\plotly_calplot\\calplot.py:159: SettingWithCopyWarning:\n",
      "\n",
      "\n",
      "A value is trying to be set on a copy of a slice from a DataFrame.\n",
      "Try using .loc[row_indexer,col_indexer] = value instead\n",
      "\n",
      "See the caveats in the documentation: https://pandas.pydata.org/pandas-docs/stable/user_guide/indexing.html#returning-a-view-versus-a-copy\n",
      "\n"
     ]
    },
    {
     "data": {
      "application/vnd.plotly.v1+json": {
       "config": {
        "plotlyServerURL": "https://plot.ly"
       },
       "data": [
        {
         "colorscale": [
          [
           0,
           "rgb(247,252,245)"
          ],
          [
           0.125,
           "rgb(229,245,224)"
          ],
          [
           0.25,
           "rgb(199,233,192)"
          ],
          [
           0.375,
           "rgb(161,217,155)"
          ],
          [
           0.5,
           "rgb(116,196,118)"
          ],
          [
           0.625,
           "rgb(65,171,93)"
          ],
          [
           0.75,
           "rgb(35,139,69)"
          ],
          [
           0.875,
           "rgb(0,109,44)"
          ],
          [
           1,
           "rgb(0,68,27)"
          ]
         ],
         "customdata": [
          [
           "2023-01-01",
           "y"
          ],
          [
           "2023-01-02",
           "y"
          ],
          [
           "2023-01-03",
           "y"
          ],
          [
           "2023-01-04",
           "y"
          ],
          [
           "2023-01-05",
           "y"
          ],
          [
           "2023-01-06",
           "y"
          ],
          [
           "2023-01-07",
           "y"
          ],
          [
           "2023-01-08",
           "y"
          ],
          [
           "2023-01-09",
           "y"
          ],
          [
           "2023-01-10",
           "y"
          ],
          [
           "2023-01-11",
           "y"
          ],
          [
           "2023-01-12",
           "y"
          ],
          [
           "2023-01-13",
           "y"
          ],
          [
           "2023-01-14",
           "y"
          ],
          [
           "2023-01-15",
           "y"
          ],
          [
           "2023-01-16",
           "y"
          ],
          [
           "2023-01-17",
           "y"
          ],
          [
           "2023-01-18",
           "y"
          ],
          [
           "2023-01-19",
           "y"
          ],
          [
           "2023-01-20",
           "y"
          ],
          [
           "2023-01-21",
           "y"
          ],
          [
           "2023-01-22",
           "y"
          ],
          [
           "2023-01-23",
           "y"
          ],
          [
           "2023-01-24",
           "y"
          ],
          [
           "2023-01-25",
           "y"
          ],
          [
           "2023-01-26",
           "y"
          ],
          [
           "2023-01-27",
           "y"
          ],
          [
           "2023-01-28",
           "y"
          ],
          [
           "2023-01-29",
           "y"
          ],
          [
           "2023-01-30",
           "y"
          ],
          [
           "2023-01-31",
           "y"
          ],
          [
           "2023-02-01",
           "y"
          ],
          [
           "2023-02-02",
           "y"
          ],
          [
           "2023-02-03",
           "y"
          ],
          [
           "2023-02-04",
           "y"
          ],
          [
           "2023-02-05",
           "y"
          ],
          [
           "2023-02-06",
           "y"
          ],
          [
           "2023-02-07",
           "y"
          ],
          [
           "2023-02-08",
           "y"
          ],
          [
           "2023-02-09",
           "y"
          ],
          [
           "2023-02-10",
           "y"
          ],
          [
           "2023-02-11",
           "y"
          ],
          [
           "2023-02-12",
           "y"
          ],
          [
           "2023-02-13",
           "y"
          ],
          [
           "2023-02-14",
           "y"
          ],
          [
           "2023-02-15",
           "y"
          ],
          [
           "2023-02-16",
           "y"
          ],
          [
           "2023-02-17",
           "y"
          ],
          [
           "2023-02-18",
           "y"
          ],
          [
           "2023-02-19",
           "y"
          ],
          [
           "2023-02-20",
           "y"
          ],
          [
           "2023-02-21",
           "y"
          ],
          [
           "2023-02-22",
           "y"
          ],
          [
           "2023-02-23",
           "y"
          ],
          [
           "2023-02-24",
           "y"
          ],
          [
           "2023-02-25",
           "y"
          ],
          [
           "2023-02-26",
           "y"
          ],
          [
           "2023-02-27",
           "y"
          ],
          [
           "2023-02-28",
           "y"
          ],
          [
           "2023-03-01",
           "y"
          ],
          [
           "2023-03-02",
           "y"
          ],
          [
           "2023-03-03",
           "y"
          ],
          [
           "2023-03-04",
           "y"
          ],
          [
           "2023-03-05",
           "y"
          ],
          [
           "2023-03-06",
           "y"
          ],
          [
           "2023-03-07",
           "y"
          ],
          [
           "2023-03-08",
           "y"
          ],
          [
           "2023-03-09",
           "y"
          ],
          [
           "2023-03-10",
           "y"
          ],
          [
           "2023-03-11",
           "y"
          ],
          [
           "2023-03-12",
           "y"
          ],
          [
           "2023-03-13",
           "y"
          ],
          [
           "2023-03-14",
           "y"
          ],
          [
           "2023-03-15",
           "y"
          ],
          [
           "2023-03-16",
           "y"
          ],
          [
           "2023-03-17",
           "y"
          ],
          [
           "2023-03-18",
           "y"
          ],
          [
           "2023-03-19",
           "y"
          ],
          [
           "2023-03-20",
           "y"
          ],
          [
           "2023-03-21",
           "y"
          ],
          [
           "2023-03-22",
           "y"
          ],
          [
           "2023-03-23",
           "y"
          ],
          [
           "2023-03-24",
           "y"
          ],
          [
           "2023-03-25",
           "y"
          ],
          [
           "2023-03-26",
           "y"
          ],
          [
           "2023-03-27",
           "y"
          ],
          [
           "2023-03-28",
           "y"
          ],
          [
           "2023-03-29",
           "y"
          ],
          [
           "2023-03-30",
           "y"
          ],
          [
           "2023-03-31",
           "y"
          ],
          [
           "2023-04-01",
           "y"
          ],
          [
           "2023-04-02",
           "y"
          ],
          [
           "2023-04-03",
           "y"
          ],
          [
           "2023-04-04",
           "y"
          ],
          [
           "2023-04-05",
           "y"
          ],
          [
           "2023-04-06",
           "y"
          ],
          [
           "2023-04-07",
           "y"
          ],
          [
           "2023-04-08",
           "y"
          ],
          [
           "2023-04-09",
           "y"
          ],
          [
           "2023-04-10",
           "y"
          ],
          [
           "2023-04-11",
           "y"
          ],
          [
           "2023-04-12",
           "y"
          ],
          [
           "2023-04-13",
           "y"
          ],
          [
           "2023-04-14",
           "y"
          ],
          [
           "2023-04-15",
           "y"
          ],
          [
           "2023-04-16",
           "y"
          ],
          [
           "2023-04-17",
           "y"
          ],
          [
           "2023-04-18",
           "y"
          ],
          [
           "2023-04-19",
           "y"
          ],
          [
           "2023-04-20",
           "y"
          ],
          [
           "2023-04-21",
           "y"
          ],
          [
           "2023-04-22",
           "y"
          ],
          [
           "2023-04-23",
           "y"
          ],
          [
           "2023-04-24",
           "y"
          ],
          [
           "2023-04-25",
           "y"
          ],
          [
           "2023-04-26",
           "y"
          ],
          [
           "2023-04-27",
           "y"
          ],
          [
           "2023-04-28",
           "y"
          ],
          [
           "2023-04-29",
           "y"
          ],
          [
           "2023-04-30",
           "y"
          ],
          [
           "2023-05-01",
           "y"
          ],
          [
           "2023-05-02",
           "y"
          ],
          [
           "2023-05-03",
           "y"
          ],
          [
           "2023-05-04",
           "y"
          ],
          [
           "2023-05-05",
           "y"
          ],
          [
           "2023-05-06",
           "y"
          ],
          [
           "2023-05-07",
           "y"
          ],
          [
           "2023-05-08",
           "y"
          ],
          [
           "2023-05-09",
           "y"
          ],
          [
           "2023-05-10",
           "y"
          ],
          [
           "2023-05-11",
           "y"
          ],
          [
           "2023-05-12",
           "y"
          ],
          [
           "2023-05-13",
           "y"
          ],
          [
           "2023-05-14",
           "y"
          ],
          [
           "2023-05-15",
           "y"
          ],
          [
           "2023-05-16",
           "y"
          ],
          [
           "2023-05-17",
           "y"
          ],
          [
           "2023-05-18",
           "y"
          ],
          [
           "2023-05-19",
           "y"
          ],
          [
           "2023-05-20",
           "y"
          ],
          [
           "2023-05-21",
           "y"
          ],
          [
           "2023-05-22",
           "y"
          ],
          [
           "2023-05-23",
           "y"
          ],
          [
           "2023-05-24",
           "y"
          ],
          [
           "2023-05-25",
           "y"
          ],
          [
           "2023-05-26",
           "y"
          ],
          [
           "2023-05-27",
           "y"
          ],
          [
           "2023-05-28",
           "y"
          ],
          [
           "2023-05-29",
           "y"
          ],
          [
           "2023-05-30",
           "y"
          ],
          [
           "2023-05-31",
           "y"
          ],
          [
           "2023-06-01",
           "y"
          ],
          [
           "2023-06-02",
           "y"
          ],
          [
           "2023-06-03",
           "y"
          ],
          [
           "2023-06-04",
           "y"
          ],
          [
           "2023-06-05",
           "y"
          ],
          [
           "2023-06-06",
           "y"
          ],
          [
           "2023-06-07",
           "y"
          ],
          [
           "2023-06-08",
           "y"
          ],
          [
           "2023-06-09",
           "y"
          ],
          [
           "2023-06-10",
           "y"
          ],
          [
           "2023-06-11",
           "y"
          ],
          [
           "2023-06-12",
           "y"
          ],
          [
           "2023-06-13",
           "y"
          ],
          [
           "2023-06-14",
           "y"
          ],
          [
           "2023-06-15",
           "y"
          ],
          [
           "2023-06-16",
           "y"
          ],
          [
           "2023-06-17",
           "y"
          ],
          [
           "2023-06-18",
           "y"
          ],
          [
           "2023-06-19",
           "y"
          ],
          [
           "2023-06-20",
           "y"
          ],
          [
           "2023-06-21",
           "y"
          ],
          [
           "2023-06-22",
           "y"
          ],
          [
           "2023-06-23",
           "y"
          ],
          [
           "2023-06-24",
           "y"
          ],
          [
           "2023-06-25",
           "y"
          ],
          [
           "2023-06-26",
           "y"
          ],
          [
           "2023-06-27",
           "y"
          ],
          [
           "2023-06-28",
           "y"
          ],
          [
           "2023-06-29",
           "y"
          ],
          [
           "2023-06-30",
           "y"
          ],
          [
           "2023-07-01",
           "y"
          ],
          [
           "2023-07-02",
           "y"
          ],
          [
           "2023-07-03",
           "y"
          ],
          [
           "2023-07-04",
           "y"
          ],
          [
           "2023-07-05",
           "y"
          ],
          [
           "2023-07-06",
           "y"
          ],
          [
           "2023-07-07",
           "y"
          ],
          [
           "2023-07-08",
           "y"
          ],
          [
           "2023-07-09",
           "y"
          ],
          [
           "2023-07-10",
           "y"
          ],
          [
           "2023-07-11",
           "y"
          ],
          [
           "2023-07-12",
           "y"
          ],
          [
           "2023-07-13",
           "y"
          ],
          [
           "2023-07-14",
           "y"
          ],
          [
           "2023-07-15",
           "y"
          ],
          [
           "2023-07-16",
           "y"
          ],
          [
           "2023-07-17",
           "y"
          ],
          [
           "2023-07-18",
           "y"
          ],
          [
           "2023-07-19",
           "y"
          ],
          [
           "2023-07-20",
           "y"
          ],
          [
           "2023-07-21",
           "y"
          ],
          [
           "2023-07-22",
           "y"
          ],
          [
           "2023-07-23",
           "y"
          ],
          [
           "2023-07-24",
           "y"
          ],
          [
           "2023-07-25",
           "y"
          ],
          [
           "2023-07-26",
           "y"
          ],
          [
           "2023-07-27",
           "y"
          ],
          [
           "2023-07-28",
           "y"
          ],
          [
           "2023-07-29",
           "y"
          ],
          [
           "2023-07-30",
           "y"
          ],
          [
           "2023-07-31",
           "y"
          ],
          [
           "2023-08-01",
           "y"
          ],
          [
           "2023-08-02",
           "y"
          ],
          [
           "2023-08-03",
           "y"
          ],
          [
           "2023-08-04",
           "y"
          ],
          [
           "2023-08-05",
           "y"
          ],
          [
           "2023-08-06",
           "y"
          ],
          [
           "2023-08-07",
           "y"
          ],
          [
           "2023-08-08",
           "y"
          ],
          [
           "2023-08-09",
           "y"
          ],
          [
           "2023-08-10",
           "y"
          ],
          [
           "2023-08-11",
           "y"
          ],
          [
           "2023-08-12",
           "y"
          ],
          [
           "2023-08-13",
           "y"
          ],
          [
           "2023-08-14",
           "y"
          ],
          [
           "2023-08-15",
           "y"
          ],
          [
           "2023-08-16",
           "y"
          ],
          [
           "2023-08-17",
           "y"
          ],
          [
           "2023-08-18",
           "y"
          ],
          [
           "2023-08-19",
           "y"
          ],
          [
           "2023-08-20",
           "y"
          ],
          [
           "2023-08-21",
           "y"
          ],
          [
           "2023-08-22",
           "y"
          ],
          [
           "2023-08-23",
           "y"
          ],
          [
           "2023-08-24",
           "y"
          ],
          [
           "2023-08-25",
           "y"
          ],
          [
           "2023-08-26",
           "y"
          ],
          [
           "2023-08-27",
           "y"
          ],
          [
           "2023-08-28",
           "y"
          ],
          [
           "2023-08-29",
           "y"
          ],
          [
           "2023-08-30",
           "y"
          ],
          [
           "2023-08-31",
           "y"
          ],
          [
           "2023-09-01",
           "y"
          ],
          [
           "2023-09-02",
           "y"
          ],
          [
           "2023-09-03",
           "y"
          ],
          [
           "2023-09-04",
           "y"
          ],
          [
           "2023-09-05",
           "y"
          ],
          [
           "2023-09-06",
           "y"
          ],
          [
           "2023-09-07",
           "y"
          ],
          [
           "2023-09-08",
           "y"
          ],
          [
           "2023-09-09",
           "y"
          ],
          [
           "2023-09-10",
           "y"
          ],
          [
           "2023-09-11",
           "y"
          ],
          [
           "2023-09-12",
           "y"
          ],
          [
           "2023-09-13",
           "y"
          ],
          [
           "2023-09-14",
           "y"
          ],
          [
           "2023-09-15",
           "y"
          ],
          [
           "2023-09-16",
           "y"
          ],
          [
           "2023-09-17",
           "y"
          ],
          [
           "2023-09-18",
           "y"
          ],
          [
           "2023-09-19",
           "y"
          ],
          [
           "2023-09-20",
           "y"
          ],
          [
           "2023-09-21",
           "y"
          ],
          [
           "2023-09-22",
           "y"
          ],
          [
           "2023-09-23",
           "y"
          ],
          [
           "2023-09-24",
           "y"
          ],
          [
           "2023-09-25",
           "y"
          ],
          [
           "2023-09-26",
           "y"
          ],
          [
           "2023-09-27",
           "y"
          ],
          [
           "2023-09-28",
           "y"
          ],
          [
           "2023-09-29",
           "y"
          ],
          [
           "2023-09-30",
           "y"
          ],
          [
           "2023-10-01",
           "y"
          ],
          [
           "2023-10-02",
           "y"
          ],
          [
           "2023-10-03",
           "y"
          ],
          [
           "2023-10-04",
           "y"
          ],
          [
           "2023-10-05",
           "y"
          ],
          [
           "2023-10-06",
           "y"
          ],
          [
           "2023-10-07",
           "y"
          ],
          [
           "2023-10-08",
           "y"
          ],
          [
           "2023-10-09",
           "y"
          ],
          [
           "2023-10-10",
           "y"
          ],
          [
           "2023-10-11",
           "y"
          ],
          [
           "2023-10-12",
           "y"
          ],
          [
           "2023-10-13",
           "y"
          ],
          [
           "2023-10-14",
           "y"
          ],
          [
           "2023-10-15",
           "y"
          ],
          [
           "2023-10-16",
           "y"
          ],
          [
           "2023-10-17",
           "y"
          ],
          [
           "2023-10-18",
           "y"
          ],
          [
           "2023-10-19",
           "y"
          ],
          [
           "2023-10-20",
           "y"
          ],
          [
           "2023-10-21",
           "y"
          ],
          [
           "2023-10-22",
           "y"
          ],
          [
           "2023-10-23",
           "y"
          ],
          [
           "2023-10-24",
           "y"
          ],
          [
           "2023-10-25",
           "y"
          ],
          [
           "2023-10-26",
           "y"
          ],
          [
           "2023-10-27",
           "y"
          ],
          [
           "2023-10-28",
           "y"
          ],
          [
           "2023-10-29",
           "y"
          ],
          [
           "2023-10-30",
           "y"
          ],
          [
           "2023-10-31",
           "y"
          ],
          [
           "2023-11-01",
           "y"
          ],
          [
           "2023-11-02",
           "y"
          ],
          [
           "2023-11-03",
           "y"
          ],
          [
           "2023-11-04",
           "y"
          ],
          [
           "2023-11-05",
           "y"
          ],
          [
           "2023-11-06",
           "y"
          ],
          [
           "2023-11-07",
           "y"
          ],
          [
           "2023-11-08",
           "y"
          ],
          [
           "2023-11-09",
           "y"
          ],
          [
           "2023-11-10",
           "y"
          ],
          [
           "2023-11-11",
           "y"
          ],
          [
           "2023-11-12",
           "y"
          ],
          [
           "2023-11-13",
           "y"
          ],
          [
           "2023-11-14",
           "y"
          ],
          [
           "2023-11-15",
           "y"
          ],
          [
           "2023-11-16",
           "y"
          ],
          [
           "2023-11-17",
           "y"
          ],
          [
           "2023-11-18",
           "y"
          ],
          [
           "2023-11-19",
           "y"
          ],
          [
           "2023-11-20",
           "y"
          ],
          [
           "2023-11-21",
           "y"
          ],
          [
           "2023-11-22",
           "y"
          ],
          [
           "2023-11-23",
           "y"
          ],
          [
           "2023-11-24",
           "y"
          ],
          [
           "2023-11-25",
           "y"
          ],
          [
           "2023-11-26",
           "y"
          ],
          [
           "2023-11-27",
           "y"
          ],
          [
           "2023-11-28",
           "y"
          ],
          [
           "2023-11-29",
           "y"
          ],
          [
           "2023-11-30",
           "y"
          ],
          [
           "2023-12-01",
           "y"
          ],
          [
           "2023-12-02",
           "y"
          ],
          [
           "2023-12-03",
           "y"
          ],
          [
           "2023-12-04",
           "y"
          ],
          [
           "2023-12-05",
           "y"
          ],
          [
           "2023-12-06",
           "y"
          ],
          [
           "2023-12-07",
           "y"
          ],
          [
           "2023-12-08",
           "y"
          ],
          [
           "2023-12-09",
           "y"
          ],
          [
           "2023-12-10",
           "y"
          ],
          [
           "2023-12-11",
           "y"
          ],
          [
           "2023-12-12",
           "y"
          ],
          [
           "2023-12-13",
           "y"
          ],
          [
           "2023-12-14",
           "y"
          ],
          [
           "2023-12-15",
           "y"
          ],
          [
           "2023-12-16",
           "y"
          ],
          [
           "2023-12-17",
           "y"
          ],
          [
           "2023-12-18",
           "y"
          ],
          [
           "2023-12-19",
           "y"
          ],
          [
           "2023-12-20",
           "y"
          ],
          [
           "2023-12-21",
           "y"
          ],
          [
           "2023-12-22",
           "y"
          ],
          [
           "2023-12-23",
           "y"
          ],
          [
           "2023-12-24",
           "y"
          ],
          [
           "2023-12-25",
           "y"
          ],
          [
           "2023-12-26",
           "y"
          ],
          [
           "2023-12-27",
           "y"
          ],
          [
           "2023-12-28",
           "y"
          ],
          [
           "2023-12-29",
           "y"
          ],
          [
           "2023-12-30",
           "y"
          ],
          [
           "2023-12-31",
           "y"
          ]
         ],
         "hovertemplate": "%{customdata[0]} <br>Week=%{x} <br>%{customdata[1]}=%{z}",
         "name": "2023",
         "showscale": false,
         "type": "heatmap",
         "x": [
          0,
          1,
          1,
          1,
          1,
          1,
          1,
          1,
          2,
          2,
          2,
          2,
          2,
          2,
          2,
          3,
          3,
          3,
          3,
          3,
          3,
          3,
          4,
          4,
          4,
          4,
          4,
          4,
          4,
          5,
          5,
          5,
          5,
          5,
          5,
          5,
          6,
          6,
          6,
          6,
          6,
          6,
          6,
          7,
          7,
          7,
          7,
          7,
          7,
          7,
          8,
          8,
          8,
          8,
          8,
          8,
          8,
          9,
          9,
          9,
          9,
          9,
          9,
          9,
          10,
          10,
          10,
          10,
          10,
          10,
          10,
          11,
          11,
          11,
          11,
          11,
          11,
          11,
          12,
          12,
          12,
          12,
          12,
          12,
          12,
          13,
          13,
          13,
          13,
          13,
          13,
          13,
          14,
          14,
          14,
          14,
          14,
          14,
          14,
          15,
          15,
          15,
          15,
          15,
          15,
          15,
          16,
          16,
          16,
          16,
          16,
          16,
          16,
          17,
          17,
          17,
          17,
          17,
          17,
          17,
          18,
          18,
          18,
          18,
          18,
          18,
          18,
          19,
          19,
          19,
          19,
          19,
          19,
          19,
          20,
          20,
          20,
          20,
          20,
          20,
          20,
          21,
          21,
          21,
          21,
          21,
          21,
          21,
          22,
          22,
          22,
          22,
          22,
          22,
          22,
          23,
          23,
          23,
          23,
          23,
          23,
          23,
          24,
          24,
          24,
          24,
          24,
          24,
          24,
          25,
          25,
          25,
          25,
          25,
          25,
          25,
          26,
          26,
          26,
          26,
          26,
          26,
          26,
          27,
          27,
          27,
          27,
          27,
          27,
          27,
          28,
          28,
          28,
          28,
          28,
          28,
          28,
          29,
          29,
          29,
          29,
          29,
          29,
          29,
          30,
          30,
          30,
          30,
          30,
          30,
          30,
          31,
          31,
          31,
          31,
          31,
          31,
          31,
          32,
          32,
          32,
          32,
          32,
          32,
          32,
          33,
          33,
          33,
          33,
          33,
          33,
          33,
          34,
          34,
          34,
          34,
          34,
          34,
          34,
          35,
          35,
          35,
          35,
          35,
          35,
          35,
          36,
          36,
          36,
          36,
          36,
          36,
          36,
          37,
          37,
          37,
          37,
          37,
          37,
          37,
          38,
          38,
          38,
          38,
          38,
          38,
          38,
          39,
          39,
          39,
          39,
          39,
          39,
          39,
          40,
          40,
          40,
          40,
          40,
          40,
          40,
          41,
          41,
          41,
          41,
          41,
          41,
          41,
          42,
          42,
          42,
          42,
          42,
          42,
          42,
          43,
          43,
          43,
          43,
          43,
          43,
          43,
          44,
          44,
          44,
          44,
          44,
          44,
          44,
          45,
          45,
          45,
          45,
          45,
          45,
          45,
          46,
          46,
          46,
          46,
          46,
          46,
          46,
          47,
          47,
          47,
          47,
          47,
          47,
          47,
          48,
          48,
          48,
          48,
          48,
          48,
          48,
          49,
          49,
          49,
          49,
          49,
          49,
          49,
          50,
          50,
          50,
          50,
          50,
          50,
          50,
          51,
          51,
          51,
          51,
          51,
          51,
          51,
          52,
          52,
          52,
          52,
          52,
          52,
          52
         ],
         "xaxis": "x",
         "xgap": 1,
         "y": [
          6,
          0,
          1,
          2,
          3,
          4,
          5,
          6,
          0,
          1,
          2,
          3,
          4,
          5,
          6,
          0,
          1,
          2,
          3,
          4,
          5,
          6,
          0,
          1,
          2,
          3,
          4,
          5,
          6,
          0,
          1,
          2,
          3,
          4,
          5,
          6,
          0,
          1,
          2,
          3,
          4,
          5,
          6,
          0,
          1,
          2,
          3,
          4,
          5,
          6,
          0,
          1,
          2,
          3,
          4,
          5,
          6,
          0,
          1,
          2,
          3,
          4,
          5,
          6,
          0,
          1,
          2,
          3,
          4,
          5,
          6,
          0,
          1,
          2,
          3,
          4,
          5,
          6,
          0,
          1,
          2,
          3,
          4,
          5,
          6,
          0,
          1,
          2,
          3,
          4,
          5,
          6,
          0,
          1,
          2,
          3,
          4,
          5,
          6,
          0,
          1,
          2,
          3,
          4,
          5,
          6,
          0,
          1,
          2,
          3,
          4,
          5,
          6,
          0,
          1,
          2,
          3,
          4,
          5,
          6,
          0,
          1,
          2,
          3,
          4,
          5,
          6,
          0,
          1,
          2,
          3,
          4,
          5,
          6,
          0,
          1,
          2,
          3,
          4,
          5,
          6,
          0,
          1,
          2,
          3,
          4,
          5,
          6,
          0,
          1,
          2,
          3,
          4,
          5,
          6,
          0,
          1,
          2,
          3,
          4,
          5,
          6,
          0,
          1,
          2,
          3,
          4,
          5,
          6,
          0,
          1,
          2,
          3,
          4,
          5,
          6,
          0,
          1,
          2,
          3,
          4,
          5,
          6,
          0,
          1,
          2,
          3,
          4,
          5,
          6,
          0,
          1,
          2,
          3,
          4,
          5,
          6,
          0,
          1,
          2,
          3,
          4,
          5,
          6,
          0,
          1,
          2,
          3,
          4,
          5,
          6,
          0,
          1,
          2,
          3,
          4,
          5,
          6,
          0,
          1,
          2,
          3,
          4,
          5,
          6,
          0,
          1,
          2,
          3,
          4,
          5,
          6,
          0,
          1,
          2,
          3,
          4,
          5,
          6,
          0,
          1,
          2,
          3,
          4,
          5,
          6,
          0,
          1,
          2,
          3,
          4,
          5,
          6,
          0,
          1,
          2,
          3,
          4,
          5,
          6,
          0,
          1,
          2,
          3,
          4,
          5,
          6,
          0,
          1,
          2,
          3,
          4,
          5,
          6,
          0,
          1,
          2,
          3,
          4,
          5,
          6,
          0,
          1,
          2,
          3,
          4,
          5,
          6,
          0,
          1,
          2,
          3,
          4,
          5,
          6,
          0,
          1,
          2,
          3,
          4,
          5,
          6,
          0,
          1,
          2,
          3,
          4,
          5,
          6,
          0,
          1,
          2,
          3,
          4,
          5,
          6,
          0,
          1,
          2,
          3,
          4,
          5,
          6,
          0,
          1,
          2,
          3,
          4,
          5,
          6,
          0,
          1,
          2,
          3,
          4,
          5,
          6,
          0,
          1,
          2,
          3,
          4,
          5,
          6,
          0,
          1,
          2,
          3,
          4,
          5,
          6,
          0,
          1,
          2,
          3,
          4,
          5,
          6,
          0,
          1,
          2,
          3,
          4,
          5,
          6
         ],
         "yaxis": "y",
         "ygap": 1,
         "z": [
          null,
          null,
          null,
          null,
          null,
          null,
          null,
          1,
          1,
          null,
          null,
          null,
          null,
          null,
          null,
          null,
          null,
          null,
          null,
          null,
          1,
          null,
          null,
          null,
          null,
          null,
          null,
          null,
          null,
          null,
          null,
          null,
          null,
          null,
          null,
          null,
          null,
          null,
          null,
          null,
          null,
          2,
          1,
          3,
          null,
          2,
          3,
          null,
          2,
          3,
          null,
          1,
          3,
          2,
          null,
          null,
          2,
          4,
          5,
          6,
          1,
          1,
          1,
          3,
          4,
          3,
          1,
          1,
          2,
          2,
          3,
          1,
          4,
          2,
          5,
          3,
          2,
          4,
          2,
          3,
          2,
          3,
          5,
          3,
          1,
          5,
          2,
          5,
          4,
          3,
          7,
          3,
          2,
          1,
          1,
          3,
          6,
          1,
          3,
          1,
          5,
          3,
          1,
          2,
          3,
          1,
          1,
          1,
          3,
          7,
          2,
          1,
          null,
          3,
          1,
          1,
          3,
          null,
          2,
          null,
          null,
          1,
          3,
          3,
          1,
          4,
          2,
          2,
          4,
          3,
          2,
          2,
          3,
          3,
          1,
          4,
          6,
          null,
          1,
          1,
          1,
          4,
          4,
          2,
          1,
          2,
          1,
          null,
          null,
          1,
          null,
          null,
          2,
          3,
          null,
          2,
          4,
          2,
          1,
          1,
          4,
          null,
          2,
          null,
          2,
          4,
          1,
          1,
          5,
          3,
          null,
          6,
          1,
          1,
          5,
          1,
          2,
          6,
          2,
          3,
          null,
          2,
          4,
          1,
          null,
          3,
          3,
          1,
          7,
          7,
          5,
          4,
          1,
          1,
          5,
          3,
          3,
          3,
          6,
          3,
          2,
          6,
          5,
          6,
          4,
          3,
          5,
          5,
          1,
          4,
          5,
          4,
          4,
          4,
          2,
          1,
          1,
          3,
          1,
          7,
          3,
          3,
          4,
          1,
          3,
          5,
          2,
          null,
          2,
          null,
          1,
          2,
          1,
          3,
          3,
          1,
          2,
          1,
          2,
          1,
          2,
          1,
          2,
          3,
          1,
          1,
          1,
          2,
          3,
          2,
          2,
          2,
          4,
          1,
          1,
          1,
          2,
          1,
          1,
          1,
          null,
          4,
          5,
          2,
          null,
          1,
          2,
          2,
          2,
          1,
          2,
          2,
          4,
          4,
          null,
          2,
          null,
          8,
          5,
          1,
          null,
          1,
          2,
          3,
          null,
          3,
          4,
          3,
          3,
          null,
          3,
          2,
          1,
          1,
          null,
          1,
          null,
          2,
          2,
          4,
          null,
          4,
          6,
          2,
          3,
          2,
          5,
          1,
          3,
          2,
          3,
          4,
          5,
          null,
          2,
          3,
          4,
          8,
          6,
          5,
          6,
          2,
          2,
          4,
          5,
          6,
          7,
          1,
          3,
          5,
          5,
          5,
          4,
          3,
          2,
          3,
          2,
          null,
          3,
          7,
          4,
          2,
          4,
          4,
          4,
          4,
          4,
          4,
          6,
          3,
          3,
          2,
          null,
          2,
          4,
          2,
          7,
          5,
          7,
          4,
          null,
          3,
          null,
          5,
          5
         ],
         "zmax": 8,
         "zmin": 1
        },
        {
         "hoverinfo": "skip",
         "line": {
          "color": "#9e9e9e",
          "width": 1
         },
         "mode": "lines",
         "type": "scatter",
         "x": [
          -0.5,
          -0.5
         ],
         "xaxis": "x",
         "y": [
          5.5,
          6.5
         ],
         "yaxis": "y"
        },
        {
         "hoverinfo": "skip",
         "line": {
          "color": "#9e9e9e",
          "width": 1
         },
         "mode": "lines",
         "type": "scatter",
         "x": [
          -0.5,
          0.5
         ],
         "xaxis": "x",
         "y": [
          5.5,
          5.5
         ],
         "yaxis": "y"
        },
        {
         "hoverinfo": "skip",
         "line": {
          "color": "#9e9e9e",
          "width": 1
         },
         "mode": "lines",
         "type": "scatter",
         "x": [
          0.5,
          0.5
         ],
         "xaxis": "x",
         "y": [
          5.5,
          -0.5
         ],
         "yaxis": "y"
        },
        {
         "hoverinfo": "skip",
         "line": {
          "color": "#9e9e9e",
          "width": 1
         },
         "mode": "lines",
         "type": "scatter",
         "x": [
          4.5,
          4.5
         ],
         "xaxis": "x",
         "y": [
          1.5,
          6.5
         ],
         "yaxis": "y"
        },
        {
         "hoverinfo": "skip",
         "line": {
          "color": "#9e9e9e",
          "width": 1
         },
         "mode": "lines",
         "type": "scatter",
         "x": [
          4.5,
          5.5
         ],
         "xaxis": "x",
         "y": [
          1.5,
          1.5
         ],
         "yaxis": "y"
        },
        {
         "hoverinfo": "skip",
         "line": {
          "color": "#9e9e9e",
          "width": 1
         },
         "mode": "lines",
         "type": "scatter",
         "x": [
          5.5,
          5.5
         ],
         "xaxis": "x",
         "y": [
          1.5,
          -0.5
         ],
         "yaxis": "y"
        },
        {
         "hoverinfo": "skip",
         "line": {
          "color": "#9e9e9e",
          "width": 1
         },
         "mode": "lines",
         "type": "scatter",
         "x": [
          8.5,
          8.5
         ],
         "xaxis": "x",
         "y": [
          1.5,
          6.5
         ],
         "yaxis": "y"
        },
        {
         "hoverinfo": "skip",
         "line": {
          "color": "#9e9e9e",
          "width": 1
         },
         "mode": "lines",
         "type": "scatter",
         "x": [
          8.5,
          9.5
         ],
         "xaxis": "x",
         "y": [
          1.5,
          1.5
         ],
         "yaxis": "y"
        },
        {
         "hoverinfo": "skip",
         "line": {
          "color": "#9e9e9e",
          "width": 1
         },
         "mode": "lines",
         "type": "scatter",
         "x": [
          9.5,
          9.5
         ],
         "xaxis": "x",
         "y": [
          1.5,
          -0.5
         ],
         "yaxis": "y"
        },
        {
         "hoverinfo": "skip",
         "line": {
          "color": "#9e9e9e",
          "width": 1
         },
         "mode": "lines",
         "type": "scatter",
         "x": [
          12.5,
          12.5
         ],
         "xaxis": "x",
         "y": [
          4.5,
          6.5
         ],
         "yaxis": "y"
        },
        {
         "hoverinfo": "skip",
         "line": {
          "color": "#9e9e9e",
          "width": 1
         },
         "mode": "lines",
         "type": "scatter",
         "x": [
          12.5,
          13.5
         ],
         "xaxis": "x",
         "y": [
          4.5,
          4.5
         ],
         "yaxis": "y"
        },
        {
         "hoverinfo": "skip",
         "line": {
          "color": "#9e9e9e",
          "width": 1
         },
         "mode": "lines",
         "type": "scatter",
         "x": [
          13.5,
          13.5
         ],
         "xaxis": "x",
         "y": [
          4.5,
          -0.5
         ],
         "yaxis": "y"
        },
        {
         "hoverinfo": "skip",
         "line": {
          "color": "#9e9e9e",
          "width": 1
         },
         "mode": "lines",
         "type": "scatter",
         "x": [
          17.5,
          17.5
         ],
         "xaxis": "x",
         "y": [
          -0.5,
          6.5
         ],
         "yaxis": "y"
        },
        {
         "hoverinfo": "skip",
         "line": {
          "color": "#9e9e9e",
          "width": 1
         },
         "mode": "lines",
         "type": "scatter",
         "x": [
          21.5,
          21.5
         ],
         "xaxis": "x",
         "y": [
          2.5,
          6.5
         ],
         "yaxis": "y"
        },
        {
         "hoverinfo": "skip",
         "line": {
          "color": "#9e9e9e",
          "width": 1
         },
         "mode": "lines",
         "type": "scatter",
         "x": [
          21.5,
          22.5
         ],
         "xaxis": "x",
         "y": [
          2.5,
          2.5
         ],
         "yaxis": "y"
        },
        {
         "hoverinfo": "skip",
         "line": {
          "color": "#9e9e9e",
          "width": 1
         },
         "mode": "lines",
         "type": "scatter",
         "x": [
          22.5,
          22.5
         ],
         "xaxis": "x",
         "y": [
          2.5,
          -0.5
         ],
         "yaxis": "y"
        },
        {
         "hoverinfo": "skip",
         "line": {
          "color": "#9e9e9e",
          "width": 1
         },
         "mode": "lines",
         "type": "scatter",
         "x": [
          25.5,
          25.5
         ],
         "xaxis": "x",
         "y": [
          4.5,
          6.5
         ],
         "yaxis": "y"
        },
        {
         "hoverinfo": "skip",
         "line": {
          "color": "#9e9e9e",
          "width": 1
         },
         "mode": "lines",
         "type": "scatter",
         "x": [
          25.5,
          26.5
         ],
         "xaxis": "x",
         "y": [
          4.5,
          4.5
         ],
         "yaxis": "y"
        },
        {
         "hoverinfo": "skip",
         "line": {
          "color": "#9e9e9e",
          "width": 1
         },
         "mode": "lines",
         "type": "scatter",
         "x": [
          26.5,
          26.5
         ],
         "xaxis": "x",
         "y": [
          4.5,
          -0.5
         ],
         "yaxis": "y"
        },
        {
         "hoverinfo": "skip",
         "line": {
          "color": "#9e9e9e",
          "width": 1
         },
         "mode": "lines",
         "type": "scatter",
         "x": [
          30.5,
          30.5
         ],
         "xaxis": "x",
         "y": [
          0.5,
          6.5
         ],
         "yaxis": "y"
        },
        {
         "hoverinfo": "skip",
         "line": {
          "color": "#9e9e9e",
          "width": 1
         },
         "mode": "lines",
         "type": "scatter",
         "x": [
          30.5,
          31.5
         ],
         "xaxis": "x",
         "y": [
          0.5,
          0.5
         ],
         "yaxis": "y"
        },
        {
         "hoverinfo": "skip",
         "line": {
          "color": "#9e9e9e",
          "width": 1
         },
         "mode": "lines",
         "type": "scatter",
         "x": [
          31.5,
          31.5
         ],
         "xaxis": "x",
         "y": [
          0.5,
          -0.5
         ],
         "yaxis": "y"
        },
        {
         "hoverinfo": "skip",
         "line": {
          "color": "#9e9e9e",
          "width": 1
         },
         "mode": "lines",
         "type": "scatter",
         "x": [
          34.5,
          34.5
         ],
         "xaxis": "x",
         "y": [
          3.5,
          6.5
         ],
         "yaxis": "y"
        },
        {
         "hoverinfo": "skip",
         "line": {
          "color": "#9e9e9e",
          "width": 1
         },
         "mode": "lines",
         "type": "scatter",
         "x": [
          34.5,
          35.5
         ],
         "xaxis": "x",
         "y": [
          3.5,
          3.5
         ],
         "yaxis": "y"
        },
        {
         "hoverinfo": "skip",
         "line": {
          "color": "#9e9e9e",
          "width": 1
         },
         "mode": "lines",
         "type": "scatter",
         "x": [
          35.5,
          35.5
         ],
         "xaxis": "x",
         "y": [
          3.5,
          -0.5
         ],
         "yaxis": "y"
        },
        {
         "hoverinfo": "skip",
         "line": {
          "color": "#9e9e9e",
          "width": 1
         },
         "mode": "lines",
         "type": "scatter",
         "x": [
          38.5,
          38.5
         ],
         "xaxis": "x",
         "y": [
          5.5,
          6.5
         ],
         "yaxis": "y"
        },
        {
         "hoverinfo": "skip",
         "line": {
          "color": "#9e9e9e",
          "width": 1
         },
         "mode": "lines",
         "type": "scatter",
         "x": [
          38.5,
          39.5
         ],
         "xaxis": "x",
         "y": [
          5.5,
          5.5
         ],
         "yaxis": "y"
        },
        {
         "hoverinfo": "skip",
         "line": {
          "color": "#9e9e9e",
          "width": 1
         },
         "mode": "lines",
         "type": "scatter",
         "x": [
          39.5,
          39.5
         ],
         "xaxis": "x",
         "y": [
          5.5,
          -0.5
         ],
         "yaxis": "y"
        },
        {
         "hoverinfo": "skip",
         "line": {
          "color": "#9e9e9e",
          "width": 1
         },
         "mode": "lines",
         "type": "scatter",
         "x": [
          43.5,
          43.5
         ],
         "xaxis": "x",
         "y": [
          1.5,
          6.5
         ],
         "yaxis": "y"
        },
        {
         "hoverinfo": "skip",
         "line": {
          "color": "#9e9e9e",
          "width": 1
         },
         "mode": "lines",
         "type": "scatter",
         "x": [
          43.5,
          44.5
         ],
         "xaxis": "x",
         "y": [
          1.5,
          1.5
         ],
         "yaxis": "y"
        },
        {
         "hoverinfo": "skip",
         "line": {
          "color": "#9e9e9e",
          "width": 1
         },
         "mode": "lines",
         "type": "scatter",
         "x": [
          44.5,
          44.5
         ],
         "xaxis": "x",
         "y": [
          1.5,
          -0.5
         ],
         "yaxis": "y"
        },
        {
         "hoverinfo": "skip",
         "line": {
          "color": "#9e9e9e",
          "width": 1
         },
         "mode": "lines",
         "type": "scatter",
         "x": [
          47.5,
          47.5
         ],
         "xaxis": "x",
         "y": [
          3.5,
          6.5
         ],
         "yaxis": "y"
        },
        {
         "hoverinfo": "skip",
         "line": {
          "color": "#9e9e9e",
          "width": 1
         },
         "mode": "lines",
         "type": "scatter",
         "x": [
          47.5,
          48.5
         ],
         "xaxis": "x",
         "y": [
          3.5,
          3.5
         ],
         "yaxis": "y"
        },
        {
         "hoverinfo": "skip",
         "line": {
          "color": "#9e9e9e",
          "width": 1
         },
         "mode": "lines",
         "type": "scatter",
         "x": [
          48.5,
          48.5
         ],
         "xaxis": "x",
         "y": [
          3.5,
          -0.5
         ],
         "yaxis": "y"
        }
       ],
       "layout": {
        "font": {
         "color": "#9e9e9e",
         "size": 10
        },
        "height": 250,
        "margin": {
         "b": 20,
         "t": 20
        },
        "plot_bgcolor": "#fff",
        "showlegend": false,
        "template": {
         "data": {
          "bar": [
           {
            "error_x": {
             "color": "#2a3f5f"
            },
            "error_y": {
             "color": "#2a3f5f"
            },
            "marker": {
             "line": {
              "color": "#E5ECF6",
              "width": 0.5
             },
             "pattern": {
              "fillmode": "overlay",
              "size": 10,
              "solidity": 0.2
             }
            },
            "type": "bar"
           }
          ],
          "barpolar": [
           {
            "marker": {
             "line": {
              "color": "#E5ECF6",
              "width": 0.5
             },
             "pattern": {
              "fillmode": "overlay",
              "size": 10,
              "solidity": 0.2
             }
            },
            "type": "barpolar"
           }
          ],
          "carpet": [
           {
            "aaxis": {
             "endlinecolor": "#2a3f5f",
             "gridcolor": "white",
             "linecolor": "white",
             "minorgridcolor": "white",
             "startlinecolor": "#2a3f5f"
            },
            "baxis": {
             "endlinecolor": "#2a3f5f",
             "gridcolor": "white",
             "linecolor": "white",
             "minorgridcolor": "white",
             "startlinecolor": "#2a3f5f"
            },
            "type": "carpet"
           }
          ],
          "choropleth": [
           {
            "colorbar": {
             "outlinewidth": 0,
             "ticks": ""
            },
            "type": "choropleth"
           }
          ],
          "contour": [
           {
            "colorbar": {
             "outlinewidth": 0,
             "ticks": ""
            },
            "colorscale": [
             [
              0,
              "#0d0887"
             ],
             [
              0.1111111111111111,
              "#46039f"
             ],
             [
              0.2222222222222222,
              "#7201a8"
             ],
             [
              0.3333333333333333,
              "#9c179e"
             ],
             [
              0.4444444444444444,
              "#bd3786"
             ],
             [
              0.5555555555555556,
              "#d8576b"
             ],
             [
              0.6666666666666666,
              "#ed7953"
             ],
             [
              0.7777777777777778,
              "#fb9f3a"
             ],
             [
              0.8888888888888888,
              "#fdca26"
             ],
             [
              1,
              "#f0f921"
             ]
            ],
            "type": "contour"
           }
          ],
          "contourcarpet": [
           {
            "colorbar": {
             "outlinewidth": 0,
             "ticks": ""
            },
            "type": "contourcarpet"
           }
          ],
          "heatmap": [
           {
            "colorbar": {
             "outlinewidth": 0,
             "ticks": ""
            },
            "colorscale": [
             [
              0,
              "#0d0887"
             ],
             [
              0.1111111111111111,
              "#46039f"
             ],
             [
              0.2222222222222222,
              "#7201a8"
             ],
             [
              0.3333333333333333,
              "#9c179e"
             ],
             [
              0.4444444444444444,
              "#bd3786"
             ],
             [
              0.5555555555555556,
              "#d8576b"
             ],
             [
              0.6666666666666666,
              "#ed7953"
             ],
             [
              0.7777777777777778,
              "#fb9f3a"
             ],
             [
              0.8888888888888888,
              "#fdca26"
             ],
             [
              1,
              "#f0f921"
             ]
            ],
            "type": "heatmap"
           }
          ],
          "heatmapgl": [
           {
            "colorbar": {
             "outlinewidth": 0,
             "ticks": ""
            },
            "colorscale": [
             [
              0,
              "#0d0887"
             ],
             [
              0.1111111111111111,
              "#46039f"
             ],
             [
              0.2222222222222222,
              "#7201a8"
             ],
             [
              0.3333333333333333,
              "#9c179e"
             ],
             [
              0.4444444444444444,
              "#bd3786"
             ],
             [
              0.5555555555555556,
              "#d8576b"
             ],
             [
              0.6666666666666666,
              "#ed7953"
             ],
             [
              0.7777777777777778,
              "#fb9f3a"
             ],
             [
              0.8888888888888888,
              "#fdca26"
             ],
             [
              1,
              "#f0f921"
             ]
            ],
            "type": "heatmapgl"
           }
          ],
          "histogram": [
           {
            "marker": {
             "pattern": {
              "fillmode": "overlay",
              "size": 10,
              "solidity": 0.2
             }
            },
            "type": "histogram"
           }
          ],
          "histogram2d": [
           {
            "colorbar": {
             "outlinewidth": 0,
             "ticks": ""
            },
            "colorscale": [
             [
              0,
              "#0d0887"
             ],
             [
              0.1111111111111111,
              "#46039f"
             ],
             [
              0.2222222222222222,
              "#7201a8"
             ],
             [
              0.3333333333333333,
              "#9c179e"
             ],
             [
              0.4444444444444444,
              "#bd3786"
             ],
             [
              0.5555555555555556,
              "#d8576b"
             ],
             [
              0.6666666666666666,
              "#ed7953"
             ],
             [
              0.7777777777777778,
              "#fb9f3a"
             ],
             [
              0.8888888888888888,
              "#fdca26"
             ],
             [
              1,
              "#f0f921"
             ]
            ],
            "type": "histogram2d"
           }
          ],
          "histogram2dcontour": [
           {
            "colorbar": {
             "outlinewidth": 0,
             "ticks": ""
            },
            "colorscale": [
             [
              0,
              "#0d0887"
             ],
             [
              0.1111111111111111,
              "#46039f"
             ],
             [
              0.2222222222222222,
              "#7201a8"
             ],
             [
              0.3333333333333333,
              "#9c179e"
             ],
             [
              0.4444444444444444,
              "#bd3786"
             ],
             [
              0.5555555555555556,
              "#d8576b"
             ],
             [
              0.6666666666666666,
              "#ed7953"
             ],
             [
              0.7777777777777778,
              "#fb9f3a"
             ],
             [
              0.8888888888888888,
              "#fdca26"
             ],
             [
              1,
              "#f0f921"
             ]
            ],
            "type": "histogram2dcontour"
           }
          ],
          "mesh3d": [
           {
            "colorbar": {
             "outlinewidth": 0,
             "ticks": ""
            },
            "type": "mesh3d"
           }
          ],
          "parcoords": [
           {
            "line": {
             "colorbar": {
              "outlinewidth": 0,
              "ticks": ""
             }
            },
            "type": "parcoords"
           }
          ],
          "pie": [
           {
            "automargin": true,
            "type": "pie"
           }
          ],
          "scatter": [
           {
            "fillpattern": {
             "fillmode": "overlay",
             "size": 10,
             "solidity": 0.2
            },
            "type": "scatter"
           }
          ],
          "scatter3d": [
           {
            "line": {
             "colorbar": {
              "outlinewidth": 0,
              "ticks": ""
             }
            },
            "marker": {
             "colorbar": {
              "outlinewidth": 0,
              "ticks": ""
             }
            },
            "type": "scatter3d"
           }
          ],
          "scattercarpet": [
           {
            "marker": {
             "colorbar": {
              "outlinewidth": 0,
              "ticks": ""
             }
            },
            "type": "scattercarpet"
           }
          ],
          "scattergeo": [
           {
            "marker": {
             "colorbar": {
              "outlinewidth": 0,
              "ticks": ""
             }
            },
            "type": "scattergeo"
           }
          ],
          "scattergl": [
           {
            "marker": {
             "colorbar": {
              "outlinewidth": 0,
              "ticks": ""
             }
            },
            "type": "scattergl"
           }
          ],
          "scattermapbox": [
           {
            "marker": {
             "colorbar": {
              "outlinewidth": 0,
              "ticks": ""
             }
            },
            "type": "scattermapbox"
           }
          ],
          "scatterpolar": [
           {
            "marker": {
             "colorbar": {
              "outlinewidth": 0,
              "ticks": ""
             }
            },
            "type": "scatterpolar"
           }
          ],
          "scatterpolargl": [
           {
            "marker": {
             "colorbar": {
              "outlinewidth": 0,
              "ticks": ""
             }
            },
            "type": "scatterpolargl"
           }
          ],
          "scatterternary": [
           {
            "marker": {
             "colorbar": {
              "outlinewidth": 0,
              "ticks": ""
             }
            },
            "type": "scatterternary"
           }
          ],
          "surface": [
           {
            "colorbar": {
             "outlinewidth": 0,
             "ticks": ""
            },
            "colorscale": [
             [
              0,
              "#0d0887"
             ],
             [
              0.1111111111111111,
              "#46039f"
             ],
             [
              0.2222222222222222,
              "#7201a8"
             ],
             [
              0.3333333333333333,
              "#9c179e"
             ],
             [
              0.4444444444444444,
              "#bd3786"
             ],
             [
              0.5555555555555556,
              "#d8576b"
             ],
             [
              0.6666666666666666,
              "#ed7953"
             ],
             [
              0.7777777777777778,
              "#fb9f3a"
             ],
             [
              0.8888888888888888,
              "#fdca26"
             ],
             [
              1,
              "#f0f921"
             ]
            ],
            "type": "surface"
           }
          ],
          "table": [
           {
            "cells": {
             "fill": {
              "color": "#EBF0F8"
             },
             "line": {
              "color": "white"
             }
            },
            "header": {
             "fill": {
              "color": "#C8D4E3"
             },
             "line": {
              "color": "white"
             }
            },
            "type": "table"
           }
          ]
         },
         "layout": {
          "annotationdefaults": {
           "arrowcolor": "#2a3f5f",
           "arrowhead": 0,
           "arrowwidth": 1
          },
          "autotypenumbers": "strict",
          "coloraxis": {
           "colorbar": {
            "outlinewidth": 0,
            "ticks": ""
           }
          },
          "colorscale": {
           "diverging": [
            [
             0,
             "#8e0152"
            ],
            [
             0.1,
             "#c51b7d"
            ],
            [
             0.2,
             "#de77ae"
            ],
            [
             0.3,
             "#f1b6da"
            ],
            [
             0.4,
             "#fde0ef"
            ],
            [
             0.5,
             "#f7f7f7"
            ],
            [
             0.6,
             "#e6f5d0"
            ],
            [
             0.7,
             "#b8e186"
            ],
            [
             0.8,
             "#7fbc41"
            ],
            [
             0.9,
             "#4d9221"
            ],
            [
             1,
             "#276419"
            ]
           ],
           "sequential": [
            [
             0,
             "#0d0887"
            ],
            [
             0.1111111111111111,
             "#46039f"
            ],
            [
             0.2222222222222222,
             "#7201a8"
            ],
            [
             0.3333333333333333,
             "#9c179e"
            ],
            [
             0.4444444444444444,
             "#bd3786"
            ],
            [
             0.5555555555555556,
             "#d8576b"
            ],
            [
             0.6666666666666666,
             "#ed7953"
            ],
            [
             0.7777777777777778,
             "#fb9f3a"
            ],
            [
             0.8888888888888888,
             "#fdca26"
            ],
            [
             1,
             "#f0f921"
            ]
           ],
           "sequentialminus": [
            [
             0,
             "#0d0887"
            ],
            [
             0.1111111111111111,
             "#46039f"
            ],
            [
             0.2222222222222222,
             "#7201a8"
            ],
            [
             0.3333333333333333,
             "#9c179e"
            ],
            [
             0.4444444444444444,
             "#bd3786"
            ],
            [
             0.5555555555555556,
             "#d8576b"
            ],
            [
             0.6666666666666666,
             "#ed7953"
            ],
            [
             0.7777777777777778,
             "#fb9f3a"
            ],
            [
             0.8888888888888888,
             "#fdca26"
            ],
            [
             1,
             "#f0f921"
            ]
           ]
          },
          "colorway": [
           "#636efa",
           "#EF553B",
           "#00cc96",
           "#ab63fa",
           "#FFA15A",
           "#19d3f3",
           "#FF6692",
           "#B6E880",
           "#FF97FF",
           "#FECB52"
          ],
          "font": {
           "color": "#2a3f5f"
          },
          "geo": {
           "bgcolor": "white",
           "lakecolor": "white",
           "landcolor": "#E5ECF6",
           "showlakes": true,
           "showland": true,
           "subunitcolor": "white"
          },
          "hoverlabel": {
           "align": "left"
          },
          "hovermode": "closest",
          "mapbox": {
           "style": "light"
          },
          "paper_bgcolor": "white",
          "plot_bgcolor": "#E5ECF6",
          "polar": {
           "angularaxis": {
            "gridcolor": "white",
            "linecolor": "white",
            "ticks": ""
           },
           "bgcolor": "#E5ECF6",
           "radialaxis": {
            "gridcolor": "white",
            "linecolor": "white",
            "ticks": ""
           }
          },
          "scene": {
           "xaxis": {
            "backgroundcolor": "#E5ECF6",
            "gridcolor": "white",
            "gridwidth": 2,
            "linecolor": "white",
            "showbackground": true,
            "ticks": "",
            "zerolinecolor": "white"
           },
           "yaxis": {
            "backgroundcolor": "#E5ECF6",
            "gridcolor": "white",
            "gridwidth": 2,
            "linecolor": "white",
            "showbackground": true,
            "ticks": "",
            "zerolinecolor": "white"
           },
           "zaxis": {
            "backgroundcolor": "#E5ECF6",
            "gridcolor": "white",
            "gridwidth": 2,
            "linecolor": "white",
            "showbackground": true,
            "ticks": "",
            "zerolinecolor": "white"
           }
          },
          "shapedefaults": {
           "line": {
            "color": "#2a3f5f"
           }
          },
          "ternary": {
           "aaxis": {
            "gridcolor": "white",
            "linecolor": "white",
            "ticks": ""
           },
           "baxis": {
            "gridcolor": "white",
            "linecolor": "white",
            "ticks": ""
           },
           "bgcolor": "#E5ECF6",
           "caxis": {
            "gridcolor": "white",
            "linecolor": "white",
            "ticks": ""
           }
          },
          "title": {
           "x": 0.05
          },
          "xaxis": {
           "automargin": true,
           "gridcolor": "white",
           "linecolor": "white",
           "ticks": "",
           "title": {
            "standoff": 15
           },
           "zerolinecolor": "white",
           "zerolinewidth": 2
          },
          "yaxis": {
           "automargin": true,
           "gridcolor": "white",
           "linecolor": "white",
           "ticks": "",
           "title": {
            "standoff": 15
           },
           "zerolinecolor": "white",
           "zerolinewidth": 2
          }
         }
        },
        "title": {
         "text": "Number of Liked Tweets per Day 2023"
        },
        "xaxis": {
         "anchor": "y",
         "domain": [
          0,
          1
         ],
         "showgrid": false,
         "showline": false,
         "tickmode": "array",
         "ticktext": [
          "January",
          "February",
          "March",
          "April",
          "May",
          "June",
          "July",
          "August",
          "September",
          "October",
          "November",
          "December"
         ],
         "tickvals": [
          1.5,
          5.909090909090909,
          10.318181818181818,
          14.727272727272727,
          19.136363636363637,
          23.545454545454547,
          27.954545454545453,
          32.36363636363636,
          36.77272727272727,
          41.18181818181818,
          45.59090909090909,
          50
         ],
         "zeroline": false
        },
        "yaxis": {
         "anchor": "x",
         "autorange": "reversed",
         "domain": [
          0,
          1
         ],
         "showgrid": false,
         "showline": false,
         "tickmode": "array",
         "ticktext": [
          "Mon",
          "Tue",
          "Wed",
          "Thu",
          "Fri",
          "Sat",
          "Sun"
         ],
         "tickvals": [
          0,
          1,
          2,
          3,
          4,
          5,
          6
         ],
         "zeroline": false
        }
       }
      }
     },
     "metadata": {},
     "output_type": "display_data"
    }
   ],
   "source": [
    "from plotly_calplot import calplot\n",
    "\n",
    "def convert_to_day_df(df):\n",
    "    # Convert the 'date' column to datetime if it's not already\n",
    "    df['date'] = pd.to_datetime(df['date'])\n",
    "    day_df = df.groupby(df['date'].dt.date).size().reset_index(name='num_tweets')\n",
    "    \n",
    "    return day_df\n",
    "\n",
    "day_df = convert_to_day_df(df)\n",
    "day_df.head(2)\n",
    "\n",
    "fig = calplot(day_df[(day_df['date'].astype(str)>'2023-01-01') & (day_df['date'].astype(str) < '2024-01-01')], x=\"date\", y=\"num_tweets\", \n",
    "              start_month = 1,\n",
    "    end_month = 12,\n",
    "    )\n",
    "\n",
    "# set height of the figure\n",
    "fig.update_layout(height=250)\n",
    "# add title \n",
    "fig.update_layout(title='Number of Liked Tweets per Day 2023')\n",
    "fig.show()"
   ]
  },
  {
   "cell_type": "code",
   "execution_count": null,
   "metadata": {},
   "outputs": [],
   "source": []
  },
  {
   "cell_type": "code",
   "execution_count": null,
   "metadata": {},
   "outputs": [],
   "source": []
  },
  {
   "cell_type": "code",
   "execution_count": null,
   "metadata": {},
   "outputs": [],
   "source": []
  },
  {
   "cell_type": "markdown",
   "metadata": {},
   "source": [
    "## Image captions \n",
    "Proof of concept: get high level summary, detailed description and tags for first image from liked tweets. \n",
    "\n",
    "\n",
    "With GPT-4-V. \n",
    "\n",
    "Gemini 1.0 also works pretty great for this usecase.\n",
    "\n",
    "Mainly, convert image to structured json data. "
   ]
  },
  {
   "cell_type": "code",
   "execution_count": 10,
   "metadata": {},
   "outputs": [],
   "source": [
    "from openai import OpenAI\n",
    "from config import OPENAI_API_KEY\n",
    "import os \n",
    "import json\n",
    "from IPython.display import Image, display\n",
    "\n",
    "if \"OPENAI_API_KEY\" not in os.environ:\n",
    "    os.environ[\"OPENAI_API_KEY\"] = OPENAI_API_KEY\n",
    "\n",
    "client = OpenAI()\n",
    "\n",
    "def get_valid_json_with_gpt35(input):\n",
    "    response = client.chat.completions.create(\n",
    "        model=\"gpt-3.5-turbo-0125\", # latest version of GPT-3.5, better JSON mode support.\n",
    "        messages=[\n",
    "            {\n",
    "            \"role\": \"system\",\n",
    "            \"content\": \"You will be given a JSON string (that may not be completely valid), your task is to create a valid JSON results based on the input. Try keep the structure of the input JSON as much as possible.\"\n",
    "            }, \n",
    "            {\n",
    "            \"role\": \"user\",\n",
    "            \"content\": input\n",
    "            }\n",
    "        ],\n",
    "        temperature=0.1,\n",
    "        response_format = { \"type\": \"json_object\" },\n",
    "        max_tokens=2000,\n",
    "        )\n",
    "    return response.choices[0].message.content\n",
    "\n",
    "def get_tweet_image_captioning(image_url, author_name, text):\n",
    "    image_prompt = f\"\"\"\n",
    "    This is a tweet from {author_name}, \n",
    "    with the following text:\n",
    "    {text}.\n",
    "\n",
    "    Below is an image from the tweet.\n",
    "    Your task is to caption the image and provide a description. reference the text or author if necessary. \n",
    "\n",
    "    Output rules you MUST follow:\n",
    "    - \"Summary\": A brief high level, big picture description of the image. What is this and what is this for?\n",
    "    - \"Description\": A detailed description of the image. If there are text in the image, please include all of it in the description. (in its original language)\n",
    "    - \"Tags\": a brief list of high level tags that describe the image. (e.g. \"cat\", \"anime girl\", \"food\")\n",
    "\n",
    "    Return results in a JSON format (with \"Answer\" as key, contains list of  dictionary with exactly these key names):    \n",
    "\"\"\"\n",
    "\n",
    "    vision_response = client.chat.completions.create(\n",
    "        model=\"gpt-4-vision-preview\",\n",
    "        messages=[\n",
    "            {\n",
    "            \"role\": \"user\",\n",
    "            \"content\": [\n",
    "                {\"type\": \"text\", \"text\": image_prompt},\n",
    "                {\n",
    "                \"type\": \"image_url\",\n",
    "                \"image_url\": {\n",
    "                    \"url\": image_url,\n",
    "                },\n",
    "                },\n",
    "            ],\n",
    "            }\n",
    "        ],\n",
    "        max_tokens=1000,\n",
    "        )\n",
    "    \n",
    "    # Post process the response with GPT 3.5 json mode\n",
    "    json_captions = get_valid_json_with_gpt35(vision_response.choices[0].message.content)\n",
    "    return json_captions\n"
   ]
  },
  {
   "cell_type": "code",
   "execution_count": 35,
   "metadata": {},
   "outputs": [],
   "source": [
    "sample_image_df = df[df.media_type=='Image'].head(30)\n",
    "sample_image_urls = sample_image_df.images_urls.tolist()\n",
    "sample_authors = sample_image_df.author_name.tolist()\n",
    "sample_texts = sample_image_df.text.tolist()"
   ]
  },
  {
   "cell_type": "code",
   "execution_count": null,
   "metadata": {},
   "outputs": [],
   "source": []
  },
  {
   "cell_type": "code",
   "execution_count": 42,
   "metadata": {},
   "outputs": [
    {
     "data": {
      "text/html": [
       "<img src=\"https://pbs.twimg.com/media/GGQj7ObbQAAaKgl?format=jpg&name=900x900\"/>"
      ],
      "text/plain": [
       "<IPython.core.display.Image object>"
      ]
     },
     "metadata": {},
     "output_type": "display_data"
    }
   ],
   "source": [
    "cur_idx = 26\n",
    "image_url = sample_image_urls[cur_idx][0]\n",
    "author_name = sample_authors[cur_idx]\n",
    "text = sample_texts[cur_idx]\n",
    "\n",
    "display(Image(url=image_url))"
   ]
  },
  {
   "cell_type": "code",
   "execution_count": 43,
   "metadata": {},
   "outputs": [
    {
     "name": "stdout",
     "output_type": "stream",
     "text": [
      "Image url: https://pbs.twimg.com/media/GGQj7ObbQAAaKgl?format=jpg&name=900x900\n",
      "Author name: Kars\n",
      "Text: Cover for Fate/Strange Fake volume 9 which will release on March 8.\n",
      "\n",
      "https://dengekibunko.jp/product/fate/322308000304.html… #strangefake\n"
     ]
    }
   ],
   "source": [
    "\n",
    "print(f\"Image url: {image_url}\\n\"\n",
    "      f\"Author name: {author_name}\\n\"\n",
    "      f\"Text: {text}\"   )\n",
    "\n",
    "result = get_tweet_image_captioning(image_url, author_name, text)"
   ]
  },
  {
   "cell_type": "code",
   "execution_count": 44,
   "metadata": {},
   "outputs": [
    {
     "name": "stdout",
     "output_type": "stream",
     "text": [
      "{\n",
      "    \"Answer\": [\n",
      "        {\n",
      "            \"Summary\": \"The image is an illustrated cover art for 'Fate/Strange Fake' volume 9 which is set to release on March 8 as mentioned in the tweet by Kars.\",\n",
      "            \"Description\": \"The image features an anime-style illustration of a red-haired female character with a determined expression. She is wearing a white Greek-style toga with a purple sash, which appears to be unraveling, and black and white armored gloves. The character has a red choker and earrings, and blood is visible on her shoulder. Behind her, a chaotic burst illustrates a dramatic scene with dark red visual effects that resemble flames or shards of destruction, contrasting against the brighter colors in the foreground. There is no text within the image itself.\",\n",
      "            \"Tags\": [\n",
      "                \"anime\",\n",
      "                \"book cover\",\n",
      "                \"Fate/Strange Fake\",\n",
      "                \"illustration\",\n",
      "                \"red-haired anime character\"\n",
      "            ]\n",
      "        }\n",
      "    ]\n",
      "}\n"
     ]
    }
   ],
   "source": [
    "print(json.dumps(json.loads(result), indent=4))"
   ]
  },
  {
   "cell_type": "code",
   "execution_count": null,
   "metadata": {},
   "outputs": [],
   "source": []
  },
  {
   "cell_type": "code",
   "execution_count": null,
   "metadata": {},
   "outputs": [],
   "source": []
  }
 ],
 "metadata": {
  "kernelspec": {
   "display_name": "openai",
   "language": "python",
   "name": "python3"
  },
  "language_info": {
   "codemirror_mode": {
    "name": "ipython",
    "version": 3
   },
   "file_extension": ".py",
   "mimetype": "text/x-python",
   "name": "python",
   "nbconvert_exporter": "python",
   "pygments_lexer": "ipython3",
   "version": "3.10.8"
  }
 },
 "nbformat": 4,
 "nbformat_minor": 2
}
